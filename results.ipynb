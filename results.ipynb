{
 "cells": [
  {
   "cell_type": "code",
   "execution_count": 27,
   "id": "00f21a86-3256-4e3e-8bf2-2d3185bda865",
   "metadata": {},
   "outputs": [],
   "source": [
    "import numpy as np\n",
    "import random\n",
    "import sys, os\n",
    "import torch as t\n",
    "\n",
    "def set_all_seeds(seed):\n",
    "    random.seed(seed)\n",
    "    os.environ['PYTHONHASHSEED'] = str(seed)\n",
    "    np.random.seed(seed)\n",
    "    t.manual_seed(seed)\n",
    "    t.cuda.manual_seed(seed)\n",
    "    t.backends.cudnn.deterministic = True\n",
    "    t.backends.cudnn.benchmark = True\n",
    "    \n",
    "set_all_seeds(0)"
   ]
  },
  {
   "cell_type": "code",
   "execution_count": 28,
   "id": "6c23def6-506a-4083-8b95-55df3c7ffdc3",
   "metadata": {},
   "outputs": [],
   "source": [
    "import matplotlib.pyplot as plt\n",
    "import seaborn as sns"
   ]
  },
  {
   "cell_type": "code",
   "execution_count": 29,
   "id": "7e702311-ff92-42fe-9a6b-7afbafa567ad",
   "metadata": {},
   "outputs": [],
   "source": [
    "import feature_corrs\n",
    "import pandas as pd"
   ]
  },
  {
   "cell_type": "code",
   "execution_count": 30,
   "id": "309b71cc-ad61-412a-8708-8cecb3e2f3e7",
   "metadata": {},
   "outputs": [],
   "source": [
    "from datasets import load_dataset, Dataset"
   ]
  },
  {
   "cell_type": "code",
   "execution_count": 31,
   "id": "64ceae90-339e-4b11-8499-49fab5e6cd98",
   "metadata": {},
   "outputs": [],
   "source": [
    "from sae_lens import (\n",
    "    SAE,\n",
    "    ActivationsStore,\n",
    "    HookedSAETransformer,\n",
    "    LanguageModelSAERunnerConfig,\n",
    "    SAEConfig,\n",
    "    SAETrainingRunner,\n",
    "    upload_saes_to_huggingface,\n",
    ")"
   ]
  },
  {
   "cell_type": "code",
   "execution_count": 32,
   "id": "3d368424-bd9f-40e3-9386-fec4419eefc8",
   "metadata": {},
   "outputs": [],
   "source": [
    "import pandas as pd"
   ]
  },
  {
   "cell_type": "markdown",
   "id": "21218a10-099b-429d-a98e-03559905a4b4",
   "metadata": {},
   "source": [
    "## display configuration"
   ]
  },
  {
   "cell_type": "code",
   "execution_count": 42,
   "id": "4bd651dd-14f1-42ae-b5d9-cd55be14a744",
   "metadata": {},
   "outputs": [],
   "source": [
    "from IPython.display import HTML, IFrame, clear_output, display\n",
    "from sae_lens.toolkit.pretrained_saes_directory import get_pretrained_saes_directory"
   ]
  },
  {
   "cell_type": "code",
   "execution_count": 45,
   "id": "e957c842-fc79-4045-af74-3636a6b63880",
   "metadata": {},
   "outputs": [],
   "source": [
    "def display_dashboard(\n",
    "    sae_release=\"gpt2-small-res-jb\",\n",
    "    layer=7,\n",
    "    latent_idx=0,\n",
    "    width=800,\n",
    "    height=600,\n",
    "    lt = 'pre'\n",
    "):\n",
    "    sae_id = f\"blocks.{layer}.hook_resid_{lt}\"\n",
    "    release = get_pretrained_saes_directory()[sae_release]\n",
    "    print(release)\n",
    "    neuronpedia_id = release.neuronpedia_id[sae_id]\n",
    "    print(neuronpedia_id)\n",
    "\n",
    "    url = f\"https://neuronpedia.org/{neuronpedia_id}/{latent_idx}?embed=true&embedexplanation=true&embedplots=true&embedtest=true&height=300\"\n",
    "\n",
    "    print(url)\n",
    "    display(IFrame(url, width=width, height=height))\n",
    "\n",
    "\n",
    "latent_idx = 228\n",
    "#display_dashboard(layer=7, latent_idx=latent_idx)"
   ]
  },
  {
   "cell_type": "markdown",
   "id": "fe964bba-f3d0-46da-be35-45a10657848e",
   "metadata": {
    "tags": []
   },
   "source": [
    "## loading dataset"
   ]
  },
  {
   "cell_type": "code",
   "execution_count": null,
   "id": "2f66f98c-c623-4fb4-b62a-12ab11644c1b",
   "metadata": {},
   "outputs": [],
   "source": []
  },
  {
   "cell_type": "code",
   "execution_count": 98,
   "id": "64c7879d-30e2-49a6-a39a-8164d171bb1a",
   "metadata": {},
   "outputs": [
    {
     "ename": "IndexError",
     "evalue": "Index 49999 out of range for dataset of size 25000.",
     "output_type": "error",
     "traceback": [
      "\u001b[0;31m---------------------------------------------------------------------------\u001b[0m",
      "\u001b[0;31mIndexError\u001b[0m                                Traceback (most recent call last)",
      "\u001b[0;32m/tmp/ipykernel_1480316/949955966.py\u001b[0m in \u001b[0;36m<module>\u001b[0;34m\u001b[0m\n\u001b[1;32m      3\u001b[0m \u001b[0mbatch_size\u001b[0m \u001b[0;34m=\u001b[0m \u001b[0;36m8\u001b[0m\u001b[0;34m\u001b[0m\u001b[0;34m\u001b[0m\u001b[0m\n\u001b[1;32m      4\u001b[0m \u001b[0mmax_length\u001b[0m \u001b[0;34m=\u001b[0m \u001b[0;36m20\u001b[0m\u001b[0;34m\u001b[0m\u001b[0;34m\u001b[0m\u001b[0m\n\u001b[0;32m----> 5\u001b[0;31m \u001b[0mimdb_subset\u001b[0m \u001b[0;34m=\u001b[0m \u001b[0mimdb_dataset\u001b[0m\u001b[0;34m.\u001b[0m\u001b[0mshuffle\u001b[0m\u001b[0;34m(\u001b[0m\u001b[0mseed\u001b[0m\u001b[0;34m=\u001b[0m\u001b[0;36m0\u001b[0m\u001b[0;34m)\u001b[0m\u001b[0;34m.\u001b[0m\u001b[0mselect\u001b[0m\u001b[0;34m(\u001b[0m\u001b[0mrange\u001b[0m\u001b[0;34m(\u001b[0m\u001b[0msubset_size\u001b[0m\u001b[0;34m)\u001b[0m\u001b[0;34m)\u001b[0m\u001b[0;34m\u001b[0m\u001b[0;34m\u001b[0m\u001b[0m\n\u001b[0m",
      "\u001b[0;32m~/.local/lib/python3.10/site-packages/datasets/arrow_dataset.py\u001b[0m in \u001b[0;36mwrapper\u001b[0;34m(*args, **kwargs)\u001b[0m\n\u001b[1;32m    565\u001b[0m         }\n\u001b[1;32m    566\u001b[0m         \u001b[0;31m# apply actual function\u001b[0m\u001b[0;34m\u001b[0m\u001b[0;34m\u001b[0m\u001b[0m\n\u001b[0;32m--> 567\u001b[0;31m         \u001b[0mout\u001b[0m\u001b[0;34m:\u001b[0m \u001b[0mUnion\u001b[0m\u001b[0;34m[\u001b[0m\u001b[0;34m\"Dataset\"\u001b[0m\u001b[0;34m,\u001b[0m \u001b[0;34m\"DatasetDict\"\u001b[0m\u001b[0;34m]\u001b[0m \u001b[0;34m=\u001b[0m \u001b[0mfunc\u001b[0m\u001b[0;34m(\u001b[0m\u001b[0mself\u001b[0m\u001b[0;34m,\u001b[0m \u001b[0;34m*\u001b[0m\u001b[0margs\u001b[0m\u001b[0;34m,\u001b[0m \u001b[0;34m**\u001b[0m\u001b[0mkwargs\u001b[0m\u001b[0;34m)\u001b[0m\u001b[0;34m\u001b[0m\u001b[0;34m\u001b[0m\u001b[0m\n\u001b[0m\u001b[1;32m    568\u001b[0m         \u001b[0mdatasets\u001b[0m\u001b[0;34m:\u001b[0m \u001b[0mList\u001b[0m\u001b[0;34m[\u001b[0m\u001b[0;34m\"Dataset\"\u001b[0m\u001b[0;34m]\u001b[0m \u001b[0;34m=\u001b[0m \u001b[0mlist\u001b[0m\u001b[0;34m(\u001b[0m\u001b[0mout\u001b[0m\u001b[0;34m.\u001b[0m\u001b[0mvalues\u001b[0m\u001b[0;34m(\u001b[0m\u001b[0;34m)\u001b[0m\u001b[0;34m)\u001b[0m \u001b[0;32mif\u001b[0m \u001b[0misinstance\u001b[0m\u001b[0;34m(\u001b[0m\u001b[0mout\u001b[0m\u001b[0;34m,\u001b[0m \u001b[0mdict\u001b[0m\u001b[0;34m)\u001b[0m \u001b[0;32melse\u001b[0m \u001b[0;34m[\u001b[0m\u001b[0mout\u001b[0m\u001b[0;34m]\u001b[0m\u001b[0;34m\u001b[0m\u001b[0;34m\u001b[0m\u001b[0m\n\u001b[1;32m    569\u001b[0m         \u001b[0;31m# re-apply format to the output\u001b[0m\u001b[0;34m\u001b[0m\u001b[0;34m\u001b[0m\u001b[0m\n",
      "\u001b[0;32m~/.local/lib/python3.10/site-packages/datasets/fingerprint.py\u001b[0m in \u001b[0;36mwrapper\u001b[0;34m(*args, **kwargs)\u001b[0m\n\u001b[1;32m    480\u001b[0m             \u001b[0;31m# Call actual function\u001b[0m\u001b[0;34m\u001b[0m\u001b[0;34m\u001b[0m\u001b[0m\n\u001b[1;32m    481\u001b[0m \u001b[0;34m\u001b[0m\u001b[0m\n\u001b[0;32m--> 482\u001b[0;31m             \u001b[0mout\u001b[0m \u001b[0;34m=\u001b[0m \u001b[0mfunc\u001b[0m\u001b[0;34m(\u001b[0m\u001b[0mdataset\u001b[0m\u001b[0;34m,\u001b[0m \u001b[0;34m*\u001b[0m\u001b[0margs\u001b[0m\u001b[0;34m,\u001b[0m \u001b[0;34m**\u001b[0m\u001b[0mkwargs\u001b[0m\u001b[0;34m)\u001b[0m\u001b[0;34m\u001b[0m\u001b[0;34m\u001b[0m\u001b[0m\n\u001b[0m\u001b[1;32m    483\u001b[0m \u001b[0;34m\u001b[0m\u001b[0m\n\u001b[1;32m    484\u001b[0m             \u001b[0;31m# Update fingerprint of in-place transforms + update in-place history of transforms\u001b[0m\u001b[0;34m\u001b[0m\u001b[0;34m\u001b[0m\u001b[0m\n",
      "\u001b[0;32m~/.local/lib/python3.10/site-packages/datasets/arrow_dataset.py\u001b[0m in \u001b[0;36mselect\u001b[0;34m(self, indices, keep_in_memory, indices_cache_file_name, writer_batch_size, new_fingerprint)\u001b[0m\n\u001b[1;32m   3947\u001b[0m             \u001b[0;32mif\u001b[0m \u001b[0m_is_range_contiguous\u001b[0m\u001b[0;34m(\u001b[0m\u001b[0mindices\u001b[0m\u001b[0;34m)\u001b[0m \u001b[0;32mand\u001b[0m \u001b[0mindices\u001b[0m\u001b[0;34m.\u001b[0m\u001b[0mstart\u001b[0m \u001b[0;34m>=\u001b[0m \u001b[0;36m0\u001b[0m\u001b[0;34m:\u001b[0m\u001b[0;34m\u001b[0m\u001b[0;34m\u001b[0m\u001b[0m\n\u001b[1;32m   3948\u001b[0m                 \u001b[0mstart\u001b[0m\u001b[0;34m,\u001b[0m \u001b[0mlength\u001b[0m \u001b[0;34m=\u001b[0m \u001b[0mindices\u001b[0m\u001b[0;34m.\u001b[0m\u001b[0mstart\u001b[0m\u001b[0;34m,\u001b[0m \u001b[0mindices\u001b[0m\u001b[0;34m.\u001b[0m\u001b[0mstop\u001b[0m \u001b[0;34m-\u001b[0m \u001b[0mindices\u001b[0m\u001b[0;34m.\u001b[0m\u001b[0mstart\u001b[0m\u001b[0;34m\u001b[0m\u001b[0;34m\u001b[0m\u001b[0m\n\u001b[0;32m-> 3949\u001b[0;31m                 \u001b[0;32mreturn\u001b[0m \u001b[0mself\u001b[0m\u001b[0;34m.\u001b[0m\u001b[0m_select_contiguous\u001b[0m\u001b[0;34m(\u001b[0m\u001b[0mstart\u001b[0m\u001b[0;34m,\u001b[0m \u001b[0mlength\u001b[0m\u001b[0;34m,\u001b[0m \u001b[0mnew_fingerprint\u001b[0m\u001b[0;34m=\u001b[0m\u001b[0mnew_fingerprint\u001b[0m\u001b[0;34m)\u001b[0m\u001b[0;34m\u001b[0m\u001b[0;34m\u001b[0m\u001b[0m\n\u001b[0m\u001b[1;32m   3950\u001b[0m         \u001b[0;32melse\u001b[0m\u001b[0;34m:\u001b[0m\u001b[0;34m\u001b[0m\u001b[0;34m\u001b[0m\u001b[0m\n\u001b[1;32m   3951\u001b[0m             \u001b[0;32mtry\u001b[0m\u001b[0;34m:\u001b[0m\u001b[0;34m\u001b[0m\u001b[0;34m\u001b[0m\u001b[0m\n",
      "\u001b[0;32m~/.local/lib/python3.10/site-packages/datasets/arrow_dataset.py\u001b[0m in \u001b[0;36mwrapper\u001b[0;34m(*args, **kwargs)\u001b[0m\n\u001b[1;32m    565\u001b[0m         }\n\u001b[1;32m    566\u001b[0m         \u001b[0;31m# apply actual function\u001b[0m\u001b[0;34m\u001b[0m\u001b[0;34m\u001b[0m\u001b[0m\n\u001b[0;32m--> 567\u001b[0;31m         \u001b[0mout\u001b[0m\u001b[0;34m:\u001b[0m \u001b[0mUnion\u001b[0m\u001b[0;34m[\u001b[0m\u001b[0;34m\"Dataset\"\u001b[0m\u001b[0;34m,\u001b[0m \u001b[0;34m\"DatasetDict\"\u001b[0m\u001b[0;34m]\u001b[0m \u001b[0;34m=\u001b[0m \u001b[0mfunc\u001b[0m\u001b[0;34m(\u001b[0m\u001b[0mself\u001b[0m\u001b[0;34m,\u001b[0m \u001b[0;34m*\u001b[0m\u001b[0margs\u001b[0m\u001b[0;34m,\u001b[0m \u001b[0;34m**\u001b[0m\u001b[0mkwargs\u001b[0m\u001b[0;34m)\u001b[0m\u001b[0;34m\u001b[0m\u001b[0;34m\u001b[0m\u001b[0m\n\u001b[0m\u001b[1;32m    568\u001b[0m         \u001b[0mdatasets\u001b[0m\u001b[0;34m:\u001b[0m \u001b[0mList\u001b[0m\u001b[0;34m[\u001b[0m\u001b[0;34m\"Dataset\"\u001b[0m\u001b[0;34m]\u001b[0m \u001b[0;34m=\u001b[0m \u001b[0mlist\u001b[0m\u001b[0;34m(\u001b[0m\u001b[0mout\u001b[0m\u001b[0;34m.\u001b[0m\u001b[0mvalues\u001b[0m\u001b[0;34m(\u001b[0m\u001b[0;34m)\u001b[0m\u001b[0;34m)\u001b[0m \u001b[0;32mif\u001b[0m \u001b[0misinstance\u001b[0m\u001b[0;34m(\u001b[0m\u001b[0mout\u001b[0m\u001b[0;34m,\u001b[0m \u001b[0mdict\u001b[0m\u001b[0;34m)\u001b[0m \u001b[0;32melse\u001b[0m \u001b[0;34m[\u001b[0m\u001b[0mout\u001b[0m\u001b[0;34m]\u001b[0m\u001b[0;34m\u001b[0m\u001b[0;34m\u001b[0m\u001b[0m\n\u001b[1;32m    569\u001b[0m         \u001b[0;31m# re-apply format to the output\u001b[0m\u001b[0;34m\u001b[0m\u001b[0;34m\u001b[0m\u001b[0m\n",
      "\u001b[0;32m~/.local/lib/python3.10/site-packages/datasets/fingerprint.py\u001b[0m in \u001b[0;36mwrapper\u001b[0;34m(*args, **kwargs)\u001b[0m\n\u001b[1;32m    480\u001b[0m             \u001b[0;31m# Call actual function\u001b[0m\u001b[0;34m\u001b[0m\u001b[0;34m\u001b[0m\u001b[0m\n\u001b[1;32m    481\u001b[0m \u001b[0;34m\u001b[0m\u001b[0m\n\u001b[0;32m--> 482\u001b[0;31m             \u001b[0mout\u001b[0m \u001b[0;34m=\u001b[0m \u001b[0mfunc\u001b[0m\u001b[0;34m(\u001b[0m\u001b[0mdataset\u001b[0m\u001b[0;34m,\u001b[0m \u001b[0;34m*\u001b[0m\u001b[0margs\u001b[0m\u001b[0;34m,\u001b[0m \u001b[0;34m**\u001b[0m\u001b[0mkwargs\u001b[0m\u001b[0;34m)\u001b[0m\u001b[0;34m\u001b[0m\u001b[0;34m\u001b[0m\u001b[0m\n\u001b[0m\u001b[1;32m    483\u001b[0m \u001b[0;34m\u001b[0m\u001b[0m\n\u001b[1;32m    484\u001b[0m             \u001b[0;31m# Update fingerprint of in-place transforms + update in-place history of transforms\u001b[0m\u001b[0;34m\u001b[0m\u001b[0;34m\u001b[0m\u001b[0m\n",
      "\u001b[0;32m~/.local/lib/python3.10/site-packages/datasets/arrow_dataset.py\u001b[0m in \u001b[0;36m_select_contiguous\u001b[0;34m(self, start, length, new_fingerprint)\u001b[0m\n\u001b[1;32m   4008\u001b[0m \u001b[0;34m\u001b[0m\u001b[0m\n\u001b[1;32m   4009\u001b[0m         \u001b[0m_check_valid_indices_value\u001b[0m\u001b[0;34m(\u001b[0m\u001b[0mstart\u001b[0m\u001b[0;34m,\u001b[0m \u001b[0mlen\u001b[0m\u001b[0;34m(\u001b[0m\u001b[0mself\u001b[0m\u001b[0;34m)\u001b[0m\u001b[0;34m)\u001b[0m\u001b[0;34m\u001b[0m\u001b[0;34m\u001b[0m\u001b[0m\n\u001b[0;32m-> 4010\u001b[0;31m         \u001b[0m_check_valid_indices_value\u001b[0m\u001b[0;34m(\u001b[0m\u001b[0mstart\u001b[0m \u001b[0;34m+\u001b[0m \u001b[0mlength\u001b[0m \u001b[0;34m-\u001b[0m \u001b[0;36m1\u001b[0m\u001b[0;34m,\u001b[0m \u001b[0mlen\u001b[0m\u001b[0;34m(\u001b[0m\u001b[0mself\u001b[0m\u001b[0;34m)\u001b[0m\u001b[0;34m)\u001b[0m\u001b[0;34m\u001b[0m\u001b[0;34m\u001b[0m\u001b[0m\n\u001b[0m\u001b[1;32m   4011\u001b[0m         \u001b[0;32mif\u001b[0m \u001b[0mself\u001b[0m\u001b[0;34m.\u001b[0m\u001b[0m_indices\u001b[0m \u001b[0;32mis\u001b[0m \u001b[0;32mNone\u001b[0m \u001b[0;32mor\u001b[0m \u001b[0mlength\u001b[0m \u001b[0;34m==\u001b[0m \u001b[0;36m0\u001b[0m\u001b[0;34m:\u001b[0m\u001b[0;34m\u001b[0m\u001b[0;34m\u001b[0m\u001b[0m\n\u001b[1;32m   4012\u001b[0m             return Dataset(\n",
      "\u001b[0;32m~/.local/lib/python3.10/site-packages/datasets/arrow_dataset.py\u001b[0m in \u001b[0;36m_check_valid_indices_value\u001b[0;34m(index, size)\u001b[0m\n\u001b[1;32m    657\u001b[0m \u001b[0;32mdef\u001b[0m \u001b[0m_check_valid_indices_value\u001b[0m\u001b[0;34m(\u001b[0m\u001b[0mindex\u001b[0m\u001b[0;34m,\u001b[0m \u001b[0msize\u001b[0m\u001b[0;34m)\u001b[0m\u001b[0;34m:\u001b[0m\u001b[0;34m\u001b[0m\u001b[0;34m\u001b[0m\u001b[0m\n\u001b[1;32m    658\u001b[0m     \u001b[0;32mif\u001b[0m \u001b[0;34m(\u001b[0m\u001b[0mindex\u001b[0m \u001b[0;34m<\u001b[0m \u001b[0;36m0\u001b[0m \u001b[0;32mand\u001b[0m \u001b[0mindex\u001b[0m \u001b[0;34m+\u001b[0m \u001b[0msize\u001b[0m \u001b[0;34m<\u001b[0m \u001b[0;36m0\u001b[0m\u001b[0;34m)\u001b[0m \u001b[0;32mor\u001b[0m \u001b[0;34m(\u001b[0m\u001b[0mindex\u001b[0m \u001b[0;34m>=\u001b[0m \u001b[0msize\u001b[0m\u001b[0;34m)\u001b[0m\u001b[0;34m:\u001b[0m\u001b[0;34m\u001b[0m\u001b[0;34m\u001b[0m\u001b[0m\n\u001b[0;32m--> 659\u001b[0;31m         \u001b[0;32mraise\u001b[0m \u001b[0mIndexError\u001b[0m\u001b[0;34m(\u001b[0m\u001b[0;34mf\"Index {index} out of range for dataset of size {size}.\"\u001b[0m\u001b[0;34m)\u001b[0m\u001b[0;34m\u001b[0m\u001b[0;34m\u001b[0m\u001b[0m\n\u001b[0m\u001b[1;32m    660\u001b[0m \u001b[0;34m\u001b[0m\u001b[0m\n\u001b[1;32m    661\u001b[0m \u001b[0;34m\u001b[0m\u001b[0m\n",
      "\u001b[0;31mIndexError\u001b[0m: Index 49999 out of range for dataset of size 25000."
     ]
    }
   ],
   "source": [
    "imdb_dataset = load_dataset(\"stanfordnlp/imdb\", split=\"train\")\n",
    "subset_size = 50000\n",
    "batch_size = 8\n",
    "max_length = 20\n",
    "imdb_subset = imdb_dataset.shuffle(seed=0).select(range(subset_size))"
   ]
  },
  {
   "cell_type": "code",
   "execution_count": 1,
   "id": "71687cb4-191d-42fa-9fb3-aa0401dc9b08",
   "metadata": {},
   "outputs": [
    {
     "ename": "NameError",
     "evalue": "name 'imdb_dataset' is not defined",
     "output_type": "error",
     "traceback": [
      "\u001b[0;31m---------------------------------------------------------------------------\u001b[0m",
      "\u001b[0;31mNameError\u001b[0m                                 Traceback (most recent call last)",
      "\u001b[0;32m/tmp/ipykernel_1471024/3240337609.py\u001b[0m in \u001b[0;36m<module>\u001b[0;34m\u001b[0m\n\u001b[0;32m----> 1\u001b[0;31m \u001b[0mimdb_dataset\u001b[0m\u001b[0;34m.\u001b[0m\u001b[0mshuffle\u001b[0m\u001b[0;34m(\u001b[0m\u001b[0;34m)\u001b[0m\u001b[0;34m[\u001b[0m\u001b[0;36m0\u001b[0m\u001b[0;34m]\u001b[0m\u001b[0;34m\u001b[0m\u001b[0;34m\u001b[0m\u001b[0m\n\u001b[0m",
      "\u001b[0;31mNameError\u001b[0m: name 'imdb_dataset' is not defined"
     ]
    }
   ],
   "source": [
    "imdb_dataset.shuffle()[0]"
   ]
  },
  {
   "cell_type": "code",
   "execution_count": 133,
   "id": "b7f26237-5673-4662-853d-30e248ad778f",
   "metadata": {},
   "outputs": [
    {
     "data": {
      "text/plain": [
       "\"The first time I saw this film, I loved it. It was different.<br /><br />I am a Christian (Bible believing). I don't go along with the crowd of right wing believers. I dropped out of that atmosphere.<br /><br />To me in their attempts to take over our government they are doing what Judas tried to do. I call it the Judas Syndrome.<br /><br />Judas didn't get it, even though Jesus said his Kingdom was not of this world.<br /><br />This film certainly showed some of that.<br /><br />I also liked that Jesus enjoyed the simple pleasure of playing games and jokes with his disciples.<br /><br />Also he was a very gorgeous Jesus.<br /><br />It's a watch-over and over movie.<br /><br />Very satisfying.\""
      ]
     },
     "execution_count": 133,
     "metadata": {},
     "output_type": "execute_result"
    }
   ],
   "source": [
    "imdb_dataset.shuffle().select(range(subset_size)).select(range(subset_size))['text'][0]"
   ]
  },
  {
   "cell_type": "code",
   "execution_count": 127,
   "id": "f8ff972a-4bbc-4166-9d3a-ec2d6246054b",
   "metadata": {},
   "outputs": [
    {
     "data": {
      "text/plain": [
       "'Never cast models and Playboy bunnies in your films! Bob Fosse\\'s \"Star 80\" about Dorothy Stratten, of whom Bogdanovich was obsessed enough to have married her SISTER after her murder at the hands of her low-life husband, is a zillion times more interesting than Dorothy herself on the silver screen. Patty Hansen is no actress either..I expected to see some sort of lost masterpiece a la Orson Welles but instead got Audrey Hepburn cavorting in jeans and a god-awful \"poodlesque\" hair-do....Very disappointing....\"Paper Moon\" and \"The Last Picture Show\" I could watch again and again. This clunker I could barely sit through once. This movie was reputedly not released because of the brouhaha surrounding Ms. Stratten\\'s tawdry death; I think the real reason was because it was so bad!'"
      ]
     },
     "execution_count": 127,
     "metadata": {},
     "output_type": "execute_result"
    }
   ],
   "source": [
    "imdb_subset['text'][12]"
   ]
  },
  {
   "cell_type": "markdown",
   "id": "3109260f-33b4-4d6a-b0d2-8407e30abd4b",
   "metadata": {
    "tags": []
   },
   "source": [
    "## importing and inspecting"
   ]
  },
  {
   "cell_type": "code",
   "execution_count": 36,
   "id": "1b906bf2-186b-474a-9d91-359b88f9b696",
   "metadata": {},
   "outputs": [],
   "source": [
    "diffs7 = np.load(\"diffs_blocks.7.hook_resid_pre.npy\")"
   ]
  },
  {
   "cell_type": "code",
   "execution_count": 23,
   "id": "40686176-15a5-4dc5-9175-36f9dc90805c",
   "metadata": {},
   "outputs": [
    {
     "name": "stderr",
     "output_type": "stream",
     "text": [
      "/home/users/sv226/.local/lib/python3.10/site-packages/matplotlib/projections/__init__.py:63: UserWarning: Unable to import Axes3D. This may be due to multiple versions of Matplotlib being installed (e.g. as a system package and as a pip package). As a result, the 3D projection is not available.\n",
      "  warnings.warn(\"Unable to import Axes3D. This may be due to multiple versions of \"\n"
     ]
    }
   ],
   "source": [
    "import matplotlib.pyplot as plt"
   ]
  },
  {
   "cell_type": "code",
   "execution_count": 28,
   "id": "109286bd-b41a-4fa3-842a-3b8d074f52cb",
   "metadata": {},
   "outputs": [
    {
     "data": {
      "text/plain": [
       "<matplotlib.image.AxesImage at 0x7f1413c3ef50>"
      ]
     },
     "execution_count": 28,
     "metadata": {},
     "output_type": "execute_result"
    },
    {
     "data": {
      "image/png": "[encoded data removed]",
      "text/plain": [
       "<Figure size 640x480 with 1 Axes>"
      ]
     },
     "metadata": {},
     "output_type": "display_data"
    }
   ],
   "source": [
    "plt.imshow(diffs7[:20,1:])"
   ]
  },
  {
   "cell_type": "code",
   "execution_count": 34,
   "id": "1768b221-604f-4a61-ba67-0769437cf48d",
   "metadata": {},
   "outputs": [],
   "source": [
    "diffs8 = np.load(\"diffs_blocks.8.hook_resid_pre.npy\")"
   ]
  },
  {
   "cell_type": "code",
   "execution_count": 41,
   "id": "27b89fd9-fa8c-4e45-87f1-c6e8ad308b8e",
   "metadata": {},
   "outputs": [
    {
     "data": {
      "text/plain": [
       "array([1108.5535  ,   34.405243,   20.875195,   56.34616 ,   44.779182,\n",
       "         27.647322,   33.601475,   43.624973,   40.8872  ,   29.786343,\n",
       "         39.27654 ,   49.949825,   32.98101 ,   27.915873,   45.136875,\n",
       "         32.50765 ,   35.582756,   20.40806 ,   37.275017,   28.007952],\n",
       "      dtype=float32)"
      ]
     },
     "execution_count": 41,
     "metadata": {},
     "output_type": "execute_result"
    }
   ],
   "source": [
    "diffs7[2]"
   ]
  },
  {
   "cell_type": "code",
   "execution_count": 42,
   "id": "04fb2694-896d-43b2-941a-623bf590a95e",
   "metadata": {},
   "outputs": [
    {
     "data": {
      "text/plain": [
       "array([1106.587   ,   39.16715 ,   36.737274,   39.831062,   44.305702,\n",
       "         36.23438 ,   58.193222,   38.234432,   29.73148 ,   45.70475 ,\n",
       "         30.433235,   47.00953 ,   17.410069,   47.778362,   35.58739 ,\n",
       "         28.32014 ,   30.527891,   31.455044,   29.543417,   19.660187],\n",
       "      dtype=float32)"
      ]
     },
     "execution_count": 42,
     "metadata": {},
     "output_type": "execute_result"
    }
   ],
   "source": [
    "diffs8[2]"
   ]
  },
  {
   "cell_type": "code",
   "execution_count": 163,
   "id": "66777535-b984-44a4-9504-4e6e7884af2c",
   "metadata": {},
   "outputs": [],
   "source": [
    "codes7 = np.load(\"codes_blocks.7.hook_resid_pre.npy\")"
   ]
  },
  {
   "cell_type": "code",
   "execution_count": 164,
   "id": "ba2f656a-3b96-4166-87b7-8b66fd855102",
   "metadata": {},
   "outputs": [],
   "source": [
    "codes8 = np.load(\"codes_blocks.8.hook_resid_pre.npy\")"
   ]
  },
  {
   "cell_type": "code",
   "execution_count": null,
   "id": "e7b7494a-2c45-429e-b529-1907709ed216",
   "metadata": {},
   "outputs": [],
   "source": []
  },
  {
   "cell_type": "code",
   "execution_count": 186,
   "id": "8c8ea0ee-ed18-4c31-ba29-a3116f678eba",
   "metadata": {},
   "outputs": [
    {
     "name": "stderr",
     "output_type": "stream",
     "text": [
      "/home/users/sv226/.local/lib/python3.10/site-packages/numpy/lib/function_base.py:2897: RuntimeWarning: invalid value encountered in divide\n",
      "  c /= stddev[:, None]\n",
      "/home/users/sv226/.local/lib/python3.10/site-packages/numpy/lib/function_base.py:2898: RuntimeWarning: invalid value encountered in divide\n",
      "  c /= stddev[None, :]\n"
     ]
    },
    {
     "name": "stdout",
     "output_type": "stream",
     "text": [
      "7_0, 8_24: corr = 0.12789896816880433\n",
      "7_0, 8_47: corr = 0.10417915544280126\n",
      "7_0, 8_220: corr = 0.14956274884328344\n",
      "7_0, 8_281: corr = 0.12318560141063493\n",
      "7_0, 8_364: corr = 0.13307153676447606\n",
      "7_0, 8_367: corr = 0.10449197460037613\n",
      "7_1, 8_45: corr = 0.10812350987273861\n",
      "7_1, 8_90: corr = 0.4045587210236126\n",
      "7_1, 8_194: corr = 0.7211257380715499\n",
      "7_1, 8_331: corr = 0.35801686482632183\n",
      "7_1, 8_395: corr = 0.3454310000134285\n",
      "7_1, 8_455: corr = 0.1051609485071253\n",
      "7_2, 8_73: corr = 0.31750101020252436\n",
      "7_2, 8_216: corr = 0.2703866798259696\n",
      "7_3, 8_123: corr = 0.24519168964954743\n",
      "7_3, 8_134: corr = 0.5143298136683208\n",
      "7_3, 8_253: corr = 0.24176684448696825\n",
      "7_3, 8_310: corr = 0.12790143339473378\n",
      "7_4, 8_8: corr = 0.13057378929067257\n"
     ]
    },
    {
     "ename": "KeyboardInterrupt",
     "evalue": "",
     "output_type": "error",
     "traceback": [
      "\u001b[0;31m---------------------------------------------------------------------------\u001b[0m",
      "\u001b[0;31mKeyboardInterrupt\u001b[0m                         Traceback (most recent call last)",
      "\u001b[0;32m/tmp/ipykernel_1429865/726100081.py\u001b[0m in \u001b[0;36m<module>\u001b[0;34m\u001b[0m\n\u001b[1;32m      1\u001b[0m \u001b[0;32mfor\u001b[0m \u001b[0mi\u001b[0m \u001b[0;32min\u001b[0m \u001b[0mrange\u001b[0m\u001b[0;34m(\u001b[0m\u001b[0mcodes7\u001b[0m\u001b[0;34m.\u001b[0m\u001b[0mshape\u001b[0m\u001b[0;34m[\u001b[0m\u001b[0;34m-\u001b[0m\u001b[0;36m1\u001b[0m\u001b[0;34m]\u001b[0m\u001b[0;34m)\u001b[0m\u001b[0;34m:\u001b[0m\u001b[0;34m\u001b[0m\u001b[0;34m\u001b[0m\u001b[0m\n\u001b[1;32m      2\u001b[0m     \u001b[0;32mfor\u001b[0m \u001b[0mj\u001b[0m \u001b[0;32min\u001b[0m \u001b[0mrange\u001b[0m\u001b[0;34m(\u001b[0m\u001b[0mcodes8\u001b[0m\u001b[0;34m.\u001b[0m\u001b[0mshape\u001b[0m\u001b[0;34m[\u001b[0m\u001b[0;34m-\u001b[0m\u001b[0;36m1\u001b[0m\u001b[0;34m]\u001b[0m\u001b[0;34m)\u001b[0m\u001b[0;34m:\u001b[0m\u001b[0;34m\u001b[0m\u001b[0;34m\u001b[0m\u001b[0m\n\u001b[0;32m----> 3\u001b[0;31m         \u001b[0mx\u001b[0m \u001b[0;34m=\u001b[0m \u001b[0mcodes7\u001b[0m\u001b[0;34m.\u001b[0m\u001b[0mmean\u001b[0m\u001b[0;34m(\u001b[0m\u001b[0maxis\u001b[0m \u001b[0;34m=\u001b[0m \u001b[0;36m1\u001b[0m\u001b[0;34m)\u001b[0m\u001b[0;34m[\u001b[0m\u001b[0;34m:\u001b[0m\u001b[0;34m,\u001b[0m\u001b[0mi\u001b[0m\u001b[0;34m]\u001b[0m\u001b[0;34m\u001b[0m\u001b[0;34m\u001b[0m\u001b[0m\n\u001b[0m\u001b[1;32m      4\u001b[0m         \u001b[0my\u001b[0m \u001b[0;34m=\u001b[0m \u001b[0mcodes8\u001b[0m\u001b[0;34m.\u001b[0m\u001b[0mmean\u001b[0m\u001b[0;34m(\u001b[0m\u001b[0maxis\u001b[0m \u001b[0;34m=\u001b[0m \u001b[0;36m1\u001b[0m\u001b[0;34m)\u001b[0m\u001b[0;34m[\u001b[0m\u001b[0;34m:\u001b[0m\u001b[0;34m,\u001b[0m\u001b[0mj\u001b[0m\u001b[0;34m]\u001b[0m\u001b[0;34m\u001b[0m\u001b[0;34m\u001b[0m\u001b[0m\n\u001b[1;32m      5\u001b[0m         \u001b[0mcorr\u001b[0m \u001b[0;34m=\u001b[0m \u001b[0mnp\u001b[0m\u001b[0;34m.\u001b[0m\u001b[0mcorrcoef\u001b[0m\u001b[0;34m(\u001b[0m\u001b[0;34m[\u001b[0m\u001b[0mx\u001b[0m\u001b[0;34m,\u001b[0m\u001b[0my\u001b[0m\u001b[0;34m]\u001b[0m\u001b[0;34m)\u001b[0m\u001b[0;34m[\u001b[0m\u001b[0;36m0\u001b[0m\u001b[0;34m]\u001b[0m\u001b[0;34m[\u001b[0m\u001b[0;36m1\u001b[0m\u001b[0;34m]\u001b[0m\u001b[0;34m\u001b[0m\u001b[0;34m\u001b[0m\u001b[0m\n",
      "\u001b[0;32m~/.local/lib/python3.10/site-packages/numpy/core/_methods.py\u001b[0m in \u001b[0;36m_mean\u001b[0;34m(a, axis, dtype, out, keepdims, where)\u001b[0m\n\u001b[1;32m    116\u001b[0m             \u001b[0mis_float16_result\u001b[0m \u001b[0;34m=\u001b[0m \u001b[0;32mTrue\u001b[0m\u001b[0;34m\u001b[0m\u001b[0;34m\u001b[0m\u001b[0m\n\u001b[1;32m    117\u001b[0m \u001b[0;34m\u001b[0m\u001b[0m\n\u001b[0;32m--> 118\u001b[0;31m     \u001b[0mret\u001b[0m \u001b[0;34m=\u001b[0m \u001b[0mumr_sum\u001b[0m\u001b[0;34m(\u001b[0m\u001b[0marr\u001b[0m\u001b[0;34m,\u001b[0m \u001b[0maxis\u001b[0m\u001b[0;34m,\u001b[0m \u001b[0mdtype\u001b[0m\u001b[0;34m,\u001b[0m \u001b[0mout\u001b[0m\u001b[0;34m,\u001b[0m \u001b[0mkeepdims\u001b[0m\u001b[0;34m,\u001b[0m \u001b[0mwhere\u001b[0m\u001b[0;34m=\u001b[0m\u001b[0mwhere\u001b[0m\u001b[0;34m)\u001b[0m\u001b[0;34m\u001b[0m\u001b[0;34m\u001b[0m\u001b[0m\n\u001b[0m\u001b[1;32m    119\u001b[0m     \u001b[0;32mif\u001b[0m \u001b[0misinstance\u001b[0m\u001b[0;34m(\u001b[0m\u001b[0mret\u001b[0m\u001b[0;34m,\u001b[0m \u001b[0mmu\u001b[0m\u001b[0;34m.\u001b[0m\u001b[0mndarray\u001b[0m\u001b[0;34m)\u001b[0m\u001b[0;34m:\u001b[0m\u001b[0;34m\u001b[0m\u001b[0;34m\u001b[0m\u001b[0m\n\u001b[1;32m    120\u001b[0m         \u001b[0;32mwith\u001b[0m \u001b[0m_no_nep50_warning\u001b[0m\u001b[0;34m(\u001b[0m\u001b[0;34m)\u001b[0m\u001b[0;34m:\u001b[0m\u001b[0;34m\u001b[0m\u001b[0;34m\u001b[0m\u001b[0m\n",
      "\u001b[0;31mKeyboardInterrupt\u001b[0m: "
     ]
    }
   ],
   "source": [
    "for i in range(codes7.shape[-1]):\n",
    "    for j in range(codes8.shape[-1]):\n",
    "        x = codes7.mean(axis = 1)[:,i]\n",
    "        y = codes8.mean(axis = 1)[:,j]\n",
    "        corr = np.corrcoef([x,y])[0][1]  \n",
    "        if corr > 0.1:\n",
    "            print(f\"7_{i}, 8_{j}: corr = {corr}\")\n",
    "               "
   ]
  },
  {
   "cell_type": "code",
   "execution_count": 183,
   "id": "f8c26a7e-413f-427d-b8cb-1e627c77fe13",
   "metadata": {},
   "outputs": [
    {
     "data": {
      "text/plain": [
       "-0.0012963767449832146"
      ]
     },
     "execution_count": 183,
     "metadata": {},
     "output_type": "execute_result"
    }
   ],
   "source": [
    "corr"
   ]
  },
  {
   "cell_type": "code",
   "execution_count": 61,
   "id": "3fd2522d-7c42-40f5-81d4-f5e26beaed62",
   "metadata": {},
   "outputs": [
    {
     "data": {
      "text/plain": [
       "(array([228, 248]),)"
      ]
     },
     "execution_count": 61,
     "metadata": {},
     "output_type": "execute_result"
    }
   ],
   "source": [
    "codes7[0,6].nonzero()"
   ]
  },
  {
   "cell_type": "code",
   "execution_count": 175,
   "id": "fd553270-4e41-4051-b912-a5d380759338",
   "metadata": {},
   "outputs": [
    {
     "name": "stdout",
     "output_type": "stream",
     "text": [
      "Sorted latents: [(231, 6), (128, 2), (228, 2), (237, 2), (254, 2), (285, 2), (497, 2), (170, 1), (167, 1), (158, 1), (308, 1), (303, 1), (310, 1), (439, 1), (483, 1)]\n",
      "I liked how this started out, featuring some decent special-effects especially for a film 50 years old. There was some pretty impressive scenery. However, the film bogs down fairly early on with some very dumb dialog as the males all try to flirt with Anne Francis \"Altaira Morbius.\")<br /><br />Viewing this in the '90s after a long absence, it was fun to see Francis again, an actress who has done mostly television shows since this film was released....and is still acting. It also was interesting to see a young-looking Leslie Nielsen (\"Dr. John J. Adams\"), who I wouldn't have recognized had it not been for this voice <br /><br />I watched half of this movie before the boredom came almost overwhelming and I had a strong desire to go to sleep. I appreciated them re-doing this VHS tape in stereo. but it was a weak effort. This is one those overrated film where \"elites\" think is so \"heavy\" and \"thought-provoking.\" That's nonsense. It only appeared \"intelligent\" because the rest of the '50s sci-fi films were so stupid!!<br /><br />Some if the early scenes would have looked great on wideescreen, which I didn't have at the time of this writing. Perhaps another look - this time on the 2.35:1 widescreen transfer would make me change this review.\n"
     ]
    }
   ],
   "source": [
    "layer = 7\n",
    "batch_idx = 4\n",
    "codes = [codes7,codes8][layer-7]\n",
    "\n",
    "arr = codes[batch_idx].nonzero()[1]\n",
    "unique_elements, counts = np.unique(arr, return_counts=True)\n",
    "sorted_indices = np.argsort(-counts)\n",
    "sorted_unique_elements = unique_elements[sorted_indices]\n",
    "print(\"Sorted latents:\", [a for a in zip(sorted_unique_elements,counts[sorted_indices])])\n",
    "print(imdb_subset[batch_idx]['text'])"
   ]
  },
  {
   "cell_type": "code",
   "execution_count": 217,
   "id": "6ee0f3fd-a677-4372-8941-e8c91b24c3c8",
   "metadata": {},
   "outputs": [
    {
     "name": "stdout",
     "output_type": "stream",
     "text": [
      "https://neuronpedia.org/gpt2-small/7-res-jb/91?embed=true&embedexplanation=true&embedplots=true&embedtest=true&height=300\n"
     ]
    },
    {
     "data": {
      "text/html": [
       "\n",
       "        <iframe\n",
       "            width=\"800\"\n",
       "            height=\"600\"\n",
       "            src=\"https://neuronpedia.org/gpt2-small/7-res-jb/91?embed=true&embedexplanation=true&embedplots=true&embedtest=true&height=300\"\n",
       "            frameborder=\"0\"\n",
       "            allowfullscreen\n",
       "            \n",
       "        ></iframe>\n",
       "        "
      ],
      "text/plain": [
       "<IPython.lib.display.IFrame at 0x7f1300fb20b0>"
      ]
     },
     "metadata": {},
     "output_type": "display_data"
    }
   ],
   "source": [
    "display_dashboard(layer=7, latent_idx=91)"
   ]
  },
  {
   "cell_type": "code",
   "execution_count": 218,
   "id": "dbd53b64-3f64-4672-bc0c-a4840b537b6a",
   "metadata": {},
   "outputs": [
    {
     "name": "stdout",
     "output_type": "stream",
     "text": [
      "https://neuronpedia.org/gpt2-small/8-res-jb/355?embed=true&embedexplanation=true&embedplots=true&embedtest=true&height=300\n"
     ]
    },
    {
     "data": {
      "text/html": [
       "\n",
       "        <iframe\n",
       "            width=\"800\"\n",
       "            height=\"600\"\n",
       "            src=\"https://neuronpedia.org/gpt2-small/8-res-jb/355?embed=true&embedexplanation=true&embedplots=true&embedtest=true&height=300\"\n",
       "            frameborder=\"0\"\n",
       "            allowfullscreen\n",
       "            \n",
       "        ></iframe>\n",
       "        "
      ],
      "text/plain": [
       "<IPython.lib.display.IFrame at 0x7f1300fb0fa0>"
      ]
     },
     "metadata": {},
     "output_type": "display_data"
    }
   ],
   "source": [
    "display_dashboard(layer=8, latent_idx=355)"
   ]
  },
  {
   "cell_type": "code",
   "execution_count": 194,
   "id": "6b20b68c-2a5d-41cc-a3fa-71a4eb5377a5",
   "metadata": {},
   "outputs": [],
   "source": [
    "def vectorized_sparse_corr(T1: t.Tensor, T2: t.Tensor, threshold: float):\n",
    "    \"\"\"\n",
    "    Compute sparse correlation matrix between columns of T1 and T2\n",
    "    using vectorized operations.\n",
    "\n",
    "    Inputs:\n",
    "        T1: (B, D1) torch tensor\n",
    "        T2: (B, D2) torch tensor\n",
    "        threshold: float, minimum correlation to keep\n",
    "\n",
    "    Returns:\n",
    "        List of (i, j, corr_ij) where corr_ij > threshold\n",
    "    \"\"\"\n",
    "\n",
    "    if T1.ndim == 3:\n",
    "        T1 = T1.mean(dim=1)\n",
    "    if T2.ndim == 3:\n",
    "        T2 = T2.mean(dim=1)\n",
    "\n",
    "    B, D1 = T1.shape\n",
    "    D2 = T2.shape[1]\n",
    "\n",
    "    # Center the data (zero-mean across B)\n",
    "    T1_centered = T1 - T1.mean(dim=0, keepdim=True)\n",
    "    T2_centered = T2 - T2.mean(dim=0, keepdim=True)\n",
    "\n",
    "    # Normalize each column to unit norm (L2)\n",
    "    T1_norm = T1_centered.norm(dim=0, keepdim=True) + 1e-8  # (1, D1)\n",
    "    T2_norm = T2_centered.norm(dim=0, keepdim=True) + 1e-8  # (1, D2)\n",
    "\n",
    "    T1_normalized = T1_centered / T1_norm  # (B, D1)\n",
    "    T2_normalized = T2_centered / T2_norm  # (B, D2)\n",
    "\n",
    "    # Compute correlation matrix: (D1, D2)\n",
    "    corr_matrix = T1_normalized.T @ T2_normalized  # (D1, D2)\n",
    "\n",
    "    # Get indices where |corr| > threshold\n",
    "    mask = (corr_matrix.abs() > threshold)\n",
    "    coords = mask.nonzero(as_tuple=False)  # shape (N, 2)\n",
    "\n",
    "    result = [\n",
    "        (int(i), int(j), float(corr_matrix[i, j]))\n",
    "        for i, j in coords\n",
    "    ]\n",
    "\n",
    "    return result  # List of (i, j, correlation_ij)\n"
   ]
  },
  {
   "cell_type": "code",
   "execution_count": 195,
   "id": "3213dbdd-41e1-4ab3-b26d-956c54095ffe",
   "metadata": {},
   "outputs": [],
   "source": [
    "T1 = t.tensor(codes7.mean(axis = 1))\n",
    "T2 = t.tensor(codes8.mean(axis = 1))"
   ]
  },
  {
   "cell_type": "code",
   "execution_count": 196,
   "id": "43eb9c23-f4fc-4033-b449-7e72205f6efb",
   "metadata": {},
   "outputs": [],
   "source": [
    "corr = vectorized_sparse_corr(T1, T2, threshold = 0.9)"
   ]
  },
  {
   "cell_type": "code",
   "execution_count": 197,
   "id": "439232c4-4ff0-41a8-99ca-61b3d8c36070",
   "metadata": {},
   "outputs": [
    {
     "data": {
      "text/plain": [
       "[(75, 45, 0.9848563075065613),\n",
       " (91, 355, 0.9979999661445618),\n",
       " (139, 114, 0.929619312286377),\n",
       " (433, 436, 0.9361518621444702)]"
      ]
     },
     "execution_count": 197,
     "metadata": {},
     "output_type": "execute_result"
    }
   ],
   "source": [
    "corr"
   ]
  },
  {
   "cell_type": "code",
   "execution_count": 204,
   "id": "57887ea2-0b1f-4d2f-bfa2-15ce102aaa93",
   "metadata": {},
   "outputs": [],
   "source": [
    "b75, s75 = codes7[:,:,75].nonzero()\n",
    "b45, s45 = codes8[:,:,45].nonzero()"
   ]
  },
  {
   "cell_type": "code",
   "execution_count": 210,
   "id": "be12d668-9c88-4464-b144-5dfdebb20807",
   "metadata": {},
   "outputs": [
    {
     "data": {
      "text/plain": [
       "0.237012987012987"
      ]
     },
     "execution_count": 210,
     "metadata": {},
     "output_type": "execute_result"
    }
   ],
   "source": [
    "len(set(b75).intersection(set(b45))) / (b75.size + b45.size)"
   ]
  },
  {
   "cell_type": "code",
   "execution_count": 211,
   "id": "96739d58-e739-40ec-8f9c-7e3beed01619",
   "metadata": {},
   "outputs": [],
   "source": [
    "intersect = set(b75).intersection(set(b45))"
   ]
  },
  {
   "cell_type": "code",
   "execution_count": 216,
   "id": "8e1ad66a-58af-444e-9825-ad61dc47dbcc",
   "metadata": {
    "scrolled": true,
    "tags": []
   },
   "outputs": [
    {
     "name": "stdout",
     "output_type": "stream",
     "text": [
      "[4 5 6]\n",
      "[4 5 6]\n",
      "------\n",
      "[14 15 16]\n",
      "[14 15 16]\n",
      "------\n",
      "[4 5]\n",
      "[4 5]\n",
      "------\n",
      "[19]\n",
      "[19]\n",
      "------\n",
      "[ 3 18]\n",
      "[3]\n",
      "------\n",
      "[14]\n",
      "[14]\n",
      "------\n",
      "[14]\n",
      "[14]\n",
      "------\n",
      "[ 8  9 10]\n",
      "[8 9]\n",
      "------\n",
      "[18]\n",
      "[18]\n",
      "------\n",
      "[3 4]\n",
      "[3 4]\n",
      "------\n",
      "[8]\n",
      "[8]\n",
      "------\n",
      "[9]\n",
      "[9]\n",
      "------\n",
      "[7 8 9]\n",
      "[6 7 9]\n",
      "------\n",
      "[3 4 5]\n",
      "[3 4]\n",
      "------\n",
      "[16 17 18 19]\n",
      "[15 16 17]\n",
      "------\n",
      "[7 8]\n",
      "[8]\n",
      "------\n",
      "[18 19]\n",
      "[18]\n",
      "------\n",
      "[8]\n",
      "[8]\n",
      "------\n",
      "[15]\n",
      "[15 16]\n",
      "------\n",
      "[ 5 14 15]\n",
      "[14 15]\n",
      "------\n",
      "[12 13]\n",
      "[12 13]\n",
      "------\n",
      "[8 9]\n",
      "[8 9]\n",
      "------\n",
      "[4]\n",
      "[4]\n",
      "------\n",
      "[18]\n",
      "[18]\n",
      "------\n",
      "[14 15]\n",
      "[15]\n",
      "------\n",
      "[3 4 6]\n",
      "[3 4 6]\n",
      "------\n",
      "[2]\n",
      "[2]\n",
      "------\n",
      "[ 6  7  9 10 13]\n",
      "[6 7 9]\n",
      "------\n",
      "[14 15]\n",
      "[14]\n",
      "------\n",
      "[ 4 14 15]\n",
      "[ 4 14 15]\n",
      "------\n",
      "[4 5]\n",
      "[4 5]\n",
      "------\n",
      "[8 9]\n",
      "[8 9]\n",
      "------\n",
      "[3 4]\n",
      "[3 4]\n",
      "------\n",
      "[ 3  7  8  9 12 16 17]\n",
      "[ 3  7  8  9 16]\n",
      "------\n",
      "[5 6]\n",
      "[5]\n",
      "------\n",
      "[10]\n",
      "[10]\n",
      "------\n",
      "[5]\n",
      "[5]\n",
      "------\n",
      "[9]\n",
      "[9]\n",
      "------\n",
      "[10 11 16]\n",
      "[ 9 10 11]\n",
      "------\n",
      "[7]\n",
      "[7 8]\n",
      "------\n",
      "[2]\n",
      "[2]\n",
      "------\n",
      "[3 4]\n",
      "[3 4]\n",
      "------\n",
      "[3 7]\n",
      "[7]\n",
      "------\n",
      "[8]\n",
      "[8]\n",
      "------\n",
      "[18]\n",
      "[ 2 18]\n",
      "------\n",
      "[14]\n",
      "[14]\n",
      "------\n",
      "[3]\n",
      "[3]\n",
      "------\n",
      "[2 3 4 7 8]\n",
      "[3 4 7 8]\n",
      "------\n",
      "[11]\n",
      "[11]\n",
      "------\n",
      "[ 9 10]\n",
      "[ 9 10]\n",
      "------\n",
      "[3 4 9]\n",
      "[3 4]\n",
      "------\n",
      "[19]\n",
      "[19]\n",
      "------\n",
      "[2 3 5]\n",
      "[2 3]\n",
      "------\n",
      "[10]\n",
      "[10]\n",
      "------\n",
      "[17 18]\n",
      "[17 18]\n",
      "------\n",
      "[ 2  3  4 10 12]\n",
      "[ 2  3 12]\n",
      "------\n",
      "[18 19]\n",
      "[18 19]\n",
      "------\n",
      "[17 18]\n",
      "[17]\n",
      "------\n",
      "[ 8 11]\n",
      "[ 8  9 11]\n",
      "------\n",
      "[3 4]\n",
      "[3 4]\n",
      "------\n",
      "[15 16]\n",
      "[15 16]\n",
      "------\n",
      "[11]\n",
      "[11]\n",
      "------\n",
      "[ 9 10 17]\n",
      "[ 9 10]\n",
      "------\n",
      "[2]\n",
      "[2]\n",
      "------\n",
      "[9]\n",
      "[9]\n",
      "------\n",
      "[7]\n",
      "[7]\n",
      "------\n",
      "[16 17]\n",
      "[16 17]\n",
      "------\n",
      "[ 2  3  5 11]\n",
      "[2 3]\n",
      "------\n",
      "[10 11 16]\n",
      "[10 11]\n",
      "------\n",
      "[14 15]\n",
      "[14]\n",
      "------\n",
      "[11]\n",
      "[11]\n",
      "------\n",
      "[7 8]\n",
      "[7 8]\n",
      "------\n",
      "[3 4]\n",
      "[3 4]\n",
      "------\n",
      "[ 9 19]\n",
      "[18 19]\n",
      "------\n",
      "[6 7]\n",
      "[6 7]\n",
      "------\n",
      "[12 13 14 15 16]\n",
      "[12 13 14]\n",
      "------\n",
      "[2 3]\n",
      "[ 2  3 16]\n",
      "------\n",
      "[9]\n",
      "[8]\n",
      "------\n",
      "[13]\n",
      "[13]\n",
      "------\n",
      "[6 7]\n",
      "[6 7]\n",
      "------\n",
      "[14]\n",
      "[14]\n",
      "------\n",
      "[2 3 4 5 6 7]\n",
      "[2 3 4 5 6]\n",
      "------\n",
      "[11 12 14 15]\n",
      "[10 11 12 14 15]\n",
      "------\n",
      "[6]\n",
      "[6]\n",
      "------\n",
      "[5]\n",
      "[5]\n",
      "------\n",
      "[10]\n",
      "[9]\n",
      "------\n",
      "[ 5  6 11]\n",
      "[ 5  6 11]\n",
      "------\n",
      "[ 2  9 11]\n",
      "[2 8 9]\n",
      "------\n",
      "[9]\n",
      "[9]\n",
      "------\n",
      "[8 9]\n",
      "[8 9]\n",
      "------\n",
      "[ 7  8 11 12]\n",
      "[ 7  8 11]\n",
      "------\n",
      "[17]\n",
      "[17]\n",
      "------\n",
      "[11]\n",
      "[11]\n",
      "------\n",
      "[16]\n",
      "[16 17]\n",
      "------\n",
      "[8]\n",
      "[8]\n",
      "------\n",
      "[5]\n",
      "[5]\n",
      "------\n",
      "[5]\n",
      "[5]\n",
      "------\n",
      "[ 3  4 10]\n",
      "[3 4]\n",
      "------\n",
      "[6 7]\n",
      "[6]\n",
      "------\n",
      "[3]\n",
      "[3]\n",
      "------\n",
      "[11 12]\n",
      "[11]\n",
      "------\n",
      "[4]\n",
      "[4]\n",
      "------\n",
      "[2]\n",
      "[2]\n",
      "------\n",
      "[4 5]\n",
      "[4]\n",
      "------\n",
      "[3 5]\n",
      "[3]\n",
      "------\n",
      "[12]\n",
      "[11]\n",
      "------\n",
      "[10 11]\n",
      "[10 11]\n",
      "------\n",
      "[7]\n",
      "[7]\n",
      "------\n",
      "[19]\n",
      "[19]\n",
      "------\n",
      "[5]\n",
      "[5]\n",
      "------\n",
      "[18 19]\n",
      "[18 19]\n",
      "------\n",
      "[ 7  8 10]\n",
      "[7 8]\n",
      "------\n",
      "[14]\n",
      "[14]\n",
      "------\n",
      "[12 13]\n",
      "[12 13]\n",
      "------\n",
      "[18 19]\n",
      "[18 19]\n",
      "------\n",
      "[18]\n",
      "[18]\n",
      "------\n",
      "[10 11]\n",
      "[10]\n",
      "------\n",
      "[ 5 16 17]\n",
      "[16 17]\n",
      "------\n",
      "[18 19]\n",
      "[18 19]\n",
      "------\n",
      "[11 12]\n",
      "[11 12]\n",
      "------\n",
      "[18 19]\n",
      "[18 19]\n",
      "------\n",
      "[ 1  2  3  4 11]\n",
      "[1 2 3]\n",
      "------\n",
      "[2 3]\n",
      "[3]\n",
      "------\n",
      "[4]\n",
      "[4]\n",
      "------\n",
      "[7 8]\n",
      "[7 8]\n",
      "------\n",
      "[11 12]\n",
      "[11]\n",
      "------\n",
      "[4]\n",
      "[4]\n",
      "------\n",
      "[4]\n",
      "[4]\n",
      "------\n",
      "[18]\n",
      "[18]\n",
      "------\n",
      "[17 18]\n",
      "[17 18]\n",
      "------\n",
      "[15]\n",
      "[15]\n",
      "------\n",
      "[19]\n",
      "[19]\n",
      "------\n",
      "[9]\n",
      "[9]\n",
      "------\n",
      "[14 15 17]\n",
      "[14 15 17]\n",
      "------\n",
      "[9]\n",
      "[9]\n",
      "------\n",
      "[19]\n",
      "[19]\n",
      "------\n",
      "[16 17]\n",
      "[16 17]\n",
      "------\n",
      "[2]\n",
      "[2]\n",
      "------\n",
      "[6]\n",
      "[6]\n",
      "------\n",
      "[19]\n",
      "[19]\n",
      "------\n",
      "[17]\n",
      "[17]\n",
      "------\n",
      "[3 4]\n",
      "[3]\n",
      "------\n",
      "[4 5]\n",
      "[4 5]\n",
      "------\n",
      "[4 5]\n",
      "[ 4  5 10]\n",
      "------\n",
      "[7]\n",
      "[7]\n",
      "------\n",
      "[11 12]\n",
      "[11 12]\n",
      "------\n",
      "[5]\n",
      "[4 5 6]\n",
      "------\n",
      "[19]\n",
      "[19]\n",
      "------\n",
      "[11]\n",
      "[11]\n",
      "------\n",
      "[19]\n",
      "[19]\n",
      "------\n",
      "[8 9]\n",
      "[8]\n",
      "------\n",
      "[ 9 16]\n",
      "[9]\n",
      "------\n",
      "[3 4 7]\n",
      "[3 4]\n",
      "------\n",
      "[18]\n",
      "[18]\n",
      "------\n",
      "[10 11]\n",
      "[10 11]\n",
      "------\n",
      "[5 6 7 8]\n",
      "[5 6]\n",
      "------\n",
      "[7]\n",
      "[7]\n",
      "------\n",
      "[2]\n",
      "[2]\n",
      "------\n",
      "[16 17]\n",
      "[16 17]\n",
      "------\n",
      "[19]\n",
      "[19]\n",
      "------\n",
      "[2 9]\n",
      "[2]\n",
      "------\n",
      "[5]\n",
      "[5]\n",
      "------\n",
      "[3]\n",
      "[3]\n",
      "------\n",
      "[ 4  5  7  8 16]\n",
      "[4 5 7]\n",
      "------\n",
      "[3 4 9]\n",
      "[3 4]\n",
      "------\n",
      "[5]\n",
      "[5]\n",
      "------\n",
      "[16]\n",
      "[16]\n",
      "------\n",
      "[13]\n",
      "[13]\n",
      "------\n",
      "[ 9 10]\n",
      "[9]\n",
      "------\n",
      "[19]\n",
      "[19]\n",
      "------\n",
      "[ 9 10]\n",
      "[ 9 10]\n",
      "------\n",
      "[ 6  7 10]\n",
      "[ 6  7 10]\n",
      "------\n",
      "[ 8  9 18]\n",
      "[7 8 9]\n",
      "------\n",
      "[6]\n",
      "[16]\n",
      "------\n",
      "[10 12]\n",
      "[10 11 12]\n",
      "------\n",
      "[3]\n",
      "[3]\n",
      "------\n",
      "[5]\n",
      "[5]\n",
      "------\n",
      "[11]\n",
      "[9]\n",
      "------\n",
      "[3 4]\n",
      "[3 4]\n",
      "------\n",
      "[7]\n",
      "[7]\n",
      "------\n",
      "[17 18 19]\n",
      "[17]\n",
      "------\n",
      "[ 6  7  8 10]\n",
      "[ 6 10]\n",
      "------\n",
      "[7]\n",
      "[7 8]\n",
      "------\n",
      "[7]\n",
      "[7]\n",
      "------\n",
      "[17]\n",
      "[17]\n",
      "------\n",
      "[8 9]\n",
      "[8]\n",
      "------\n",
      "[8]\n",
      "[8]\n",
      "------\n",
      "[ 5 19]\n",
      "[ 5 19]\n",
      "------\n",
      "[ 4  5 14]\n",
      "[4 5]\n",
      "------\n",
      "[10 11]\n",
      "[10 11 13]\n",
      "------\n",
      "[12 13]\n",
      "[12 13]\n",
      "------\n",
      "[5]\n",
      "[5]\n",
      "------\n",
      "[ 8 10 18]\n",
      "[ 8 18]\n",
      "------\n",
      "[ 7 17]\n",
      "[ 7 17]\n",
      "------\n",
      "[2 3]\n",
      "[2 3]\n",
      "------\n",
      "[14 15 19]\n",
      "[14 15]\n",
      "------\n",
      "[ 7  8  9 10]\n",
      "[7 8]\n",
      "------\n",
      "[16 17 19]\n",
      "[16 19]\n",
      "------\n",
      "[ 7  8  9 11]\n",
      "[7]\n",
      "------\n",
      "[ 4 10 11]\n",
      "[10 11]\n",
      "------\n",
      "[13 14]\n",
      "[13]\n",
      "------\n",
      "[ 9 10]\n",
      "[ 9 10]\n",
      "------\n",
      "[16 17]\n",
      "[16 17]\n",
      "------\n",
      "[4]\n",
      "[4]\n",
      "------\n",
      "[6 7]\n",
      "[6 7]\n",
      "------\n",
      "[10]\n",
      "[10 11]\n",
      "------\n",
      "[11]\n",
      "[11]\n",
      "------\n",
      "[5]\n",
      "[5]\n",
      "------\n",
      "[5 6]\n",
      "[5]\n",
      "------\n",
      "[3 4]\n",
      "[3]\n",
      "------\n",
      "[5]\n",
      "[5]\n",
      "------\n",
      "[6 7 8]\n",
      "[6 7 8]\n",
      "------\n",
      "[18 19]\n",
      "[18 19]\n",
      "------\n",
      "[18 19]\n",
      "[18 19]\n",
      "------\n",
      "[7]\n",
      "[7]\n",
      "------\n",
      "[ 9 11]\n",
      "[9]\n",
      "------\n",
      "[ 8  9 11]\n",
      "[ 8 11]\n",
      "------\n",
      "[11 12]\n",
      "[11 12]\n",
      "------\n",
      "[9]\n",
      "[9]\n",
      "------\n",
      "[13 14]\n",
      "[13 14]\n",
      "------\n",
      "[3 4]\n",
      "[3 4]\n",
      "------\n",
      "[10]\n",
      "[10]\n",
      "------\n",
      "[4 5 6]\n",
      "[5 6]\n",
      "------\n",
      "[4]\n",
      "[4]\n",
      "------\n",
      "[16]\n",
      "[16]\n",
      "------\n",
      "[4 9]\n",
      "[9]\n",
      "------\n",
      "[3 4]\n",
      "[3 4]\n",
      "------\n",
      "[ 8  9 15]\n",
      "[8 9]\n",
      "------\n",
      "[ 9 10 11]\n",
      "[ 9 10 11]\n",
      "------\n",
      "[ 7  8 11 12]\n",
      "[ 7 11]\n",
      "------\n",
      "[4]\n",
      "[4]\n",
      "------\n",
      "[8]\n",
      "[8]\n",
      "------\n",
      "[14 15 16 19]\n",
      "[14 15 16]\n",
      "------\n",
      "[2]\n",
      "[2]\n",
      "------\n",
      "[6]\n",
      "[6]\n",
      "------\n",
      "[5]\n",
      "[5]\n",
      "------\n",
      "[16]\n",
      "[16]\n",
      "------\n",
      "[ 6  7 11 12]\n",
      "[6 7]\n",
      "------\n",
      "[16]\n",
      "[16]\n",
      "------\n",
      "[12]\n",
      "[12]\n",
      "------\n",
      "[6]\n",
      "[6]\n",
      "------\n",
      "[13]\n",
      "[13]\n",
      "------\n",
      "[3 4]\n",
      "[3 4]\n",
      "------\n",
      "[2]\n",
      "[2]\n",
      "------\n",
      "[17 18]\n",
      "[17]\n",
      "------\n",
      "[6 7]\n",
      "[6 7]\n",
      "------\n",
      "[6]\n",
      "[6]\n",
      "------\n",
      "[4 5]\n",
      "[4 5]\n",
      "------\n",
      "[6]\n",
      "[6]\n",
      "------\n",
      "[6 7]\n",
      "[6]\n",
      "------\n",
      "[11]\n",
      "[10 11]\n",
      "------\n",
      "[11]\n",
      "[11]\n",
      "------\n",
      "[12]\n",
      "[12]\n",
      "------\n",
      "[14 15]\n",
      "[14 15]\n",
      "------\n",
      "[8]\n",
      "[8]\n",
      "------\n",
      "[7]\n",
      "[7]\n",
      "------\n",
      "[13]\n",
      "[13]\n",
      "------\n",
      "[17 18 19]\n",
      "[17 18 19]\n",
      "------\n",
      "[8]\n",
      "[8]\n",
      "------\n",
      "[7 8]\n",
      "[7 8]\n",
      "------\n",
      "[ 6 15 16]\n",
      "[6]\n",
      "------\n",
      "[ 8  9 13]\n",
      "[ 8 13]\n",
      "------\n",
      "[9]\n",
      "[9]\n",
      "------\n",
      "[5]\n",
      "[5]\n",
      "------\n",
      "[ 6  7 12]\n",
      "[6 7]\n",
      "------\n",
      "[19]\n",
      "[19]\n",
      "------\n",
      "[2 3 5 6]\n",
      "[2 3 5 7]\n",
      "------\n",
      "[13 14]\n",
      "[13 14]\n",
      "------\n",
      "[6]\n",
      "[6]\n",
      "------\n",
      "[5 6]\n",
      "[5 6]\n",
      "------\n",
      "[ 7 10 11]\n",
      "[ 7 10 11]\n",
      "------\n",
      "[12 13 18]\n",
      "[12 13]\n",
      "------\n",
      "[2 4]\n",
      "[2]\n",
      "------\n",
      "[15]\n",
      "[15]\n",
      "------\n",
      "[18 19]\n",
      "[18]\n",
      "------\n",
      "[8]\n",
      "[8]\n",
      "------\n",
      "[8 9]\n",
      "[8]\n",
      "------\n",
      "[12]\n",
      "[11]\n",
      "------\n",
      "[8]\n",
      "[8]\n",
      "------\n",
      "[10 11 13]\n",
      "[10 11]\n",
      "------\n",
      "[5]\n",
      "[5]\n",
      "------\n",
      "[15 16]\n",
      "[15 16]\n",
      "------\n",
      "[16]\n",
      "[16 18]\n",
      "------\n",
      "[12]\n",
      "[12]\n",
      "------\n",
      "[9]\n",
      "[6 9]\n",
      "------\n",
      "[8]\n",
      "[8]\n",
      "------\n",
      "[ 4 11 12]\n",
      "[11]\n",
      "------\n",
      "[3]\n",
      "[3]\n",
      "------\n",
      "[7]\n",
      "[7]\n",
      "------\n",
      "[ 8  9 10]\n",
      "[8 9]\n",
      "------\n",
      "[9]\n",
      "[9]\n",
      "------\n",
      "[8]\n",
      "[8]\n",
      "------\n",
      "[5 8 9]\n",
      "[5 8]\n",
      "------\n",
      "[13 16]\n",
      "[13]\n",
      "------\n",
      "[7]\n",
      "[7]\n",
      "------\n",
      "[18]\n",
      "[18]\n",
      "------\n",
      "[2]\n",
      "[2]\n",
      "------\n",
      "[3 4]\n",
      "[3]\n",
      "------\n",
      "[7 8 9]\n",
      "[7 8]\n",
      "------\n",
      "[5]\n",
      "[ 5 19]\n",
      "------\n",
      "[8]\n",
      "[8]\n",
      "------\n",
      "[3 4 5 8]\n",
      "[3 4 8]\n",
      "------\n",
      "[2 3]\n",
      "[ 2  3 18]\n",
      "------\n",
      "[15]\n",
      "[15]\n",
      "------\n",
      "[ 9 10]\n",
      "[ 9 10]\n",
      "------\n",
      "[14 15 19]\n",
      "[14 15]\n",
      "------\n",
      "[6 7]\n",
      "[6 7]\n",
      "------\n",
      "[8 9]\n",
      "[7]\n",
      "------\n",
      "[19]\n",
      "[19]\n",
      "------\n",
      "[4 5]\n",
      "[4 5]\n",
      "------\n",
      "[8]\n",
      "[8]\n",
      "------\n",
      "[2 6]\n",
      "[2 5]\n",
      "------\n",
      "[2]\n",
      "[2]\n",
      "------\n",
      "[11]\n",
      "[11]\n",
      "------\n",
      "[15 16]\n",
      "[15 16]\n",
      "------\n",
      "[14]\n",
      "[14]\n",
      "------\n",
      "[ 2  3  4  5  6 19]\n",
      "[2 3 5 6 8]\n",
      "------\n",
      "[7]\n",
      "[7]\n",
      "------\n",
      "[11 12]\n",
      "[11]\n",
      "------\n",
      "[9]\n",
      "[9]\n",
      "------\n",
      "[16 17 18]\n",
      "[16 17]\n",
      "------\n",
      "[ 2 14 15]\n",
      "[13 14]\n",
      "------\n",
      "[16]\n",
      "[16]\n",
      "------\n",
      "[12 13 14]\n",
      "[12 13 14]\n",
      "------\n",
      "[19]\n",
      "[19]\n",
      "------\n",
      "[17]\n",
      "[11]\n",
      "------\n",
      "[9]\n",
      "[9]\n",
      "------\n",
      "[13 19]\n",
      "[13]\n",
      "------\n",
      "[3]\n",
      "[3]\n",
      "------\n",
      "[5]\n",
      "[5]\n",
      "------\n",
      "[ 6  7 14]\n",
      "[6 7]\n",
      "------\n",
      "[14]\n",
      "[14]\n",
      "------\n",
      "[4 5]\n",
      "[4 5]\n",
      "------\n",
      "[4 5 7]\n",
      "[4 5]\n",
      "------\n",
      "[11 12]\n",
      "[11 12]\n",
      "------\n",
      "[13]\n",
      "[13]\n",
      "------\n",
      "[10]\n",
      "[10]\n",
      "------\n",
      "[14 15 16]\n",
      "[14 15 16]\n",
      "------\n",
      "[6]\n",
      "[6]\n",
      "------\n",
      "[3 4 5 7]\n",
      "[3 4 5]\n",
      "------\n",
      "[7]\n",
      "[7]\n",
      "------\n",
      "[16 17]\n",
      "[16]\n",
      "------\n",
      "[10]\n",
      "[10]\n",
      "------\n",
      "[3 4]\n",
      "[3 4]\n",
      "------\n",
      "[7]\n",
      "[7]\n",
      "------\n",
      "[11]\n",
      "[10 11]\n",
      "------\n",
      "[ 4 19]\n",
      "[ 4 19]\n",
      "------\n",
      "[5 6]\n",
      "[5 6]\n",
      "------\n",
      "[8]\n",
      "[8]\n",
      "------\n",
      "[2 3]\n",
      "[2]\n",
      "------\n",
      "[6 8]\n",
      "[6 8]\n",
      "------\n",
      "[17 18 19]\n",
      "[17 18]\n",
      "------\n",
      "[14 15 16 17]\n",
      "[14 15]\n",
      "------\n",
      "[10 11]\n",
      "[10]\n",
      "------\n",
      "[13 17]\n",
      "[13]\n",
      "------\n",
      "[9]\n",
      "[9]\n",
      "------\n",
      "[2]\n",
      "[2]\n",
      "------\n",
      "[13]\n",
      "[13]\n",
      "------\n",
      "[14]\n",
      "[14]\n",
      "------\n",
      "[12 13 14 16]\n",
      "[14]\n",
      "------\n",
      "[3 4 8]\n",
      "[3 4 8]\n",
      "------\n",
      "[14 15]\n",
      "[14]\n",
      "------\n",
      "[2]\n",
      "[2]\n",
      "------\n",
      "[5]\n",
      "[4 5]\n",
      "------\n",
      "[10]\n",
      "[10]\n",
      "------\n"
     ]
    }
   ],
   "source": [
    "for i in intersect:\n",
    "    print(s75[b75 == i])\n",
    "    print(s45[b45 == i])\n",
    "    print(\"------\")"
   ]
  },
  {
   "cell_type": "code",
   "execution_count": 219,
   "id": "432d5aae-21e2-4bac-9425-09309d00467d",
   "metadata": {},
   "outputs": [],
   "source": [
    "corr_features = np.load('correlated_features_7_8_imdb_5000.npy')"
   ]
  },
  {
   "cell_type": "code",
   "execution_count": 223,
   "id": "d6499c5e-e6af-4521-a884-8dd4f1aaa784",
   "metadata": {},
   "outputs": [],
   "source": [
    "corr_features[:,0] = corr_features[:,0].astype(int)"
   ]
  },
  {
   "cell_type": "code",
   "execution_count": 227,
   "id": "552ebfc6-76ce-4af4-9118-9fd2c4385ea0",
   "metadata": {},
   "outputs": [
    {
     "data": {
      "text/plain": [
       "10927.0"
      ]
     },
     "execution_count": 227,
     "metadata": {},
     "output_type": "execute_result"
    }
   ],
   "source": [
    "1.09270000e+04"
   ]
  },
  {
   "cell_type": "code",
   "execution_count": 228,
   "id": "8e0201d9-d796-4b23-aca2-4692a8e1bf69",
   "metadata": {},
   "outputs": [
    {
     "data": {
      "text/plain": [
       "1.0"
      ]
     },
     "execution_count": 228,
     "metadata": {},
     "output_type": "execute_result"
    }
   ],
   "source": [
    "1e+0"
   ]
  },
  {
   "cell_type": "code",
   "execution_count": 250,
   "id": "8bb7c0d2-58a4-491c-8cfc-d7a6f8d45a5b",
   "metadata": {},
   "outputs": [
    {
     "name": "stdout",
     "output_type": "stream",
     "text": [
      "https://neuronpedia.org/gpt2-small/7-res-jb/1?embed=true&embedexplanation=true&embedplots=true&embedtest=true&height=300\n"
     ]
    },
    {
     "data": {
      "text/html": [
       "\n",
       "        <iframe\n",
       "            width=\"800\"\n",
       "            height=\"600\"\n",
       "            src=\"https://neuronpedia.org/gpt2-small/7-res-jb/1?embed=true&embedexplanation=true&embedplots=true&embedtest=true&height=300\"\n",
       "            frameborder=\"0\"\n",
       "            allowfullscreen\n",
       "            \n",
       "        ></iframe>\n",
       "        "
      ],
      "text/plain": [
       "<IPython.lib.display.IFrame at 0x7f13003126b0>"
      ]
     },
     "metadata": {},
     "output_type": "display_data"
    }
   ],
   "source": [
    "display_dashboard(layer=7, latent_idx=1)"
   ]
  },
  {
   "cell_type": "code",
   "execution_count": 249,
   "id": "04dfbd9f-99a0-4377-bdbd-bef1716ccced",
   "metadata": {},
   "outputs": [
    {
     "name": "stdout",
     "output_type": "stream",
     "text": [
      "https://neuronpedia.org/gpt2-small/8-res-jb/21144?embed=true&embedexplanation=true&embedplots=true&embedtest=true&height=300\n"
     ]
    },
    {
     "data": {
      "text/html": [
       "\n",
       "        <iframe\n",
       "            width=\"800\"\n",
       "            height=\"600\"\n",
       "            src=\"https://neuronpedia.org/gpt2-small/8-res-jb/21144?embed=true&embedexplanation=true&embedplots=true&embedtest=true&height=300\"\n",
       "            frameborder=\"0\"\n",
       "            allowfullscreen\n",
       "            \n",
       "        ></iframe>\n",
       "        "
      ],
      "text/plain": [
       "<IPython.lib.display.IFrame at 0x7f1301826e60>"
      ]
     },
     "metadata": {},
     "output_type": "display_data"
    }
   ],
   "source": [
    "display_dashboard(layer=8, latent_idx=21144)"
   ]
  },
  {
   "cell_type": "code",
   "execution_count": 240,
   "id": "1551287b-b6c4-45c5-92bc-6c45bd5cb8c3",
   "metadata": {},
   "outputs": [],
   "source": [
    "imdb_dataset = load_dataset('wikitext', 'wikitext-103-raw-v1', split = 'train')"
   ]
  },
  {
   "cell_type": "code",
   "execution_count": 241,
   "id": "55830eba-da6a-4313-a784-d4939d963bde",
   "metadata": {},
   "outputs": [],
   "source": []
  },
  {
   "cell_type": "code",
   "execution_count": 5,
   "id": "07ed563d-2acf-48db-bfc5-f8936bc5a90d",
   "metadata": {},
   "outputs": [],
   "source": [
    "import pandas as pd\n",
    "df = pd.read_pickle('correlated_features_7_8_imdb_5000.pkl')"
   ]
  },
  {
   "cell_type": "code",
   "execution_count": 8,
   "id": "0b459b1b-0597-4384-bd56-48c181f64b5b",
   "metadata": {},
   "outputs": [],
   "source": [
    "import torch as t"
   ]
  },
  {
   "cell_type": "code",
   "execution_count": 10,
   "id": "d3d98138-6adc-47a9-b5c4-0ca8cd9039c7",
   "metadata": {},
   "outputs": [
    {
     "data": {
      "text/plain": [
       "torch.Size([10, 4])"
      ]
     },
     "execution_count": 10,
     "metadata": {},
     "output_type": "execute_result"
    }
   ],
   "source": [
    "t.randn((10,10))[:,[1,2,3,4]].shape"
   ]
  },
  {
   "cell_type": "code",
   "execution_count": 15,
   "id": "e52ef337-25ec-4061-8913-1e590b43baad",
   "metadata": {},
   "outputs": [],
   "source": [
    "imdb_dataset = load_dataset('wikitext', 'wikitext-103-raw-v1', split = 'train')\n",
    "subset_size = 5000\n",
    "batch_size = 8\n",
    "max_length = 20\n",
    "imdb_subset = imdb_dataset.shuffle(seed=0).select(range(subset_size))\n"
   ]
  },
  {
   "cell_type": "code",
   "execution_count": 251,
   "id": "92b5efe3-227d-4dd4-9c31-3403b0bdb94d",
   "metadata": {},
   "outputs": [
    {
     "data": {
      "text/plain": [
       "{'text': ' She then began a statewide law practice where she gained 12 years experience focusing on election law and campaign finance from 1988 – 2000 . She briefly worked for the Franklin County Board of Elections . In 1988 , Brunner represented the Ohio Pesticide Applicators for Responsible Regulation , when the Ohio Environmental Protection Agency held hearings about testing Ohio water supplies for pesticides that were not against federal regulations . She agreed that testing standards should be higher , but felt that such standards should not be mandated . She expressed an interest in public service when a seat on the Columbus City Council became available following the April 29 , 1988 death of John R. Maloney . The list of candidates who applied included at least 20 applicants . \\n'}"
      ]
     },
     "execution_count": 251,
     "metadata": {},
     "output_type": "execute_result"
    }
   ],
   "source": [
    "imdb_subset[3792]"
   ]
  },
  {
   "cell_type": "code",
   "execution_count": 11,
   "id": "fb5912bd-a1cf-40fd-8940-5e780c96a2bc",
   "metadata": {},
   "outputs": [
    {
     "name": "stderr",
     "output_type": "stream",
     "text": [
      "2025-06-17 14:47:23.813651: E external/local_xla/xla/stream_executor/cuda/cuda_fft.cc:467] Unable to register cuFFT factory: Attempting to register factory for plugin cuFFT when one has already been registered\n",
      "WARNING: All log messages before absl::InitializeLog() is called are written to STDERR\n",
      "E0000 00:00:1750186043.964501 1471770 cuda_dnn.cc:8579] Unable to register cuDNN factory: Attempting to register factory for plugin cuDNN when one has already been registered\n",
      "E0000 00:00:1750186044.008896 1471770 cuda_blas.cc:1407] Unable to register cuBLAS factory: Attempting to register factory for plugin cuBLAS when one has already been registered\n",
      "W0000 00:00:1750186044.366233 1471770 computation_placer.cc:177] computation placer already registered. Please check linkage and avoid linking the same target more than once.\n",
      "W0000 00:00:1750186044.366276 1471770 computation_placer.cc:177] computation placer already registered. Please check linkage and avoid linking the same target more than once.\n",
      "W0000 00:00:1750186044.366280 1471770 computation_placer.cc:177] computation placer already registered. Please check linkage and avoid linking the same target more than once.\n",
      "W0000 00:00:1750186044.366283 1471770 computation_placer.cc:177] computation placer already registered. Please check linkage and avoid linking the same target more than once.\n",
      "2025-06-17 14:47:24.410859: I tensorflow/core/platform/cpu_feature_guard.cc:210] This TensorFlow binary is optimized to use available CPU instructions in performance-critical operations.\n",
      "To enable the following instructions: AVX2 AVX512F FMA, in other operations, rebuild TensorFlow with the appropriate compiler flags.\n"
     ]
    },
    {
     "name": "stdout",
     "output_type": "stream",
     "text": [
      "Loaded pretrained model gpt2-small into HookedTransformer\n"
     ]
    },
    {
     "name": "stderr",
     "output_type": "stream",
     "text": [
      "/home/users/sv226/.local/lib/python3.10/site-packages/sae_lens/sae.py:151: UserWarning: \n",
      "This SAE has non-empty model_from_pretrained_kwargs. \n",
      "For optimal performance, load the model like so:\n",
      "model = HookedSAETransformer.from_pretrained_no_processing(..., **cfg.model_from_pretrained_kwargs)\n",
      "  warnings.warn(\n"
     ]
    }
   ],
   "source": [
    "import feature_corrs\n",
    "model, sae1, sae2 = feature_corrs.load_model_and_saes('cpu',\"gpt2-small-res-jb\", 7, 8)\n",
    "df = pd.read_pickle('correlated_features_7_8_imdb_5000.pkl')"
   ]
  },
  {
   "cell_type": "code",
   "execution_count": 17,
   "id": "fecd8693-ebcb-40bb-a5f3-430858f646b4",
   "metadata": {},
   "outputs": [
    {
     "data": {
      "text/plain": [
       "torch.Size([1, 768, 24576])"
      ]
     },
     "execution_count": 17,
     "metadata": {},
     "output_type": "execute_result"
    }
   ],
   "source": [
    "sae1.W_enc.unsqueeze(axis = 0).shape"
   ]
  },
  {
   "cell_type": "code",
   "execution_count": 28,
   "id": "7c860c14-d8d8-459e-8466-cf27f315849a",
   "metadata": {},
   "outputs": [],
   "source": [
    "df = pd.read_pickle('diff_correlated_features_2_11_wikitext_5000_0.pkl')"
   ]
  },
  {
   "cell_type": "code",
   "execution_count": 29,
   "id": "f5deb24c-942d-4245-8826-7bf4ed73548e",
   "metadata": {},
   "outputs": [
    {
     "data": {
      "text/html": [
       "<div>\n",
       "<style scoped>\n",
       "    .dataframe tbody tr th:only-of-type {\n",
       "        vertical-align: middle;\n",
       "    }\n",
       "\n",
       "    .dataframe tbody tr th {\n",
       "        vertical-align: top;\n",
       "    }\n",
       "\n",
       "    .dataframe thead th {\n",
       "        text-align: right;\n",
       "    }\n",
       "</style>\n",
       "<table border=\"1\" class=\"dataframe\">\n",
       "  <thead>\n",
       "    <tr style=\"text-align: right;\">\n",
       "      <th></th>\n",
       "      <th>mean</th>\n",
       "      <th>std</th>\n",
       "      <th>count</th>\n",
       "    </tr>\n",
       "  </thead>\n",
       "  <tbody>\n",
       "    <tr>\n",
       "      <th>0</th>\n",
       "      <td>NaN</td>\n",
       "      <td>NaN</td>\n",
       "      <td>0</td>\n",
       "    </tr>\n",
       "    <tr>\n",
       "      <th>1</th>\n",
       "      <td>NaN</td>\n",
       "      <td>NaN</td>\n",
       "      <td>0</td>\n",
       "    </tr>\n",
       "    <tr>\n",
       "      <th>2</th>\n",
       "      <td>NaN</td>\n",
       "      <td>NaN</td>\n",
       "      <td>0</td>\n",
       "    </tr>\n",
       "    <tr>\n",
       "      <th>3</th>\n",
       "      <td>NaN</td>\n",
       "      <td>NaN</td>\n",
       "      <td>0</td>\n",
       "    </tr>\n",
       "    <tr>\n",
       "      <th>4</th>\n",
       "      <td>NaN</td>\n",
       "      <td>NaN</td>\n",
       "      <td>0</td>\n",
       "    </tr>\n",
       "    <tr>\n",
       "      <th>5</th>\n",
       "      <td>NaN</td>\n",
       "      <td>NaN</td>\n",
       "      <td>0</td>\n",
       "    </tr>\n",
       "    <tr>\n",
       "      <th>6</th>\n",
       "      <td>NaN</td>\n",
       "      <td>NaN</td>\n",
       "      <td>0</td>\n",
       "    </tr>\n",
       "    <tr>\n",
       "      <th>7</th>\n",
       "      <td>NaN</td>\n",
       "      <td>NaN</td>\n",
       "      <td>0</td>\n",
       "    </tr>\n",
       "    <tr>\n",
       "      <th>8</th>\n",
       "      <td>NaN</td>\n",
       "      <td>NaN</td>\n",
       "      <td>0</td>\n",
       "    </tr>\n",
       "    <tr>\n",
       "      <th>9</th>\n",
       "      <td>NaN</td>\n",
       "      <td>NaN</td>\n",
       "      <td>0</td>\n",
       "    </tr>\n",
       "  </tbody>\n",
       "</table>\n",
       "</div>"
      ],
      "text/plain": [
       "  mean  std  count\n",
       "0  NaN  NaN      0\n",
       "1  NaN  NaN      0\n",
       "2  NaN  NaN      0\n",
       "3  NaN  NaN      0\n",
       "4  NaN  NaN      0\n",
       "5  NaN  NaN      0\n",
       "6  NaN  NaN      0\n",
       "7  NaN  NaN      0\n",
       "8  NaN  NaN      0\n",
       "9  NaN  NaN      0"
      ]
     },
     "execution_count": 29,
     "metadata": {},
     "output_type": "execute_result"
    }
   ],
   "source": [
    "df"
   ]
  },
  {
   "cell_type": "code",
   "execution_count": 22,
   "id": "dc9ab4a0-6732-47cb-a34a-4b3b85a7049c",
   "metadata": {},
   "outputs": [
    {
     "data": {
      "text/html": [
       "<div>\n",
       "<style scoped>\n",
       "    .dataframe tbody tr th:only-of-type {\n",
       "        vertical-align: middle;\n",
       "    }\n",
       "\n",
       "    .dataframe tbody tr th {\n",
       "        vertical-align: top;\n",
       "    }\n",
       "\n",
       "    .dataframe thead th {\n",
       "        text-align: right;\n",
       "    }\n",
       "</style>\n",
       "<table border=\"1\" class=\"dataframe\">\n",
       "  <thead>\n",
       "    <tr style=\"text-align: right;\">\n",
       "      <th></th>\n",
       "      <th>i</th>\n",
       "      <th>j</th>\n",
       "      <th>corr</th>\n",
       "      <th>p_i_given_j</th>\n",
       "      <th>p_j_given_i</th>\n",
       "      <th>topk_i</th>\n",
       "      <th>topk_j</th>\n",
       "    </tr>\n",
       "  </thead>\n",
       "  <tbody>\n",
       "    <tr>\n",
       "      <th>0</th>\n",
       "      <td>6</td>\n",
       "      <td>2862</td>\n",
       "      <td>0.987935</td>\n",
       "      <td>0.200000</td>\n",
       "      <td>0.027273</td>\n",
       "      <td>(3922, 4755, 4087)</td>\n",
       "      <td>(3922, 4755, 4087)</td>\n",
       "    </tr>\n",
       "    <tr>\n",
       "      <th>1</th>\n",
       "      <td>15</td>\n",
       "      <td>18028</td>\n",
       "      <td>0.983778</td>\n",
       "      <td>0.600000</td>\n",
       "      <td>0.600000</td>\n",
       "      <td>(1223, 3263, 388)</td>\n",
       "      <td>(4994, 4600, 1777)</td>\n",
       "    </tr>\n",
       "    <tr>\n",
       "      <th>2</th>\n",
       "      <td>27</td>\n",
       "      <td>6700</td>\n",
       "      <td>0.909051</td>\n",
       "      <td>0.250000</td>\n",
       "      <td>0.142857</td>\n",
       "      <td>(2082, 4476, 4551)</td>\n",
       "      <td>(2082, 134, 4246)</td>\n",
       "    </tr>\n",
       "    <tr>\n",
       "      <th>3</th>\n",
       "      <td>27</td>\n",
       "      <td>15648</td>\n",
       "      <td>0.987883</td>\n",
       "      <td>0.125000</td>\n",
       "      <td>0.142857</td>\n",
       "      <td>(2082, 4476, 4551)</td>\n",
       "      <td>(2082, 4979, 830)</td>\n",
       "    </tr>\n",
       "    <tr>\n",
       "      <th>4</th>\n",
       "      <td>29</td>\n",
       "      <td>20699</td>\n",
       "      <td>0.922429</td>\n",
       "      <td>0.194444</td>\n",
       "      <td>0.583333</td>\n",
       "      <td>(3085, 569, 1605)</td>\n",
       "      <td>(3085, 569, 1605)</td>\n",
       "    </tr>\n",
       "    <tr>\n",
       "      <th>...</th>\n",
       "      <td>...</td>\n",
       "      <td>...</td>\n",
       "      <td>...</td>\n",
       "      <td>...</td>\n",
       "      <td>...</td>\n",
       "      <td>...</td>\n",
       "      <td>...</td>\n",
       "    </tr>\n",
       "    <tr>\n",
       "      <th>8011</th>\n",
       "      <td>24540</td>\n",
       "      <td>3934</td>\n",
       "      <td>0.962952</td>\n",
       "      <td>0.019231</td>\n",
       "      <td>1.000000</td>\n",
       "      <td>(3548, 1, 0)</td>\n",
       "      <td>(3548, 3995, 1848)</td>\n",
       "    </tr>\n",
       "    <tr>\n",
       "      <th>8012</th>\n",
       "      <td>24559</td>\n",
       "      <td>5587</td>\n",
       "      <td>0.923870</td>\n",
       "      <td>0.210526</td>\n",
       "      <td>0.024540</td>\n",
       "      <td>(2004, 2739, 4998)</td>\n",
       "      <td>(2004, 2739, 4998)</td>\n",
       "    </tr>\n",
       "    <tr>\n",
       "      <th>8013</th>\n",
       "      <td>24574</td>\n",
       "      <td>6450</td>\n",
       "      <td>0.991444</td>\n",
       "      <td>0.222222</td>\n",
       "      <td>0.333333</td>\n",
       "      <td>(3049, 4444, 233)</td>\n",
       "      <td>(3049, 432, 665)</td>\n",
       "    </tr>\n",
       "    <tr>\n",
       "      <th>8014</th>\n",
       "      <td>24574</td>\n",
       "      <td>9883</td>\n",
       "      <td>0.967528</td>\n",
       "      <td>0.071429</td>\n",
       "      <td>0.166667</td>\n",
       "      <td>(3049, 4444, 233)</td>\n",
       "      <td>(3049, 23, 2016)</td>\n",
       "    </tr>\n",
       "    <tr>\n",
       "      <th>8015</th>\n",
       "      <td>24574</td>\n",
       "      <td>18095</td>\n",
       "      <td>0.995526</td>\n",
       "      <td>0.500000</td>\n",
       "      <td>0.166667</td>\n",
       "      <td>(3049, 4444, 233)</td>\n",
       "      <td>(3049, 618, 0)</td>\n",
       "    </tr>\n",
       "  </tbody>\n",
       "</table>\n",
       "<p>8016 rows × 7 columns</p>\n",
       "</div>"
      ],
      "text/plain": [
       "          i      j      corr  p_i_given_j  p_j_given_i              topk_i  \\\n",
       "0         6   2862  0.987935     0.200000     0.027273  (3922, 4755, 4087)   \n",
       "1        15  18028  0.983778     0.600000     0.600000   (1223, 3263, 388)   \n",
       "2        27   6700  0.909051     0.250000     0.142857  (2082, 4476, 4551)   \n",
       "3        27  15648  0.987883     0.125000     0.142857  (2082, 4476, 4551)   \n",
       "4        29  20699  0.922429     0.194444     0.583333   (3085, 569, 1605)   \n",
       "...     ...    ...       ...          ...          ...                 ...   \n",
       "8011  24540   3934  0.962952     0.019231     1.000000        (3548, 1, 0)   \n",
       "8012  24559   5587  0.923870     0.210526     0.024540  (2004, 2739, 4998)   \n",
       "8013  24574   6450  0.991444     0.222222     0.333333   (3049, 4444, 233)   \n",
       "8014  24574   9883  0.967528     0.071429     0.166667   (3049, 4444, 233)   \n",
       "8015  24574  18095  0.995526     0.500000     0.166667   (3049, 4444, 233)   \n",
       "\n",
       "                  topk_j  \n",
       "0     (3922, 4755, 4087)  \n",
       "1     (4994, 4600, 1777)  \n",
       "2      (2082, 134, 4246)  \n",
       "3      (2082, 4979, 830)  \n",
       "4      (3085, 569, 1605)  \n",
       "...                  ...  \n",
       "8011  (3548, 3995, 1848)  \n",
       "8012  (2004, 2739, 4998)  \n",
       "8013    (3049, 432, 665)  \n",
       "8014    (3049, 23, 2016)  \n",
       "8015      (3049, 618, 0)  \n",
       "\n",
       "[8016 rows x 7 columns]"
      ]
     },
     "execution_count": 22,
     "metadata": {},
     "output_type": "execute_result"
    }
   ],
   "source": [
    "df#.sort_values(by = 'corr', ascending = False)"
   ]
  },
  {
   "cell_type": "code",
   "execution_count": 53,
   "id": "b7ceb9ec-ef6e-4285-8f46-8e8b09d749ae",
   "metadata": {},
   "outputs": [],
   "source": [
    "l = df[['i','j','topk_i','topk_j']].iloc[4].tolist()"
   ]
  },
  {
   "cell_type": "code",
   "execution_count": 115,
   "id": "cd12e2b0-5fd4-4c1b-ae8d-b239ce80f37d",
   "metadata": {
    "scrolled": true,
    "tags": []
   },
   "outputs": [
    {
     "data": {
      "image/png": "[encoded data removed]",
      "text/plain": [
       "<Figure size 800x500 with 1 Axes>"
      ]
     },
     "metadata": {},
     "output_type": "display_data"
    }
   ],
   "source": [
    "\n",
    "\n",
    "# Compute null distribution\n",
    "ans = []\n",
    "for i in range(1000):\n",
    "        a = np.random.randint(sae1.W_dec.shape[0])\n",
    "        b = np.random.randint(sae2.W_dec.shape[0])\n",
    "        val = float(((sae1.W_dec[a, :] @ model.W_U) @ (sae2.W_dec[b, :] @ model.W_U)).detach().cpu().numpy())\n",
    "        ans.append({'value': val, 'type': 'null'})\n",
    "\n",
    "# Compute alt distribution\n",
    "for i in range(1000):\n",
    "    l = df[['i', 'j', 'topk_i', 'topk_j']].iloc[i].tolist()\n",
    "    val = float(((sae1.W_dec[l[0], :] @ model.W_U) @ (sae2.W_dec[l[1], :] @ model.W_U)).detach().cpu().numpy())\n",
    "    ans.append({'value': val, 'type': 'alt'})\n",
    "\n",
    "# Convert to DataFrame\n",
    "df_plot = pd.DataFrame(ans)\n",
    "\n",
    "# Plot with seaborn\n",
    "plt.figure(figsize=(8, 5))\n",
    "sns.histplot(data=df_plot, x='value', hue='type', kde=False, stat='density', element='step', common_norm=False, alpha=0.7)\n",
    "#plt.title(\"Distribution of Bilinear Products (Null vs Alt)\")\n",
    "plt.xlabel(\"Bilinear Product\")\n",
    "plt.ylabel(\"Density\")\n",
    "#plt.legend(title='Distribution')\n",
    "plt.tight_layout()\n",
    "plt.show()\n"
   ]
  },
  {
   "cell_type": "code",
   "execution_count": 37,
   "id": "cb30c62c-fdea-4a7c-8f3d-75b7963953bb",
   "metadata": {},
   "outputs": [
    {
     "ename": "KeyboardInterrupt",
     "evalue": "",
     "output_type": "error",
     "traceback": [
      "\u001b[0;31m---------------------------------------------------------------------------\u001b[0m",
      "\u001b[0;31mKeyboardInterrupt\u001b[0m                         Traceback (most recent call last)",
      "\u001b[0;32m/tmp/ipykernel_1575730/2472018158.py\u001b[0m in \u001b[0;36m<module>\u001b[0;34m\u001b[0m\n\u001b[1;32m      6\u001b[0m \u001b[0;32mfor\u001b[0m \u001b[0ma\u001b[0m \u001b[0;32min\u001b[0m \u001b[0mrange\u001b[0m\u001b[0;34m(\u001b[0m\u001b[0msae1\u001b[0m\u001b[0;34m.\u001b[0m\u001b[0mW_dec\u001b[0m\u001b[0;34m.\u001b[0m\u001b[0mshape\u001b[0m\u001b[0;34m[\u001b[0m\u001b[0;36m0\u001b[0m\u001b[0;34m]\u001b[0m\u001b[0;34m)\u001b[0m\u001b[0;34m:\u001b[0m\u001b[0;34m\u001b[0m\u001b[0;34m\u001b[0m\u001b[0m\n\u001b[1;32m      7\u001b[0m     \u001b[0;32mfor\u001b[0m \u001b[0mb\u001b[0m \u001b[0;32min\u001b[0m \u001b[0mrange\u001b[0m\u001b[0;34m(\u001b[0m\u001b[0msae2\u001b[0m\u001b[0;34m.\u001b[0m\u001b[0mW_dec\u001b[0m\u001b[0;34m.\u001b[0m\u001b[0mshape\u001b[0m\u001b[0;34m[\u001b[0m\u001b[0;36m0\u001b[0m\u001b[0;34m]\u001b[0m\u001b[0;34m)\u001b[0m\u001b[0;34m:\u001b[0m\u001b[0;34m\u001b[0m\u001b[0;34m\u001b[0m\u001b[0m\n\u001b[0;32m----> 8\u001b[0;31m         \u001b[0mval\u001b[0m \u001b[0;34m=\u001b[0m \u001b[0mfloat\u001b[0m\u001b[0;34m(\u001b[0m\u001b[0;34m(\u001b[0m\u001b[0msae1\u001b[0m\u001b[0;34m.\u001b[0m\u001b[0mW_dec\u001b[0m\u001b[0;34m[\u001b[0m\u001b[0ma\u001b[0m\u001b[0;34m,\u001b[0m \u001b[0;34m:\u001b[0m\u001b[0;34m]\u001b[0m \u001b[0;34m@\u001b[0m \u001b[0msae2\u001b[0m\u001b[0;34m.\u001b[0m\u001b[0mW_dec\u001b[0m\u001b[0;34m[\u001b[0m\u001b[0mb\u001b[0m\u001b[0;34m,\u001b[0m \u001b[0;34m:\u001b[0m\u001b[0;34m]\u001b[0m\u001b[0;34m)\u001b[0m\u001b[0;34m.\u001b[0m\u001b[0mdetach\u001b[0m\u001b[0;34m(\u001b[0m\u001b[0;34m)\u001b[0m\u001b[0;34m.\u001b[0m\u001b[0mcpu\u001b[0m\u001b[0;34m(\u001b[0m\u001b[0;34m)\u001b[0m\u001b[0;34m.\u001b[0m\u001b[0mnumpy\u001b[0m\u001b[0;34m(\u001b[0m\u001b[0;34m)\u001b[0m\u001b[0;34m)\u001b[0m\u001b[0;34m\u001b[0m\u001b[0;34m\u001b[0m\u001b[0m\n\u001b[0m\u001b[1;32m      9\u001b[0m         \u001b[0;31m# Push negative val to make it a max-heap\u001b[0m\u001b[0;34m\u001b[0m\u001b[0;34m\u001b[0m\u001b[0m\n\u001b[1;32m     10\u001b[0m \u001b[0;34m\u001b[0m\u001b[0m\n",
      "\u001b[0;31mKeyboardInterrupt\u001b[0m: "
     ]
    }
   ],
   "source": [
    "import heapq\n",
    "\n",
    "heap = []  # this will be our max-heap\n",
    "max_capacity = 100\n",
    "\n",
    "for a in range(sae1.W_dec.shape[0]):\n",
    "    for b in range(sae2.W_dec.shape[0]):\n",
    "        val = float((sae1.W_dec[a, :] @ sae2.W_dec[b, :]).detach().cpu().numpy())\n",
    "        # Push negative val to make it a max-heap\n",
    "        \n",
    "        item = (-val, (a, b))  # negate to simulate max-heap\n",
    "\n",
    "        if len(heap) < max_capacity:\n",
    "            heapq.heappush(heap, item)\n",
    "        else:\n",
    "            # Push new item and remove smallest (i.e., least negative = smallest dot)\n",
    "            heapq.heappushpop(heap, item)\n"
   ]
  },
  {
   "cell_type": "code",
   "execution_count": 46,
   "id": "f51d371d-8b60-496b-b211-5a5aaca285ae",
   "metadata": {},
   "outputs": [
    {
     "name": "stdout",
     "output_type": "stream",
     "text": [
      "Loaded pretrained model gpt2-small into HookedTransformer\n"
     ]
    },
    {
     "name": "stderr",
     "output_type": "stream",
     "text": [
      "/home/users/sv226/.local/lib/python3.10/site-packages/sae_lens/sae.py:151: UserWarning: \n",
      "This SAE has non-empty model_from_pretrained_kwargs. \n",
      "For optimal performance, load the model like so:\n",
      "model = HookedSAETransformer.from_pretrained_no_processing(..., **cfg.model_from_pretrained_kwargs)\n",
      "  warnings.warn(\n"
     ]
    }
   ],
   "source": [
    "model, sae1, sae2 = feature_corrs.load_model_and_saes('cpu', 'gpt2-small-res-jb', 2, 11)\n"
   ]
  },
  {
   "cell_type": "code",
   "execution_count": 63,
   "id": "6d4d788f-4553-494b-9e14-3a5147847324",
   "metadata": {},
   "outputs": [
    {
     "data": {
      "text/plain": [
       "dict_keys(['deepseek-r1-distill-llama-8b-qresearch', 'gemma-2b-it-res-jb', 'gemma-2b-res-jb', 'gemma-scope-27b-pt-res', 'gemma-scope-27b-pt-res-canonical', 'gemma-scope-2b-pt-att', 'gemma-scope-2b-pt-att-canonical', 'gemma-scope-2b-pt-mlp', 'gemma-scope-2b-pt-mlp-canonical', 'gemma-scope-2b-pt-res', 'gemma-scope-2b-pt-res-canonical', 'gemma-scope-9b-it-res', 'gemma-scope-9b-it-res-canonical', 'gemma-scope-9b-pt-att', 'gemma-scope-9b-pt-att-canonical', 'gemma-scope-9b-pt-mlp', 'gemma-scope-9b-pt-mlp-canonical', 'gemma-scope-9b-pt-res', 'gemma-scope-9b-pt-res-canonical', 'gpt2-small-attn-out-v5-128k', 'gpt2-small-attn-out-v5-32k', 'gpt2-small-hook-z-kk', 'gpt2-small-mlp-out-v5-128k', 'gpt2-small-mlp-out-v5-32k', 'gpt2-small-mlp-tm', 'gpt2-small-res-jb', 'gpt2-small-res-jb-feature-splitting', 'gpt2-small-res_sce-ajt', 'gpt2-small-res_scefr-ajt', 'gpt2-small-res_scl-ajt', 'gpt2-small-res_sle-ajt', 'gpt2-small-res_slefr-ajt', 'gpt2-small-res_sll-ajt', 'gpt2-small-resid-mid-v5-128k', 'gpt2-small-resid-mid-v5-32k', 'gpt2-small-resid-post-v5-128k', 'gpt2-small-resid-post-v5-32k', 'llama-3-8b-it-res-jh', 'llama_scope_lxa_32x', 'llama_scope_lxa_8x', 'llama_scope_lxm_32x', 'llama_scope_lxm_8x', 'llama_scope_lxr_32x', 'llama_scope_lxr_8x', 'llama_scope_r1_distill', 'mistral-7b-res-wg', 'pythia-70m-deduped-att-sm', 'pythia-70m-deduped-mlp-sm', 'pythia-70m-deduped-res-sm', 'sae_bench_gemma-2-2b_topk_width-2pow12_date-1109', 'sae_bench_gemma-2-2b_topk_width-2pow14_date-1109', 'sae_bench_gemma-2-2b_topk_width-2pow16_date-1109', 'sae_bench_gemma-2-2b_vanilla_width-2pow12_date-1109', 'sae_bench_gemma-2-2b_vanilla_width-2pow14_date-1109', 'sae_bench_gemma-2-2b_vanilla_width-2pow16_date-1109', 'sae_bench_pythia70m_sweep_gated_ctx128_0730', 'sae_bench_pythia70m_sweep_panneal_ctx128_0730', 'sae_bench_pythia70m_sweep_standard_ctx128_0712', 'sae_bench_pythia70m_sweep_topk_ctx128_0730', 'gemma-2-2b-res-matryoshka-dc', 'gemma-2-2b-res-snap-matryoshka-dc', 'gemma-2-9b-res-matryoshka-dc', 'gemma-3-1b-res-matryoshka-dc'])"
      ]
     },
     "execution_count": 63,
     "metadata": {},
     "output_type": "execute_result"
    }
   ],
   "source": [
    "get_pretrained_saes_directory().keys()"
   ]
  },
  {
   "cell_type": "code",
   "execution_count": 79,
   "id": "5ccb0138-e02c-403f-83c8-bda352836d83",
   "metadata": {},
   "outputs": [
    {
     "data": {
      "text/plain": [
       "PretrainedSAELookup(release='llama-3-8b-it-res-jh', repo_id='Juliushanhanhan/llama-3-8b-it-res', model='meta-llama/Meta-Llama-3-8B-Instruct', conversion_func=None, saes_map={'blocks.25.hook_resid_post': 'blocks.25.hook_resid_post'}, expected_var_explained={'blocks.25.hook_resid_post': 1.0}, expected_l0={'blocks.25.hook_resid_post': 0.0}, neuronpedia_id={'blocks.25.hook_resid_post': 'llama3-8b-it/25-res-jh'}, config_overrides=None)"
      ]
     },
     "execution_count": 79,
     "metadata": {},
     "output_type": "execute_result"
    }
   ],
   "source": [
    "get_pretrained_saes_directory()['llama-3-8b-it-res-jh']"
   ]
  },
  {
   "cell_type": "code",
   "execution_count": 78,
   "id": "620dbcae-0f21-4716-a59b-2831aba37634",
   "metadata": {},
   "outputs": [],
   "source": [
    "W_a = sae1.W_dec.detach().numpy()# np.random.randn(20000, 1000).astype('float32')\n",
    "W_b = sae2.W_dec.detach().numpy()#np.random.randn(20000, 1000).astype('float32')\n",
    "\n"
   ]
  },
  {
   "cell_type": "code",
   "execution_count": 47,
   "id": "cb02e1a7-3d92-49c0-a0c5-e0c0e4b550f9",
   "metadata": {},
   "outputs": [
    {
     "name": "stdout",
     "output_type": "stream",
     "text": [
      "Similarity scores (D):\n",
      "[[0.45898816 0.44288117 0.4072416  0.40716505 0.38302565]\n",
      " [0.6721623  0.3706767  0.3543048  0.26595566 0.2653752 ]\n",
      " [0.29192102 0.24816486 0.22358085 0.22264764 0.21015954]\n",
      " [0.6143917  0.5701988  0.5181511  0.4389448  0.35316974]\n",
      " [0.37786502 0.26936984 0.2651514  0.2650683  0.26131153]]\n",
      "\n",
      "Indices of top-k matches in W_b (I):\n",
      "[[14977  6241 12622  4996 10855]\n",
      " [21167 24557 17293 13496 13563]\n",
      " [12146 20966 12171  6228  2840]\n",
      " [19982 20502  8560  7886 13692]\n",
      " [12319 11467 18581 10269  9651]]\n"
     ]
    }
   ],
   "source": [
    "import numpy as np\n",
    "import faiss\n",
    "import feature_corrs\n",
    "\n",
    "cpu_index = faiss.IndexFlatIP(1000)\n",
    "#res = faiss.StandardGpuResources()  # default GPU resources\n",
    "# Create example data\n",
    "W_a = sae1.W_dec.detach().numpy()# np.random.randn(20000, 1000).astype('float32')\n",
    "W_b = sae2.W_dec.detach().numpy()#np.random.randn(20000, 1000).astype('float32')\n",
    "\n",
    "\n",
    "# Optional: normalize for cosine similarity (unit vectors)\n",
    "faiss.normalize_L2(W_a)\n",
    "faiss.normalize_L2(W_b)\n",
    "\n",
    "# Step 1: Build index on W_b\n",
    "index = faiss.IndexFlatIP(W_a.shape[1])  # IP = inner product\n",
    "index.add(W_b)                   # index has 20000 vectors\n",
    "\n",
    "# Step 2: Search for top-k most similar rows from W_b for each row in W_a\n",
    "k = 5  # top-k neighbors\n",
    "D, I = index.search(W_a, k)  # D: similarities, I: indices of matches in W_b\n",
    "\n",
    "# Print sample of results\n",
    "print(\"Similarity scores (D):\")\n",
    "print(D[:5])  # print for first 5 rows\n",
    "\n",
    "print(\"\\nIndices of top-k matches in W_b (I):\")\n",
    "print(I[:5])  # print for first 5 rows\n",
    "\n"
   ]
  },
  {
   "cell_type": "code",
   "execution_count": 50,
   "id": "3a69cbab-3e5b-4bb0-80d2-d888f1a42112",
   "metadata": {},
   "outputs": [],
   "source": [
    "D_2_11 = D.copy()"
   ]
  },
  {
   "cell_type": "code",
   "execution_count": 51,
   "id": "60bbc7ca-1893-4abe-a27b-2e6d0ed083c0",
   "metadata": {},
   "outputs": [
    {
     "data": {
      "text/plain": [
       "(array([4637., 1279., 2221., 3280., 3135., 2902., 2786., 2839., 1442.,\n",
       "          55.]),\n",
       " array([0.11563949, 0.18769856, 0.25975764, 0.3318167 , 0.40387577,\n",
       "        0.47593483, 0.5479939 , 0.62005293, 0.69211203, 0.76417106,\n",
       "        0.83623016]),\n",
       " <BarContainer object of 10 artists>)"
      ]
     },
     "execution_count": 51,
     "metadata": {},
     "output_type": "execute_result"
    },
    {
     "data": {
      "image/png": "[encoded data removed]",
      "text/plain": [
       "<Figure size 640x480 with 1 Axes>"
      ]
     },
     "metadata": {},
     "output_type": "display_data"
    }
   ],
   "source": [
    "plt.hist(D_2_11[:,0])"
   ]
  },
  {
   "cell_type": "code",
   "execution_count": 62,
   "id": "16f08ebc-d195-4632-acbb-ab3b2ae5432a",
   "metadata": {},
   "outputs": [],
   "source": [
    "max_index = np.unravel_index(np.argmax(D), D.shape)\n",
    "m1 = max_index[0]\n",
    "m2 = I[m1, 0]"
   ]
  },
  {
   "cell_type": "code",
   "execution_count": 88,
   "id": "d3bb1091-6cce-4c59-9d7e-d4c41b1949d4",
   "metadata": {},
   "outputs": [
    {
     "name": "stdout",
     "output_type": "stream",
     "text": [
      " 1. W_a[9515] <-> W_b[17596], similarity = 0.8362\n",
      " 2. W_a[21514] <-> W_b[1652], similarity = 0.8323\n",
      " 3. W_a[5186] <-> W_b[5362], similarity = 0.8118\n",
      " 4. W_a[397] <-> W_b[19965], similarity = 0.8061\n",
      " 5. W_a[20704] <-> W_b[2800], similarity = 0.8060\n",
      " 6. W_a[1839] <-> W_b[7579], similarity = 0.7988\n",
      " 7. W_a[17932] <-> W_b[14337], similarity = 0.7963\n",
      " 8. W_a[15789] <-> W_b[11667], similarity = 0.7950\n",
      " 9. W_a[17135] <-> W_b[12], similarity = 0.7942\n",
      "10. W_a[23815] <-> W_b[1520], similarity = 0.7889\n",
      "11. W_a[15398] <-> W_b[23996], similarity = 0.7885\n",
      "12. W_a[14960] <-> W_b[15669], similarity = 0.7885\n",
      "13. W_a[14561] <-> W_b[9096], similarity = 0.7868\n",
      "14. W_a[3845] <-> W_b[11159], similarity = 0.7856\n",
      "15. W_a[17831] <-> W_b[7142], similarity = 0.7856\n",
      "16. W_a[19173] <-> W_b[14918], similarity = 0.7842\n",
      "17. W_a[11771] <-> W_b[17596], similarity = 0.7836\n",
      "18. W_a[19435] <-> W_b[21566], similarity = 0.7824\n",
      "19. W_a[18193] <-> W_b[24201], similarity = 0.7810\n",
      "20. W_a[13570] <-> W_b[20015], similarity = 0.7806\n"
     ]
    }
   ],
   "source": [
    "import numpy as np\n",
    "import heapq\n",
    "\n",
    "# Assume you already have:\n",
    "# D: shape (20000, k) – similarity scores\n",
    "# I: shape (20000, k) – matching indices in W_b for each W_a row\n",
    "\n",
    "k = D.shape[1]\n",
    "num_pairs = 20\n",
    "\n",
    "# Flatten D and get the top-N indices\n",
    "flat_indices = np.argpartition(D.flatten(), -num_pairs)[-num_pairs:]\n",
    "# Sort them by actual similarity\n",
    "flat_indices = flat_indices[np.argsort(D.flatten()[flat_indices])[::-1]]\n",
    "\n",
    "# Convert back to 2D indices: row in W_a, rank among its top-k\n",
    "row_indices, rank_indices = np.unravel_index(flat_indices, D.shape)\n",
    "\n",
    "# Retrieve (W_a index, W_b index, similarity) for top-20\n",
    "top_pairs = []\n",
    "for i in range(num_pairs):\n",
    "    a_idx = row_indices[i]\n",
    "    b_idx = I[a_idx, rank_indices[i]]\n",
    "    sim = D[a_idx, rank_indices[i]]\n",
    "    top_pairs.append((a_idx, b_idx, sim))\n",
    "\n",
    "# Print results\n",
    "for i, (a_idx, b_idx, sim) in enumerate(top_pairs):\n",
    "    print(f\"{i+1:2d}. W_a[{a_idx}] <-> W_b[{b_idx}], similarity = {sim:.4f}\")\n"
   ]
  },
  {
   "cell_type": "code",
   "execution_count": 70,
   "id": "d93f3cc3-e735-4d8c-a808-ff3545f2c43e",
   "metadata": {},
   "outputs": [
    {
     "data": {
      "text/plain": [
       "dict_keys(['deepseek-r1-distill-llama-8b-qresearch', 'gemma-2b-it-res-jb', 'gemma-2b-res-jb', 'gemma-scope-27b-pt-res', 'gemma-scope-27b-pt-res-canonical', 'gemma-scope-2b-pt-att', 'gemma-scope-2b-pt-att-canonical', 'gemma-scope-2b-pt-mlp', 'gemma-scope-2b-pt-mlp-canonical', 'gemma-scope-2b-pt-res', 'gemma-scope-2b-pt-res-canonical', 'gemma-scope-9b-it-res', 'gemma-scope-9b-it-res-canonical', 'gemma-scope-9b-pt-att', 'gemma-scope-9b-pt-att-canonical', 'gemma-scope-9b-pt-mlp', 'gemma-scope-9b-pt-mlp-canonical', 'gemma-scope-9b-pt-res', 'gemma-scope-9b-pt-res-canonical', 'gpt2-small-attn-out-v5-128k', 'gpt2-small-attn-out-v5-32k', 'gpt2-small-hook-z-kk', 'gpt2-small-mlp-out-v5-128k', 'gpt2-small-mlp-out-v5-32k', 'gpt2-small-mlp-tm', 'gpt2-small-res-jb', 'gpt2-small-res-jb-feature-splitting', 'gpt2-small-res_sce-ajt', 'gpt2-small-res_scefr-ajt', 'gpt2-small-res_scl-ajt', 'gpt2-small-res_sle-ajt', 'gpt2-small-res_slefr-ajt', 'gpt2-small-res_sll-ajt', 'gpt2-small-resid-mid-v5-128k', 'gpt2-small-resid-mid-v5-32k', 'gpt2-small-resid-post-v5-128k', 'gpt2-small-resid-post-v5-32k', 'llama-3-8b-it-res-jh', 'llama_scope_lxa_32x', 'llama_scope_lxa_8x', 'llama_scope_lxm_32x', 'llama_scope_lxm_8x', 'llama_scope_lxr_32x', 'llama_scope_lxr_8x', 'llama_scope_r1_distill', 'mistral-7b-res-wg', 'pythia-70m-deduped-att-sm', 'pythia-70m-deduped-mlp-sm', 'pythia-70m-deduped-res-sm', 'sae_bench_gemma-2-2b_topk_width-2pow12_date-1109', 'sae_bench_gemma-2-2b_topk_width-2pow14_date-1109', 'sae_bench_gemma-2-2b_topk_width-2pow16_date-1109', 'sae_bench_gemma-2-2b_vanilla_width-2pow12_date-1109', 'sae_bench_gemma-2-2b_vanilla_width-2pow14_date-1109', 'sae_bench_gemma-2-2b_vanilla_width-2pow16_date-1109', 'sae_bench_pythia70m_sweep_gated_ctx128_0730', 'sae_bench_pythia70m_sweep_panneal_ctx128_0730', 'sae_bench_pythia70m_sweep_standard_ctx128_0712', 'sae_bench_pythia70m_sweep_topk_ctx128_0730', 'gemma-2-2b-res-matryoshka-dc', 'gemma-2-2b-res-snap-matryoshka-dc', 'gemma-2-9b-res-matryoshka-dc', 'gemma-3-1b-res-matryoshka-dc'])"
      ]
     },
     "execution_count": 70,
     "metadata": {},
     "output_type": "execute_result"
    }
   ],
   "source": [
    "get_pretrained_saes_directory().keys()"
   ]
  },
  {
   "cell_type": "code",
   "execution_count": 82,
   "id": "a2da9c18-66b7-4360-94f9-2d4c5a6cee99",
   "metadata": {},
   "outputs": [
    {
     "data": {
      "text/plain": [
       "PretrainedSAELookup(release='deepseek-r1-distill-llama-8b-qresearch', repo_id='qresearch/DeepSeek-R1-Distill-Llama-8B-SAE-l19', model='deepseek-ai/DeepSeek-R1-Distill-Llama-8B', conversion_func='deepseek_r1', saes_map={'blocks.19.hook_resid_post': 'DeepSeek-R1-Distill-Llama-8B-SAE-l19.pt'}, expected_var_explained={'blocks.19.hook_resid_post': 1.0}, expected_l0={'blocks.19.hook_resid_post': 0.0}, neuronpedia_id={'blocks.19.hook_resid_post': 'deepseek-r1-distill-llama-8b/19-qresearch-res-65k'}, config_overrides=None)"
      ]
     },
     "execution_count": 82,
     "metadata": {},
     "output_type": "execute_result"
    }
   ],
   "source": [
    "get_pretrained_saes_directory()['deepseek-r1-distill-llama-8b-qresearch']"
   ]
  },
  {
   "cell_type": "code",
   "execution_count": 7,
   "id": "64bd55e0-c70e-4713-a87b-f681d8378290",
   "metadata": {},
   "outputs": [],
   "source": [
    "from transformer_lens import ActivationCache, HookedTransformer\n",
    "from sae_lens import SAE\n",
    "\n",
    "#model = HookedSAETransformer.from_pretrained('deepseek-r1-distill-llama-8b-qresearch', device='cpu')\n",
    "    \n",
    "W_distill_dec = SAE.from_pretrained(\n",
    "    release='deepseek-r1-distill-llama-8b-qresearch',\n",
    "    sae_id=f\"blocks.19.hook_resid_post\",\n",
    "    device=str('cpu'),\n",
    ")[0].W_dec"
   ]
  },
  {
   "cell_type": "code",
   "execution_count": 8,
   "id": "94bc9efb-106a-44b0-b676-40eb08194c24",
   "metadata": {},
   "outputs": [
    {
     "data": {
      "application/vnd.jupyter.widget-view+json": {
       "model_id": "d5fcfa59801d4239a88fd4808d32a5f3",
       "version_major": 2,
       "version_minor": 0
      },
      "text/plain": [
       "sae_weights.safetensors:  31%|###1      | 974M/3.12G [00:00<?, ?B/s]"
      ]
     },
     "metadata": {},
     "output_type": "display_data"
    },
    {
     "data": {
      "application/vnd.jupyter.widget-view+json": {
       "model_id": "8085780f699a490e86d6643e2dad67f7",
       "version_major": 2,
       "version_minor": 0
      },
      "text/plain": [
       "sparsity.safetensors:   0%|          | 0.00/262k [00:00<?, ?B/s]"
      ]
     },
     "metadata": {},
     "output_type": "display_data"
    },
    {
     "name": "stderr",
     "output_type": "stream",
     "text": [
      "/home/users/sv226/.local/lib/python3.10/site-packages/sae_lens/sae.py:654: UserWarning: norm_scaling_factor not found for llama-3-8b-it-res-jh and blocks.25.hook_resid_post, but normalize_activations is 'expected_average_only_in'. Skipping normalization folding.\n",
      "  warnings.warn(\n"
     ]
    }
   ],
   "source": [
    "    \n",
    "W_Base_dec = SAE.from_pretrained(\n",
    "    release='llama-3-8b-it-res-jh',\n",
    "    sae_id=f\"blocks.25.hook_resid_post\",\n",
    "    device=str('cpu'),\n",
    ")[0].W_dec"
   ]
  },
  {
   "cell_type": "code",
   "execution_count": 14,
   "id": "ef62eec5-fa5d-46cd-bc07-093f1470679f",
   "metadata": {},
   "outputs": [
    {
     "data": {
      "text/plain": [
       "'\\nall_pairs = [(1,3), (3, 5), (1, 5), (5, 7), (7, 9), (9, 11), (5,11)]\\nfor (a,b) in all_pairs:\\n    D, _ = get_D(a,b)\\n    sns.histplot(D[:, 0], label=f\\'ρ({a},{b})\\', stat=\\'density\\', kde=False, alpha=0.7, element=\"step\")\\n\\nplt.legend()\\nplt.xlabel(\"Latent max-similarity score\")\\nplt.ylabel(\"Density\")\\nplt.show()\\n'"
      ]
     },
     "execution_count": 14,
     "metadata": {},
     "output_type": "execute_result"
    }
   ],
   "source": [
    "import numpy as np\n",
    "import faiss\n",
    "import feature_corrs\n",
    "\n",
    "def get_D(l1=None, l2=None, W_a = None, W_b = None):\n",
    "    if W_a is None:\n",
    "        _, s1, s2 = feature_corrs.load_model_and_saes('cpu', 'gpt2-small-res-jb', l1, l2)\n",
    "        #res = faiss.StandardGpuResources()  # default GPU resources\n",
    "        # Create example data\n",
    "        W_a = s1.W_dec.detach().numpy()# np.random.randn(20000, 1000).astype('float32')\n",
    "        W_b = s2.W_dec.detach().numpy()#np.random.randn(20000, 1000).astype('float32')\n",
    "\n",
    "    cpu_index = faiss.IndexFlatIP(1000)\n",
    "\n",
    "    # Optional: normalize for cosine similarity (unit vectors)\n",
    "    faiss.normalize_L2(W_a)\n",
    "    faiss.normalize_L2(W_b)\n",
    "\n",
    "    # Step 1: Build index on W_b\n",
    "    index = faiss.IndexFlatIP(W_a.shape[1])  # IP = inner product\n",
    "    index.add(W_b)                   # index has 20000 vectors\n",
    "\n",
    "    # Step 2: Search for top-k most similar rows from W_b for each row in W_a\n",
    "    k = 5  # top-k neighbors\n",
    "    D, I = index.search(W_a, k)  # D: similarities, I: indices of matches in W_b\n",
    "\n",
    "    # Print sample of results\n",
    "    print(\"Similarity scores (D):\")\n",
    "    print(D[:5])  # print for first 5 rows\n",
    "\n",
    "    print(\"\\nIndices of top-k matches in W_b (I):\")\n",
    "    print(I[:5])  # print for first 5 rows\n",
    "    \n",
    "    return D, I\n",
    "'''\n",
    "all_pairs = [(1,3), (3, 5), (1, 5), (5, 7), (7, 9), (9, 11), (5,11)]\n",
    "for (a,b) in all_pairs:\n",
    "    D, _ = get_D(a,b)\n",
    "    sns.histplot(D[:, 0], label=f'ρ({a},{b})', stat='density', kde=False, alpha=0.7, element=\"step\")\n",
    "\n",
    "plt.legend()\n",
    "plt.xlabel(\"Latent max-similarity score\")\n",
    "plt.ylabel(\"Density\")\n",
    "plt.show()\n",
    "'''"
   ]
  },
  {
   "cell_type": "code",
   "execution_count": 25,
   "id": "2429853f-b93f-44d2-b8b5-6d6e191e227f",
   "metadata": {},
   "outputs": [
    {
     "data": {
      "text/plain": [
       "array([[-0.00187683, -0.00318909,  0.00144958, ..., -0.00180054,\n",
       "         0.00285339, -0.0020752 ],\n",
       "       [-0.00177002, -0.00405884,  0.00015736, ..., -0.00216675,\n",
       "         0.00095367, -0.00201416],\n",
       "       [-0.00109863, -0.00335693,  0.00344849, ..., -0.00509644,\n",
       "         0.00350952, -0.00259399],\n",
       "       ...,\n",
       "       [ 0.00106049, -0.00354004,  0.00354004, ..., -0.00204468,\n",
       "         0.0005188 ,  0.00120544],\n",
       "       [-0.00218201, -0.00114441,  0.00344849, ..., -0.00273132,\n",
       "        -0.00241089, -0.00048637],\n",
       "       [-0.00172424, -0.00488281,  0.00296021, ..., -0.00236511,\n",
       "         0.00162506, -0.00291443]], dtype=float32)"
      ]
     },
     "execution_count": 25,
     "metadata": {},
     "output_type": "execute_result"
    }
   ],
   "source": [
    "W_distill_dec.detach().cpu().float().numpy()"
   ]
  },
  {
   "cell_type": "raw",
   "id": "c92d43fb-71c2-4da2-9688-736ca070a629",
   "metadata": {},
   "source": [
    "D, I = get_D(W_b = W_distill_dec.detach().float().numpy(), W_a = W_Base_dec.detach().float().numpy())"
   ]
  },
  {
   "cell_type": "code",
   "execution_count": 53,
   "id": "cf36121f-8ebe-4b60-9d61-2015ba54e858",
   "metadata": {},
   "outputs": [
    {
     "data": {
      "text/plain": [
       "Text(0.5, 0, 'Latent max-similarity score')"
      ]
     },
     "execution_count": 53,
     "metadata": {},
     "output_type": "execute_result"
    },
    {
     "data": {
      "image/png": "[encoded data removed]",
      "text/plain": [
       "<Figure size 640x480 with 1 Axes>"
      ]
     },
     "metadata": {},
     "output_type": "display_data"
    }
   ],
   "source": [
    "sns.histplot(D[:,0], stat = \"density\")\n",
    "plt.xlabel(\"Latent max-similarity score\")"
   ]
  },
  {
   "cell_type": "code",
   "execution_count": 37,
   "id": "7ca70489-0ec0-4755-82f2-6ae0d35631d4",
   "metadata": {},
   "outputs": [
    {
     "name": "stdout",
     "output_type": "stream",
     "text": [
      " 1. W_a[63640] <-> W_b[47134], similarity = 0.9992\n",
      " 2. W_a[63640] <-> W_b[62273], similarity = 0.9992\n",
      " 3. W_a[63640] <-> W_b[28003], similarity = 0.9992\n",
      " 4. W_a[63640] <-> W_b[57173], similarity = 0.9992\n",
      " 5. W_a[63640] <-> W_b[54788], similarity = 0.9992\n",
      " 6. W_a[61132] <-> W_b[47134], similarity = 0.9992\n",
      " 7. W_a[61132] <-> W_b[62273], similarity = 0.9992\n",
      " 8. W_a[61132] <-> W_b[28003], similarity = 0.9992\n",
      " 9. W_a[61132] <-> W_b[57173], similarity = 0.9992\n",
      "10. W_a[61132] <-> W_b[54788], similarity = 0.9992\n",
      "11. W_a[9477] <-> W_b[47134], similarity = 0.9992\n",
      "12. W_a[9477] <-> W_b[62273], similarity = 0.9992\n",
      "13. W_a[23939] <-> W_b[47134], similarity = 0.9992\n",
      "14. W_a[9477] <-> W_b[28003], similarity = 0.9992\n",
      "15. W_a[9477] <-> W_b[57173], similarity = 0.9992\n",
      "16. W_a[9477] <-> W_b[54788], similarity = 0.9992\n",
      "17. W_a[2398] <-> W_b[47134], similarity = 0.9992\n",
      "18. W_a[23939] <-> W_b[62273], similarity = 0.9992\n",
      "19. W_a[23939] <-> W_b[28003], similarity = 0.9992\n",
      "20. W_a[23939] <-> W_b[54788], similarity = 0.9992\n",
      "21. W_a[23939] <-> W_b[57173], similarity = 0.9992\n",
      "22. W_a[2398] <-> W_b[62273], similarity = 0.9992\n",
      "23. W_a[934] <-> W_b[47134], similarity = 0.9992\n",
      "24. W_a[2398] <-> W_b[28003], similarity = 0.9992\n",
      "25. W_a[2398] <-> W_b[54788], similarity = 0.9992\n",
      "26. W_a[2398] <-> W_b[57173], similarity = 0.9992\n",
      "27. W_a[934] <-> W_b[62273], similarity = 0.9992\n",
      "28. W_a[934] <-> W_b[28003], similarity = 0.9992\n",
      "29. W_a[934] <-> W_b[54788], similarity = 0.9992\n",
      "30. W_a[934] <-> W_b[57173], similarity = 0.9992\n",
      "31. W_a[42353] <-> W_b[47134], similarity = 0.9992\n",
      "32. W_a[42353] <-> W_b[62273], similarity = 0.9992\n",
      "33. W_a[42353] <-> W_b[28003], similarity = 0.9992\n",
      "34. W_a[42353] <-> W_b[54788], similarity = 0.9992\n",
      "35. W_a[42353] <-> W_b[57173], similarity = 0.9992\n",
      "36. W_a[63394] <-> W_b[6535], similarity = 0.9765\n",
      "37. W_a[63394] <-> W_b[53938], similarity = 0.9765\n",
      "38. W_a[63394] <-> W_b[64868], similarity = 0.9765\n",
      "39. W_a[63394] <-> W_b[36528], similarity = 0.9765\n",
      "40. W_a[63394] <-> W_b[36967], similarity = 0.9765\n",
      "41. W_a[27366] <-> W_b[2992], similarity = 0.9743\n",
      "42. W_a[27366] <-> W_b[65128], similarity = 0.9743\n",
      "43. W_a[27366] <-> W_b[9485], similarity = 0.9743\n",
      "44. W_a[27366] <-> W_b[18142], similarity = 0.9743\n",
      "45. W_a[27366] <-> W_b[715], similarity = 0.9743\n",
      "46. W_a[44755] <-> W_b[62184], similarity = 0.9668\n",
      "47. W_a[44755] <-> W_b[53705], similarity = 0.9668\n",
      "48. W_a[44755] <-> W_b[17188], similarity = 0.9668\n",
      "49. W_a[44755] <-> W_b[48117], similarity = 0.9668\n",
      "50. W_a[44755] <-> W_b[26135], similarity = 0.9668\n",
      "51. W_a[19401] <-> W_b[185], similarity = 0.9627\n",
      "52. W_a[19401] <-> W_b[45777], similarity = 0.9626\n",
      "53. W_a[19401] <-> W_b[38203], similarity = 0.9626\n",
      "54. W_a[19401] <-> W_b[34921], similarity = 0.9626\n",
      "55. W_a[19401] <-> W_b[21778], similarity = 0.9625\n",
      "56. W_a[39149] <-> W_b[31231], similarity = 0.9488\n",
      "57. W_a[39149] <-> W_b[40383], similarity = 0.9488\n",
      "58. W_a[39149] <-> W_b[16432], similarity = 0.9488\n",
      "59. W_a[39149] <-> W_b[40459], similarity = 0.9488\n",
      "60. W_a[39149] <-> W_b[17671], similarity = 0.9488\n",
      "61. W_a[3002] <-> W_b[185], similarity = 0.9464\n",
      "62. W_a[3002] <-> W_b[45777], similarity = 0.9463\n",
      "63. W_a[3002] <-> W_b[38203], similarity = 0.9463\n",
      "64. W_a[3002] <-> W_b[34921], similarity = 0.9462\n",
      "65. W_a[3002] <-> W_b[28074], similarity = 0.9462\n",
      "66. W_a[37266] <-> W_b[6562], similarity = 0.9423\n",
      "67. W_a[37266] <-> W_b[57542], similarity = 0.9423\n",
      "68. W_a[37266] <-> W_b[18040], similarity = 0.9423\n",
      "69. W_a[37266] <-> W_b[62273], similarity = 0.9423\n",
      "70. W_a[37266] <-> W_b[64211], similarity = 0.9423\n",
      "71. W_a[20368] <-> W_b[6562], similarity = 0.9408\n",
      "72. W_a[20368] <-> W_b[65128], similarity = 0.9408\n",
      "73. W_a[20368] <-> W_b[2992], similarity = 0.9408\n",
      "74. W_a[20368] <-> W_b[57542], similarity = 0.9408\n",
      "75. W_a[20368] <-> W_b[35978], similarity = 0.9408\n",
      "76. W_a[35841] <-> W_b[28074], similarity = 0.9319\n",
      "77. W_a[35841] <-> W_b[185], similarity = 0.9317\n",
      "78. W_a[35841] <-> W_b[45777], similarity = 0.9317\n",
      "79. W_a[35841] <-> W_b[11963], similarity = 0.9316\n",
      "80. W_a[35841] <-> W_b[38203], similarity = 0.9316\n",
      "81. W_a[13244] <-> W_b[28074], similarity = 0.9303\n",
      "82. W_a[13244] <-> W_b[185], similarity = 0.9302\n",
      "83. W_a[13244] <-> W_b[45777], similarity = 0.9302\n",
      "84. W_a[13244] <-> W_b[38203], similarity = 0.9301\n",
      "85. W_a[13244] <-> W_b[11963], similarity = 0.9301\n",
      "86. W_a[64586] <-> W_b[185], similarity = 0.9296\n",
      "87. W_a[64586] <-> W_b[45777], similarity = 0.9295\n",
      "88. W_a[64586] <-> W_b[28074], similarity = 0.9295\n",
      "89. W_a[64586] <-> W_b[38203], similarity = 0.9294\n",
      "90. W_a[64586] <-> W_b[34921], similarity = 0.9294\n",
      "91. W_a[28203] <-> W_b[185], similarity = 0.9258\n",
      "92. W_a[28203] <-> W_b[45777], similarity = 0.9257\n",
      "93. W_a[28203] <-> W_b[28074], similarity = 0.9257\n",
      "94. W_a[28203] <-> W_b[64335], similarity = 0.9257\n",
      "95. W_a[28203] <-> W_b[38203], similarity = 0.9257\n",
      "96. W_a[42528] <-> W_b[62273], similarity = 0.9244\n",
      "97. W_a[42528] <-> W_b[18040], similarity = 0.9244\n",
      "98. W_a[42528] <-> W_b[6562], similarity = 0.9244\n",
      "99. W_a[42528] <-> W_b[21223], similarity = 0.9244\n",
      "100. W_a[42528] <-> W_b[64211], similarity = 0.9244\n"
     ]
    }
   ],
   "source": [
    "import numpy as np\n",
    "import heapq\n",
    "\n",
    "# Assume you already have:\n",
    "# D: shape (20000, k) – similarity scores\n",
    "# I: shape (20000, k) – matching indices in W_b for each W_a row\n",
    "\n",
    "k = D.shape[1]\n",
    "num_pairs = 100\n",
    "\n",
    "# Flatten D and get the top-N indices\n",
    "flat_indices = np.argpartition(D.flatten(), -num_pairs)[-num_pairs:]\n",
    "# Sort them by actual similarity\n",
    "flat_indices = flat_indices[np.argsort(D.flatten()[flat_indices])[::-1]]\n",
    "\n",
    "# Convert back to 2D indices: row in W_a, rank among its top-k\n",
    "row_indices, rank_indices = np.unravel_index(flat_indices, D.shape)\n",
    "\n",
    "# Retrieve (W_a index, W_b index, similarity) for top-20\n",
    "top_pairs = []\n",
    "for i in range(num_pairs):\n",
    "    a_idx = row_indices[i]\n",
    "    b_idx = I[a_idx, rank_indices[i]]\n",
    "    sim = D[a_idx, rank_indices[i]]\n",
    "    top_pairs.append((a_idx, b_idx, sim))\n",
    "\n",
    "# Print results\n",
    "for i, (a_idx, b_idx, sim) in enumerate(top_pairs):\n",
    "    print(f\"{i+1:2d}. W_a[{a_idx}] <-> W_b[{b_idx}], similarity = {sim:.4f}\")\n"
   ]
  },
  {
   "cell_type": "code",
   "execution_count": 50,
   "id": "1e9d505e-8b13-4bf8-85fd-a9b6a6981d66",
   "metadata": {},
   "outputs": [
    {
     "name": "stdout",
     "output_type": "stream",
     "text": [
      "PretrainedSAELookup(release='deepseek-r1-distill-llama-8b-qresearch', repo_id='qresearch/DeepSeek-R1-Distill-Llama-8B-SAE-l19', model='deepseek-ai/DeepSeek-R1-Distill-Llama-8B', conversion_func='deepseek_r1', saes_map={'blocks.19.hook_resid_post': 'DeepSeek-R1-Distill-Llama-8B-SAE-l19.pt'}, expected_var_explained={'blocks.19.hook_resid_post': 1.0}, expected_l0={'blocks.19.hook_resid_post': 0.0}, neuronpedia_id={'blocks.19.hook_resid_post': 'deepseek-r1-distill-llama-8b/19-qresearch-res-65k'}, config_overrides=None)\n",
      "deepseek-r1-distill-llama-8b/19-qresearch-res-65k\n",
      "https://neuronpedia.org/deepseek-r1-distill-llama-8b/19-qresearch-res-65k/3022?embed=true&embedexplanation=true&embedplots=true&embedtest=true&height=300\n"
     ]
    },
    {
     "data": {
      "text/html": [
       "\n",
       "        <iframe\n",
       "            width=\"800\"\n",
       "            height=\"600\"\n",
       "            src=\"https://neuronpedia.org/deepseek-r1-distill-llama-8b/19-qresearch-res-65k/3022?embed=true&embedexplanation=true&embedplots=true&embedtest=true&height=300\"\n",
       "            frameborder=\"0\"\n",
       "            allowfullscreen\n",
       "            \n",
       "        ></iframe>\n",
       "        "
      ],
      "text/plain": [
       "<IPython.lib.display.IFrame at 0x7fa7a18b8cd0>"
      ]
     },
     "metadata": {},
     "output_type": "display_data"
    }
   ],
   "source": [
    "display_dashboard(sae_release='deepseek-r1-distill-llama-8b-qresearch',layer=19,latent_idx=3022,lt = 'post')"
   ]
  },
  {
   "cell_type": "code",
   "execution_count": 47,
   "id": "04c90b32-8ea7-48bd-ae2c-849e813533a4",
   "metadata": {},
   "outputs": [
    {
     "name": "stdout",
     "output_type": "stream",
     "text": [
      "PretrainedSAELookup(release='llama-3-8b-it-res-jh', repo_id='Juliushanhanhan/llama-3-8b-it-res', model='meta-llama/Meta-Llama-3-8B-Instruct', conversion_func=None, saes_map={'blocks.25.hook_resid_post': 'blocks.25.hook_resid_post'}, expected_var_explained={'blocks.25.hook_resid_post': 1.0}, expected_l0={'blocks.25.hook_resid_post': 0.0}, neuronpedia_id={'blocks.25.hook_resid_post': 'llama3-8b-it/25-res-jh'}, config_overrides=None)\n",
      "llama3-8b-it/25-res-jh\n",
      "https://neuronpedia.org/llama3-8b-it/25-res-jh/47134?embed=true&embedexplanation=true&embedplots=true&embedtest=true&height=300\n"
     ]
    },
    {
     "data": {
      "text/html": [
       "\n",
       "        <iframe\n",
       "            width=\"800\"\n",
       "            height=\"600\"\n",
       "            src=\"https://neuronpedia.org/llama3-8b-it/25-res-jh/47134?embed=true&embedexplanation=true&embedplots=true&embedtest=true&height=300\"\n",
       "            frameborder=\"0\"\n",
       "            allowfullscreen\n",
       "            \n",
       "        ></iframe>\n",
       "        "
      ],
      "text/plain": [
       "<IPython.lib.display.IFrame at 0x7fa7a17a55a0>"
      ]
     },
     "metadata": {},
     "output_type": "display_data"
    }
   ],
   "source": [
    "display_dashboard('llama-3-8b-it-res-jh', 25, 47134, lt = 'post')"
   ]
  },
  {
   "cell_type": "code",
   "execution_count": 55,
   "id": "168a66bb-8116-40a2-ba83-3da785ebd0c3",
   "metadata": {
    "scrolled": true,
    "tags": []
   },
   "outputs": [
    {
     "name": "stdout",
     "output_type": "stream",
     "text": [
      "Loaded pretrained model gpt2-small into HookedTransformer\n"
     ]
    },
    {
     "name": "stderr",
     "output_type": "stream",
     "text": [
      "/home/users/sv226/.local/lib/python3.10/site-packages/sae_lens/sae.py:151: UserWarning: \n",
      "This SAE has non-empty model_from_pretrained_kwargs. \n",
      "For optimal performance, load the model like so:\n",
      "model = HookedSAETransformer.from_pretrained_no_processing(..., **cfg.model_from_pretrained_kwargs)\n",
      "  warnings.warn(\n"
     ]
    },
    {
     "name": "stdout",
     "output_type": "stream",
     "text": [
      "Similarity scores (D):\n",
      "[[0.7736896  0.48565763 0.48323113 0.43281168 0.42006278]\n",
      " [0.8256868  0.6950902  0.66747636 0.64440155 0.6182483 ]\n",
      " [0.2827432  0.2614268  0.2529068  0.24641821 0.23455943]\n",
      " [0.4309636  0.4065518  0.37239772 0.3497087  0.29860017]\n",
      " [0.15579657 0.15476006 0.15378696 0.15022138 0.14417806]]\n",
      "\n",
      "Indices of top-k matches in W_b (I):\n",
      "[[10213 13280  1480 18189 22282]\n",
      " [10279  6482  7007 15421 12164]\n",
      " [11402 11199  4097 23342 10789]\n",
      " [10545 17659 17645 12755 14212]\n",
      " [24010  5091  5627  4965  7793]]\n",
      "Loaded pretrained model gpt2-small into HookedTransformer\n"
     ]
    },
    {
     "name": "stderr",
     "output_type": "stream",
     "text": [
      "/home/users/sv226/.local/lib/python3.10/site-packages/sae_lens/sae.py:151: UserWarning: \n",
      "This SAE has non-empty model_from_pretrained_kwargs. \n",
      "For optimal performance, load the model like so:\n",
      "model = HookedSAETransformer.from_pretrained_no_processing(..., **cfg.model_from_pretrained_kwargs)\n",
      "  warnings.warn(\n"
     ]
    },
    {
     "name": "stdout",
     "output_type": "stream",
     "text": [
      "Similarity scores (D):\n",
      "[[0.48971385 0.432966   0.40303212 0.34718496 0.3404836 ]\n",
      " [0.74894893 0.5672922  0.37293914 0.36766273 0.3444181 ]\n",
      " [0.2672506  0.2419512  0.2398563  0.22490945 0.21454266]\n",
      " [0.3752421  0.3389845  0.3050295  0.26702216 0.25470263]\n",
      " [0.15101258 0.13813998 0.13627018 0.13335796 0.13242583]]\n",
      "\n",
      "Indices of top-k matches in W_b (I):\n",
      "[[  685 23597 17296  5956 14802]\n",
      " [  599 16186  6856 15608   949]\n",
      " [23905  9747 19103 15595 14562]\n",
      " [ 7311 24298 22551  8249  8517]\n",
      " [ 4362 20633  1055 18566  1857]]\n",
      "Loaded pretrained model gpt2-small into HookedTransformer\n"
     ]
    },
    {
     "name": "stderr",
     "output_type": "stream",
     "text": [
      "/home/users/sv226/.local/lib/python3.10/site-packages/sae_lens/sae.py:151: UserWarning: \n",
      "This SAE has non-empty model_from_pretrained_kwargs. \n",
      "For optimal performance, load the model like so:\n",
      "model = HookedSAETransformer.from_pretrained_no_processing(..., **cfg.model_from_pretrained_kwargs)\n",
      "  warnings.warn(\n"
     ]
    },
    {
     "name": "stdout",
     "output_type": "stream",
     "text": [
      "Similarity scores (D):\n",
      "[[0.4474287  0.29729146 0.2919581  0.27456492 0.26901478]\n",
      " [0.64964753 0.341362   0.33502668 0.30081606 0.28184593]\n",
      " [0.22779378 0.21090126 0.19637558 0.18248375 0.18207312]\n",
      " [0.34890124 0.24958661 0.22761454 0.22495705 0.21478622]\n",
      " [0.13451713 0.13244502 0.12350995 0.12321618 0.12212402]]\n",
      "\n",
      "Indices of top-k matches in W_b (I):\n",
      "[[15714 12246  6514 12496 21447]\n",
      " [15698   305  9452 17947 14934]\n",
      " [ 4575  2536 17031  8055  5484]\n",
      " [ 8892  5862 22236 10911 23702]\n",
      " [ 7321 10884  1471   818  2134]]\n",
      "Loaded pretrained model gpt2-small into HookedTransformer\n"
     ]
    },
    {
     "name": "stderr",
     "output_type": "stream",
     "text": [
      "/home/users/sv226/.local/lib/python3.10/site-packages/sae_lens/sae.py:151: UserWarning: \n",
      "This SAE has non-empty model_from_pretrained_kwargs. \n",
      "For optimal performance, load the model like so:\n",
      "model = HookedSAETransformer.from_pretrained_no_processing(..., **cfg.model_from_pretrained_kwargs)\n",
      "  warnings.warn(\n"
     ]
    },
    {
     "name": "stdout",
     "output_type": "stream",
     "text": [
      "Similarity scores (D):\n",
      "[[0.7796464  0.71393764 0.6221011  0.5651187  0.45416358]\n",
      " [0.8214861  0.5154207  0.49369073 0.46516216 0.4360322 ]\n",
      " [0.14160442 0.12381652 0.12145767 0.11907993 0.11639697]\n",
      " [0.7453681  0.59954906 0.3904447  0.34921667 0.32448867]\n",
      " [0.13974708 0.13830435 0.13659309 0.13574007 0.11885463]]\n",
      "\n",
      "Indices of top-k matches in W_b (I):\n",
      "[[ 3296 21229  5416  7059 13357]\n",
      " [ 3067 23012  2808 20248 23076]\n",
      " [20059 22964 19943 11613 17833]\n",
      " [17326 13039 11429 17883 14718]\n",
      " [18512 23139  9236  9896 14416]]\n",
      "Loaded pretrained model gpt2-small into HookedTransformer\n"
     ]
    },
    {
     "name": "stderr",
     "output_type": "stream",
     "text": [
      "/home/users/sv226/.local/lib/python3.10/site-packages/sae_lens/sae.py:151: UserWarning: \n",
      "This SAE has non-empty model_from_pretrained_kwargs. \n",
      "For optimal performance, load the model like so:\n",
      "model = HookedSAETransformer.from_pretrained_no_processing(..., **cfg.model_from_pretrained_kwargs)\n",
      "  warnings.warn(\n"
     ]
    },
    {
     "name": "stdout",
     "output_type": "stream",
     "text": [
      "Similarity scores (D):\n",
      "[[0.8880978  0.45970517 0.4536606  0.45142323 0.4232974 ]\n",
      " [0.91022205 0.5590751  0.4963607  0.48189992 0.42125195]\n",
      " [0.652171   0.51533216 0.4757101  0.4406643  0.4209361 ]\n",
      " [0.8979509  0.38383496 0.32949317 0.3142774  0.30798435]\n",
      " [0.6671779  0.3901     0.377096   0.32439318 0.32074594]]\n",
      "\n",
      "Indices of top-k matches in W_b (I):\n",
      "[[23273  4497 17635 15816 20390]\n",
      " [ 4527 15596 12473 24008 17698]\n",
      " [ 2575 10920 19003 10137  9280]\n",
      " [12714 11638  2520 20651 10659]\n",
      " [ 4701  2613 12914  3867  7367]]\n",
      "Loaded pretrained model gpt2-small into HookedTransformer\n"
     ]
    },
    {
     "name": "stderr",
     "output_type": "stream",
     "text": [
      "/home/users/sv226/.local/lib/python3.10/site-packages/sae_lens/sae.py:151: UserWarning: \n",
      "This SAE has non-empty model_from_pretrained_kwargs. \n",
      "For optimal performance, load the model like so:\n",
      "model = HookedSAETransformer.from_pretrained_no_processing(..., **cfg.model_from_pretrained_kwargs)\n",
      "  warnings.warn(\n"
     ]
    },
    {
     "name": "stdout",
     "output_type": "stream",
     "text": [
      "Similarity scores (D):\n",
      "[[0.8000746  0.44835937 0.408594   0.3509224  0.34664035]\n",
      " [0.66496414 0.45528287 0.38776678 0.37918624 0.3149668 ]\n",
      " [0.43109953 0.37265244 0.36901003 0.32538676 0.3229149 ]\n",
      " [0.36839572 0.30403203 0.26811394 0.25307524 0.25295267]\n",
      " [0.40845674 0.28572744 0.2534832  0.25104833 0.24318224]]\n",
      "\n",
      "Indices of top-k matches in W_b (I):\n",
      "[[13235  4221 22951  5178  1654]\n",
      " [14111 19481  3279  4530 20674]\n",
      " [11809 23015 21853 14425 10196]\n",
      " [ 8360  8155  5012 24375 24393]\n",
      " [ 1129 19957   386  3489 15388]]\n",
      "Loaded pretrained model gpt2-small into HookedTransformer\n"
     ]
    },
    {
     "name": "stderr",
     "output_type": "stream",
     "text": [
      "/home/users/sv226/.local/lib/python3.10/site-packages/sae_lens/sae.py:151: UserWarning: \n",
      "This SAE has non-empty model_from_pretrained_kwargs. \n",
      "For optimal performance, load the model like so:\n",
      "model = HookedSAETransformer.from_pretrained_no_processing(..., **cfg.model_from_pretrained_kwargs)\n",
      "  warnings.warn(\n"
     ]
    },
    {
     "name": "stdout",
     "output_type": "stream",
     "text": [
      "Similarity scores (D):\n",
      "[[0.27189627 0.2567     0.24909748 0.24073188 0.23996356]\n",
      " [0.6820309  0.33732125 0.29592    0.28720918 0.2833057 ]\n",
      " [0.30931318 0.29473862 0.28678894 0.28081638 0.27585912]\n",
      " [0.16447598 0.1634067  0.16321528 0.16193464 0.1566017 ]\n",
      " [0.19201729 0.13381478 0.12324448 0.12101048 0.11975363]]\n",
      "\n",
      "Indices of top-k matches in W_b (I):\n",
      "[[ 6134 11847 16360 21788  4424]\n",
      " [ 8493  7235 11025 14701 21996]\n",
      " [11771 19589 22422 18708  5791]\n",
      " [23928  3605 16437 23814 14568]\n",
      " [13445 11399 23169 10507 17843]]\n",
      "Loaded pretrained model gpt2-small into HookedTransformer\n"
     ]
    },
    {
     "name": "stderr",
     "output_type": "stream",
     "text": [
      "/home/users/sv226/.local/lib/python3.10/site-packages/sae_lens/sae.py:151: UserWarning: \n",
      "This SAE has non-empty model_from_pretrained_kwargs. \n",
      "For optimal performance, load the model like so:\n",
      "model = HookedSAETransformer.from_pretrained_no_processing(..., **cfg.model_from_pretrained_kwargs)\n",
      "  warnings.warn(\n"
     ]
    },
    {
     "name": "stdout",
     "output_type": "stream",
     "text": [
      "Similarity scores (D):\n",
      "[[0.6060959  0.36995453 0.36620468 0.36068255 0.3523748 ]\n",
      " [0.7653826  0.42365873 0.32788488 0.31402278 0.31388712]\n",
      " [0.7228967  0.45571142 0.45213303 0.40615618 0.40599918]\n",
      " [0.57133466 0.5374992  0.28514642 0.2744636  0.26328537]\n",
      " [0.351015   0.28771877 0.2514832  0.24926503 0.24296105]]\n",
      "\n",
      "Indices of top-k matches in W_b (I):\n",
      "[[ 2150  2326  3058  5950 23616]\n",
      " [21043 11702 18308  3850 11322]\n",
      " [13677  3799 13249 10677  8251]\n",
      " [16783 10948     2  9382 21752]\n",
      " [17081 12464  1700 16554 13824]]\n",
      "Loaded pretrained model gpt2-small into HookedTransformer\n"
     ]
    },
    {
     "name": "stderr",
     "output_type": "stream",
     "text": [
      "/home/users/sv226/.local/lib/python3.10/site-packages/sae_lens/sae.py:151: UserWarning: \n",
      "This SAE has non-empty model_from_pretrained_kwargs. \n",
      "For optimal performance, load the model like so:\n",
      "model = HookedSAETransformer.from_pretrained_no_processing(..., **cfg.model_from_pretrained_kwargs)\n",
      "  warnings.warn(\n"
     ]
    },
    {
     "name": "stdout",
     "output_type": "stream",
     "text": [
      "Similarity scores (D):\n",
      "[[0.36474407 0.36453307 0.362647   0.35608816 0.32767007]\n",
      " [0.3114111  0.29478946 0.27348077 0.25694966 0.25373146]\n",
      " [0.75687873 0.45040688 0.43990552 0.36540747 0.34835467]\n",
      " [0.70702326 0.37493265 0.35739976 0.28989348 0.26693892]\n",
      " [0.40237743 0.34457606 0.33705163 0.3260409  0.29573   ]]\n",
      "\n",
      "Indices of top-k matches in W_b (I):\n",
      "[[15812  9144 13323  4620  3255]\n",
      " [17466 20877 12342  1904 15633]\n",
      " [ 5262 20458 11826 15219  1884]\n",
      " [21104 22012  1543   355 14563]\n",
      " [17613 12623  1642 18536  7803]]\n",
      "Loaded pretrained model gpt2-small into HookedTransformer\n"
     ]
    },
    {
     "name": "stderr",
     "output_type": "stream",
     "text": [
      "/home/users/sv226/.local/lib/python3.10/site-packages/sae_lens/sae.py:151: UserWarning: \n",
      "This SAE has non-empty model_from_pretrained_kwargs. \n",
      "For optimal performance, load the model like so:\n",
      "model = HookedSAETransformer.from_pretrained_no_processing(..., **cfg.model_from_pretrained_kwargs)\n",
      "  warnings.warn(\n"
     ]
    },
    {
     "name": "stdout",
     "output_type": "stream",
     "text": [
      "Similarity scores (D):\n",
      "[[0.27693132 0.23725939 0.21595345 0.20638594 0.19744919]\n",
      " [0.3760541  0.37503278 0.37328053 0.34740478 0.3262492 ]\n",
      " [0.40563923 0.36562756 0.28088588 0.27662385 0.26871735]\n",
      " [0.29390502 0.2751652  0.25639343 0.2443382  0.24015033]\n",
      " [0.23766428 0.23537897 0.23436975 0.21159217 0.20458293]]\n",
      "\n",
      "Indices of top-k matches in W_b (I):\n",
      "[[21120 21001  8721 13445 14179]\n",
      " [23120  8247 12183  8129 22032]\n",
      " [ 3234 10421  4566 16828 24565]\n",
      " [ 2152  4832 19623  4498 11741]\n",
      " [23413  2152  9897 11741 10381]]\n",
      "Loaded pretrained model gpt2-small into HookedTransformer\n"
     ]
    },
    {
     "name": "stderr",
     "output_type": "stream",
     "text": [
      "/home/users/sv226/.local/lib/python3.10/site-packages/sae_lens/sae.py:151: UserWarning: \n",
      "This SAE has non-empty model_from_pretrained_kwargs. \n",
      "For optimal performance, load the model like so:\n",
      "model = HookedSAETransformer.from_pretrained_no_processing(..., **cfg.model_from_pretrained_kwargs)\n",
      "  warnings.warn(\n"
     ]
    },
    {
     "name": "stdout",
     "output_type": "stream",
     "text": [
      "Similarity scores (D):\n",
      "[[0.38496315 0.36052704 0.35765892 0.32453978 0.31991395]\n",
      " [0.48001516 0.44538677 0.427021   0.39473796 0.3944073 ]\n",
      " [0.51988184 0.4087221  0.4040583  0.32010502 0.31111318]\n",
      " [0.5347563  0.43853444 0.41772515 0.38102615 0.3796317 ]\n",
      " [0.38018233 0.36061767 0.32942605 0.3177934  0.31387138]]\n",
      "\n",
      "Indices of top-k matches in W_b (I):\n",
      "[[ 7973 23936 10351 17231 17833]\n",
      " [20232  8818  5563 23460  5566]\n",
      " [13117  8884  4349 19495  7068]\n",
      " [19386 15636 20107 15945 10488]\n",
      " [13090 16303 19710 14464    99]]\n",
      "Loaded pretrained model gpt2-small into HookedTransformer\n"
     ]
    },
    {
     "name": "stderr",
     "output_type": "stream",
     "text": [
      "/home/users/sv226/.local/lib/python3.10/site-packages/sae_lens/sae.py:151: UserWarning: \n",
      "This SAE has non-empty model_from_pretrained_kwargs. \n",
      "For optimal performance, load the model like so:\n",
      "model = HookedSAETransformer.from_pretrained_no_processing(..., **cfg.model_from_pretrained_kwargs)\n",
      "  warnings.warn(\n"
     ]
    },
    {
     "name": "stdout",
     "output_type": "stream",
     "text": [
      "Similarity scores (D):\n",
      "[[0.46208328 0.40952474 0.3912353  0.38129535 0.3656119 ]\n",
      " [0.731887   0.48896676 0.40934348 0.4050321  0.39765638]\n",
      " [0.6797894  0.4673937  0.46219248 0.4469546  0.40500942]\n",
      " [0.79007435 0.6042524  0.5625001  0.5572264  0.5468497 ]\n",
      " [0.48608857 0.4597276  0.4586954  0.45798618 0.41908514]]\n",
      "\n",
      "Indices of top-k matches in W_b (I):\n",
      "[[ 8868  2723 24109 10320 22196]\n",
      " [24470  6107 16927  9395   199]\n",
      " [ 2160 22631 12480 10230   348]\n",
      " [ 7848   988 15013  2947  2727]\n",
      " [23818  4279  6138 10877 12137]]\n"
     ]
    },
    {
     "data": {
      "image/png": "[encoded data removed]",
      "text/plain": [
       "<Figure size 1500x1500 with 16 Axes>"
      ]
     },
     "metadata": {},
     "output_type": "display_data"
    }
   ],
   "source": [
    "# Choose layers to analyze\n",
    "layers = [1, 5, 8, 11]\n",
    "n = len(layers)\n",
    "\n",
    "# Set up subplot grid\n",
    "fig, axes = plt.subplots(nrows=n, ncols=n, figsize=(15, 15), sharex=True, sharey=True)\n",
    "\n",
    "for i, l1 in enumerate(layers):\n",
    "    for j, l2 in enumerate(layers):\n",
    "        ax = axes[i, j]\n",
    "\n",
    "        if i == j:\n",
    "            # Diagonal: black or blanked out\n",
    "            ax.set_facecolor('black')\n",
    "            ax.set_xticks([])\n",
    "            ax.set_yticks([])\n",
    "        else:\n",
    "            D, _ = get_D(l1, l2)\n",
    "            sns.histplot(D[:, 0], bins=30, ax=ax, stat='density', kde=False, element=\"step\", color='steelblue', alpha=0.8)\n",
    "            if i == n - 1:\n",
    "                ax.set_xlabel(f'L{l2}')\n",
    "            else:\n",
    "                ax.set_xlabel('')\n",
    "            if j == 0:\n",
    "                ax.set_ylabel(f'L{l1}')\n",
    "            else:\n",
    "                ax.set_ylabel('')\n",
    "\n",
    "# Tweak layout\n",
    "plt.suptitle(\"Histogram of Max Similarity Scores (Top-1) Between Decoder Weights\", fontsize=16)\n",
    "plt.tight_layout(rect=[0, 0, 1, 0.97])\n",
    "plt.show()\n"
   ]
  },
  {
   "cell_type": "code",
   "execution_count": 66,
   "id": "d5223226-1718-4e5c-8d6a-99321a57270e",
   "metadata": {},
   "outputs": [
    {
     "data": {
      "image/png": "[encoded data removed]",
      "text/plain": [
       "<Figure size 640x480 with 1 Axes>"
      ]
     },
     "metadata": {},
     "output_type": "display_data"
    }
   ],
   "source": [
    "# Plot using seaborn\n",
    "sns.histplot(D_2_11[:, 0], label='ρ(2,11)', stat='density', kde=False, alpha=0.7, element=\"step\")\n",
    "sns.histplot(D_7_8[:, 0], label='ρ(7,8)', stat='density', kde=False, alpha=0.7, element=\"step\")\n",
    "\n",
    "plt.legend()\n",
    "plt.xlabel(\"Latent max-similarity score\")\n",
    "plt.ylabel(\"Density\")\n",
    "plt.show()"
   ]
  },
  {
   "cell_type": "code",
   "execution_count": 37,
   "id": "4850d487-2c3c-4625-9c7f-796c30070c0e",
   "metadata": {
    "scrolled": true,
    "tags": []
   },
   "outputs": [
    {
     "name": "stdout",
     "output_type": "stream",
     "text": [
      " 1. W_a[8598] <-> W_b[6955], similarity = 1.0000\n",
      " 2. W_a[8598] <-> W_b[818], similarity = 1.0000\n",
      " 3. W_a[11433] <-> W_b[6955], similarity = 1.0000\n",
      " 4. W_a[8598] <-> W_b[4078], similarity = 1.0000\n",
      " 5. W_a[8598] <-> W_b[13997], similarity = 1.0000\n",
      " 6. W_a[8598] <-> W_b[11533], similarity = 1.0000\n",
      " 7. W_a[22789] <-> W_b[6955], similarity = 1.0000\n",
      " 8. W_a[12003] <-> W_b[6955], similarity = 1.0000\n",
      " 9. W_a[11433] <-> W_b[818], similarity = 1.0000\n",
      "10. W_a[11433] <-> W_b[4078], similarity = 1.0000\n",
      "11. W_a[11433] <-> W_b[13997], similarity = 1.0000\n",
      "12. W_a[12003] <-> W_b[4078], similarity = 1.0000\n",
      "13. W_a[14968] <-> W_b[6955], similarity = 1.0000\n",
      "14. W_a[21858] <-> W_b[6955], similarity = 1.0000\n",
      "15. W_a[12003] <-> W_b[818], similarity = 1.0000\n",
      "16. W_a[22789] <-> W_b[818], similarity = 1.0000\n",
      "17. W_a[3259] <-> W_b[6955], similarity = 1.0000\n",
      "18. W_a[14968] <-> W_b[818], similarity = 1.0000\n",
      "19. W_a[14968] <-> W_b[4078], similarity = 1.0000\n",
      "20. W_a[12003] <-> W_b[13997], similarity = 1.0000\n",
      "21. W_a[11433] <-> W_b[11533], similarity = 1.0000\n",
      "22. W_a[22789] <-> W_b[4078], similarity = 1.0000\n",
      "23. W_a[22789] <-> W_b[13997], similarity = 1.0000\n",
      "24. W_a[3259] <-> W_b[13997], similarity = 1.0000\n",
      "25. W_a[3259] <-> W_b[818], similarity = 1.0000\n",
      "26. W_a[2360] <-> W_b[6955], similarity = 1.0000\n",
      "27. W_a[12003] <-> W_b[11533], similarity = 1.0000\n",
      "28. W_a[21858] <-> W_b[13997], similarity = 1.0000\n",
      "29. W_a[21858] <-> W_b[4078], similarity = 1.0000\n",
      "30. W_a[14968] <-> W_b[13997], similarity = 1.0000\n",
      "31. W_a[21858] <-> W_b[818], similarity = 1.0000\n",
      "32. W_a[22789] <-> W_b[17719], similarity = 1.0000\n",
      "33. W_a[3259] <-> W_b[4078], similarity = 1.0000\n",
      "34. W_a[21858] <-> W_b[11533], similarity = 1.0000\n",
      "35. W_a[14968] <-> W_b[11533], similarity = 1.0000\n",
      "36. W_a[2360] <-> W_b[4078], similarity = 1.0000\n",
      "37. W_a[2360] <-> W_b[818], similarity = 1.0000\n",
      "38. W_a[3259] <-> W_b[11533], similarity = 1.0000\n",
      "39. W_a[2360] <-> W_b[13997], similarity = 1.0000\n",
      "40. W_a[2360] <-> W_b[17719], similarity = 1.0000\n",
      "41. W_a[24271] <-> W_b[4395], similarity = 0.9901\n",
      "42. W_a[4330] <-> W_b[895], similarity = 0.9864\n",
      "43. W_a[21483] <-> W_b[19273], similarity = 0.9860\n",
      "44. W_a[6584] <-> W_b[19390], similarity = 0.9848\n",
      "45. W_a[20579] <-> W_b[22760], similarity = 0.9807\n",
      "46. W_a[10605] <-> W_b[7521], similarity = 0.9803\n",
      "47. W_a[3997] <-> W_b[15178], similarity = 0.9802\n",
      "48. W_a[15326] <-> W_b[20951], similarity = 0.9796\n",
      "49. W_a[24012] <-> W_b[13884], similarity = 0.9792\n",
      "50. W_a[18400] <-> W_b[3027], similarity = 0.9788\n",
      "51. W_a[11857] <-> W_b[2045], similarity = 0.9786\n",
      "52. W_a[20284] <-> W_b[8992], similarity = 0.9782\n",
      "53. W_a[545] <-> W_b[22971], similarity = 0.9778\n",
      "54. W_a[23251] <-> W_b[3159], similarity = 0.9777\n",
      "55. W_a[8334] <-> W_b[14372], similarity = 0.9777\n",
      "56. W_a[9842] <-> W_b[3041], similarity = 0.9774\n",
      "57. W_a[8255] <-> W_b[17679], similarity = 0.9774\n",
      "58. W_a[19392] <-> W_b[1912], similarity = 0.9772\n",
      "59. W_a[18164] <-> W_b[23056], similarity = 0.9771\n",
      "60. W_a[2445] <-> W_b[11513], similarity = 0.9771\n",
      "61. W_a[17210] <-> W_b[14892], similarity = 0.9770\n",
      "62. W_a[10139] <-> W_b[6003], similarity = 0.9770\n",
      "63. W_a[19260] <-> W_b[22303], similarity = 0.9770\n",
      "64. W_a[5922] <-> W_b[15456], similarity = 0.9769\n",
      "65. W_a[24249] <-> W_b[12280], similarity = 0.9769\n",
      "66. W_a[8243] <-> W_b[13344], similarity = 0.9768\n",
      "67. W_a[4314] <-> W_b[22614], similarity = 0.9768\n",
      "68. W_a[8901] <-> W_b[4094], similarity = 0.9768\n",
      "69. W_a[13507] <-> W_b[7702], similarity = 0.9768\n",
      "70. W_a[23542] <-> W_b[12577], similarity = 0.9767\n",
      "71. W_a[2353] <-> W_b[15281], similarity = 0.9766\n",
      "72. W_a[10916] <-> W_b[15838], similarity = 0.9766\n",
      "73. W_a[11482] <-> W_b[6967], similarity = 0.9766\n",
      "74. W_a[17814] <-> W_b[22130], similarity = 0.9765\n",
      "75. W_a[8579] <-> W_b[17608], similarity = 0.9765\n",
      "76. W_a[1259] <-> W_b[22809], similarity = 0.9764\n",
      "77. W_a[23248] <-> W_b[8967], similarity = 0.9764\n",
      "78. W_a[1049] <-> W_b[19692], similarity = 0.9763\n",
      "79. W_a[3551] <-> W_b[12733], similarity = 0.9763\n",
      "80. W_a[9266] <-> W_b[4224], similarity = 0.9762\n",
      "81. W_a[15227] <-> W_b[7891], similarity = 0.9761\n",
      "82. W_a[14532] <-> W_b[14215], similarity = 0.9761\n",
      "83. W_a[2539] <-> W_b[11330], similarity = 0.9760\n",
      "84. W_a[23178] <-> W_b[8221], similarity = 0.9760\n",
      "85. W_a[20750] <-> W_b[7920], similarity = 0.9760\n",
      "86. W_a[13217] <-> W_b[23414], similarity = 0.9759\n",
      "87. W_a[20864] <-> W_b[6958], similarity = 0.9759\n",
      "88. W_a[4758] <-> W_b[2490], similarity = 0.9759\n",
      "89. W_a[24216] <-> W_b[4735], similarity = 0.9758\n",
      "90. W_a[6684] <-> W_b[1052], similarity = 0.9758\n",
      "91. W_a[1026] <-> W_b[2122], similarity = 0.9758\n",
      "92. W_a[18379] <-> W_b[9300], similarity = 0.9757\n",
      "93. W_a[23941] <-> W_b[13534], similarity = 0.9757\n",
      "94. W_a[22438] <-> W_b[14896], similarity = 0.9756\n",
      "95. W_a[11561] <-> W_b[11119], similarity = 0.9756\n",
      "96. W_a[19362] <-> W_b[13574], similarity = 0.9755\n",
      "97. W_a[23091] <-> W_b[13032], similarity = 0.9755\n",
      "98. W_a[22325] <-> W_b[11089], similarity = 0.9754\n",
      "99. W_a[6552] <-> W_b[8713], similarity = 0.9754\n",
      "100. W_a[18499] <-> W_b[13009], similarity = 0.9754\n"
     ]
    }
   ],
   "source": [
    "import numpy as np\n",
    "import heapq\n",
    "\n",
    "# Assume you already have:\n",
    "# D: shape (20000, k) – similarity scores\n",
    "# I: shape (20000, k) – matching indices in W_b for each W_a row\n",
    "\n",
    "k = D.shape[1]\n",
    "num_pairs = 100\n",
    "\n",
    "# Flatten D and get the top-N indices\n",
    "flat_indices = np.argpartition(D.flatten(), -num_pairs)[-num_pairs:]\n",
    "# Sort them by actual similarity\n",
    "flat_indices = flat_indices[np.argsort(D.flatten()[flat_indices])[::-1]]\n",
    "\n",
    "# Convert back to 2D indices: row in W_a, rank among its top-k\n",
    "row_indices, rank_indices = np.unravel_index(flat_indices, D.shape)\n",
    "\n",
    "# Retrieve (W_a index, W_b index, similarity) for top-20\n",
    "top_pairs = []\n",
    "for i in range(num_pairs):\n",
    "    a_idx = row_indices[i]\n",
    "    b_idx = I[a_idx, rank_indices[i]]\n",
    "    sim = D[a_idx, rank_indices[i]]\n",
    "    top_pairs.append((a_idx, b_idx, sim))\n",
    "\n",
    "# Print results\n",
    "for i, (a_idx, b_idx, sim) in enumerate(top_pairs):\n",
    "    print(f\"{i+1:2d}. W_a[{a_idx}] <-> W_b[{b_idx}], similarity = {sim:.4f}\")\n"
   ]
  },
  {
   "cell_type": "code",
   "execution_count": 43,
   "id": "da62c51e-3dee-4e7c-8676-d536aa32a644",
   "metadata": {},
   "outputs": [
    {
     "data": {
      "text/plain": [
       "tensor(1.0000, grad_fn=<DotBackward0>)"
      ]
     },
     "execution_count": 43,
     "metadata": {},
     "output_type": "execute_result"
    }
   ],
   "source": [
    "sae7.W_dec[8598] @ sae7.W_dec[11433]"
   ]
  },
  {
   "cell_type": "code",
   "execution_count": 28,
   "id": "e4e96570-5170-430d-808b-0ce7ffbda278",
   "metadata": {},
   "outputs": [
    {
     "data": {
      "text/plain": [
       "-7.6522e-05"
      ]
     },
     "execution_count": 28,
     "metadata": {},
     "output_type": "execute_result"
    }
   ],
   "source": [
    "sae7.W_dec[8598].detach().numpy().mean()"
   ]
  },
  {
   "cell_type": "code",
   "execution_count": 24,
   "id": "07fdd016-7e39-4129-9e03-785fee0d9ca3",
   "metadata": {},
   "outputs": [
    {
     "data": {
      "text/plain": [
       "True"
      ]
     },
     "execution_count": 24,
     "metadata": {},
     "output_type": "execute_result"
    }
   ],
   "source": [
    "t.allclose(sae7.W_dec[8598], sae8.W_dec[6955], rtol = 1e-2, atol = 1e-2)"
   ]
  },
  {
   "cell_type": "code",
   "execution_count": 44,
   "id": "d3f90dd3-b8a7-4ed1-a890-be512ea6a757",
   "metadata": {},
   "outputs": [
    {
     "data": {
      "text/plain": [
       "(-0.003421951183117926, 5.0731793817251745e-05)"
      ]
     },
     "execution_count": 44,
     "metadata": {},
     "output_type": "execute_result"
    },
    {
     "data": {
      "image/png": "[encoded data removed]",
      "text/plain": [
       "<Figure size 600x600 with 1 Axes>"
      ]
     },
     "metadata": {},
     "output_type": "display_data"
    }
   ],
   "source": [
    "x = sae7.W_dec[8598].detach().cpu().numpy()\n",
    "y = sae7.W_dec[11433].detach().cpu().numpy()\n",
    "\n",
    "x_min, x_max = np.quantile(x, [0.01, 0.99])\n",
    "y_min, y_max = np.quantile(y, [0.01, 0.99])\n",
    "\n",
    "\n",
    "df = pd.DataFrame({'7/8958': x, '8/6955': y})\n",
    "\n",
    "# Create the plot\n",
    "plt.figure(figsize=(6, 6))\n",
    "sns.scatterplot(data=df, x='7/8958', y='8/6955', alpha=0.6)\n",
    "\n",
    "min_val = min(df.min().min(), df.max().min())\n",
    "max_val = max(df.min().max(), df.max().max())\n",
    "#plt.plot([min_val, max_val], [min_val, max_val])\n",
    "plt.plot([x_min, x_max], [x_min, x_max], '--', color='gray')\n",
    "\n",
    "plt.xlim(x_min, x_max)\n",
    "plt.ylim(y_min, y_max)\n"
   ]
  },
  {
   "cell_type": "code",
   "execution_count": 42,
   "id": "fbcdbcdd-56f6-46b0-b512-7e4c2947a169",
   "metadata": {},
   "outputs": [
    {
     "name": "stdout",
     "output_type": "stream",
     "text": [
      "https://neuronpedia.org/gpt2-small/7-res-jb/11433?embed=true&embedexplanation=true&embedplots=true&embedtest=true&height=300\n"
     ]
    },
    {
     "data": {
      "text/html": [
       "\n",
       "        <iframe\n",
       "            width=\"800\"\n",
       "            height=\"600\"\n",
       "            src=\"https://neuronpedia.org/gpt2-small/7-res-jb/11433?embed=true&embedexplanation=true&embedplots=true&embedtest=true&height=300\"\n",
       "            frameborder=\"0\"\n",
       "            allowfullscreen\n",
       "            \n",
       "        ></iframe>\n",
       "        "
      ],
      "text/plain": [
       "<IPython.lib.display.IFrame at 0x7f91003fa4d0>"
      ]
     },
     "metadata": {},
     "output_type": "display_data"
    }
   ],
   "source": [
    "display_dashboard(layer = 7, latent_idx = 11433)"
   ]
  },
  {
   "cell_type": "code",
   "execution_count": 40,
   "id": "7d34e17d-e127-4804-af73-8cb82dbbd9c7",
   "metadata": {},
   "outputs": [
    {
     "name": "stdout",
     "output_type": "stream",
     "text": [
      "https://neuronpedia.org/gpt2-small/8-res-jb/4078?embed=true&embedexplanation=true&embedplots=true&embedtest=true&height=300\n"
     ]
    },
    {
     "data": {
      "text/html": [
       "\n",
       "        <iframe\n",
       "            width=\"800\"\n",
       "            height=\"600\"\n",
       "            src=\"https://neuronpedia.org/gpt2-small/8-res-jb/4078?embed=true&embedexplanation=true&embedplots=true&embedtest=true&height=300\"\n",
       "            frameborder=\"0\"\n",
       "            allowfullscreen\n",
       "            \n",
       "        ></iframe>\n",
       "        "
      ],
      "text/plain": [
       "<IPython.lib.display.IFrame at 0x7f91003fb640>"
      ]
     },
     "metadata": {},
     "output_type": "display_data"
    }
   ],
   "source": [
    "display_dashboard(layer = 8, latent_idx = 4078)"
   ]
  },
  {
   "cell_type": "code",
   "execution_count": 93,
   "id": "1d27445c-c44e-4724-a3f7-c4199f8a4af2",
   "metadata": {},
   "outputs": [
    {
     "data": {
      "text/plain": [
       "0.83623016"
      ]
     },
     "execution_count": 93,
     "metadata": {},
     "output_type": "execute_result"
    }
   ],
   "source": [
    "W_a[m1,:]@W_b[m2,:]"
   ]
  },
  {
   "cell_type": "code",
   "execution_count": 104,
   "id": "7763458d-4e35-4b95-b61f-f68b3f534261",
   "metadata": {},
   "outputs": [
    {
     "data": {
      "text/html": [
       "<div>\n",
       "<style scoped>\n",
       "    .dataframe tbody tr th:only-of-type {\n",
       "        vertical-align: middle;\n",
       "    }\n",
       "\n",
       "    .dataframe tbody tr th {\n",
       "        vertical-align: top;\n",
       "    }\n",
       "\n",
       "    .dataframe thead th {\n",
       "        text-align: right;\n",
       "    }\n",
       "</style>\n",
       "<table border=\"1\" class=\"dataframe\">\n",
       "  <thead>\n",
       "    <tr style=\"text-align: right;\">\n",
       "      <th></th>\n",
       "      <th>i</th>\n",
       "      <th>j</th>\n",
       "      <th>corr</th>\n",
       "      <th>p_i_given_j</th>\n",
       "      <th>p_j_given_i</th>\n",
       "      <th>topk_i</th>\n",
       "      <th>topk_j</th>\n",
       "    </tr>\n",
       "  </thead>\n",
       "  <tbody>\n",
       "  </tbody>\n",
       "</table>\n",
       "</div>"
      ],
      "text/plain": [
       "Empty DataFrame\n",
       "Columns: [i, j, corr, p_i_given_j, p_j_given_i, topk_i, topk_j]\n",
       "Index: []"
      ]
     },
     "execution_count": 104,
     "metadata": {},
     "output_type": "execute_result"
    }
   ],
   "source": [
    "df[(df['i']==21514)]"
   ]
  },
  {
   "cell_type": "code",
   "execution_count": 85,
   "id": "3e52f8ab-8efc-4353-966a-ec6fc00872ec",
   "metadata": {},
   "outputs": [
    {
     "data": {
      "text/plain": [
       "tensor(0.8362, grad_fn=<DotBackward0>)"
      ]
     },
     "execution_count": 85,
     "metadata": {},
     "output_type": "execute_result"
    }
   ],
   "source": [
    "sae1.W_dec[m1,:]@sae2.W_dec[m2,:]"
   ]
  },
  {
   "cell_type": "code",
   "execution_count": 116,
   "id": "3bdef92f-f902-44fb-b7a1-dea47570292a",
   "metadata": {},
   "outputs": [
    {
     "data": {
      "image/png": "[encoded data removed]",
      "text/plain": [
       "<Figure size 800x500 with 1 Axes>"
      ]
     },
     "metadata": {},
     "output_type": "display_data"
    }
   ],
   "source": [
    "# Compute null distribution\n",
    "ans = []\n",
    "for i in range(1000):\n",
    "    a = np.random.randint(sae1.W_dec.shape[0])\n",
    "    b = np.random.randint(sae2.W_dec.shape[0])\n",
    "    val = float(((sae1.W_dec[a, :] @ sae2.W_dec[b, :]).detach().cpu().numpy()))\n",
    "    ans.append({'value': val, 'type': 'null'})\n",
    "\n",
    "# Compute alt distribution\n",
    "for i in range(1000):\n",
    "    l = df[['i', 'j', 'topk_i', 'topk_j']].iloc[i].tolist()\n",
    "    val = float(((sae1.W_dec[l[0], :] @ sae2.W_dec[l[1], :]).detach().cpu().numpy()))\n",
    "    ans.append({'value': val, 'type': 'alt'})\n",
    "\n",
    "# Convert to DataFrame\n",
    "df_plot = pd.DataFrame(ans)\n",
    "\n",
    "# Plot with seaborn\n",
    "plt.figure(figsize=(8, 5))\n",
    "sns.histplot(data=df_plot, x='value', hue='type', kde=False, stat='density', element='step', common_norm=False, alpha=0.7)\n",
    "#plt.title(\"Distribution of Dot Products (Null vs Alt)\")\n",
    "plt.xlabel(\"Dot Product\")\n",
    "plt.ylabel(\"Density\")\n",
    "#plt.legend()#title='Distribution')\n",
    "plt.tight_layout()\n",
    "plt.show()\n"
   ]
  },
  {
   "cell_type": "code",
   "execution_count": 30,
   "id": "00482e4d-f8b8-4a09-9a06-e794f7f4cc16",
   "metadata": {},
   "outputs": [
    {
     "ename": "NameError",
     "evalue": "name 'sae1' is not defined",
     "output_type": "error",
     "traceback": [
      "\u001b[0;31m---------------------------------------------------------------------------\u001b[0m",
      "\u001b[0;31mNameError\u001b[0m                                 Traceback (most recent call last)",
      "\u001b[0;32m/tmp/ipykernel_1575730/4030060555.py\u001b[0m in \u001b[0;36m<module>\u001b[0;34m\u001b[0m\n\u001b[0;32m----> 1\u001b[0;31m \u001b[0msae1\u001b[0m\u001b[0;34m\u001b[0m\u001b[0;34m\u001b[0m\u001b[0m\n\u001b[0m",
      "\u001b[0;31mNameError\u001b[0m: name 'sae1' is not defined"
     ]
    }
   ],
   "source": [
    "sae1"
   ]
  },
  {
   "cell_type": "code",
   "execution_count": 94,
   "id": "06ee34a5-a5b6-4ed5-ae61-3f48cfa4ce1c",
   "metadata": {},
   "outputs": [
    {
     "data": {
      "text/plain": [
       "1224.277587890625"
      ]
     },
     "execution_count": 94,
     "metadata": {},
     "output_type": "execute_result"
    }
   ],
   "source": [
    "float(val)"
   ]
  },
  {
   "cell_type": "code",
   "execution_count": 84,
   "id": "2cfea2eb-2524-49b2-9784-60f38bac1d49",
   "metadata": {},
   "outputs": [
    {
     "data": {
      "text/plain": [
       "<matplotlib.legend.Legend at 0x7fe054736470>"
      ]
     },
     "execution_count": 84,
     "metadata": {},
     "output_type": "execute_result"
    },
    {
     "data": {
      "image/png": "[encoded data removed]",
      "text/plain": [
       "<Figure size 640x480 with 1 Axes>"
      ]
     },
     "metadata": {},
     "output_type": "display_data"
    }
   ],
   "source": []
  },
  {
   "cell_type": "code",
   "execution_count": 314,
   "id": "4b941ac9-8904-4172-b8ed-9f65f9a2822c",
   "metadata": {},
   "outputs": [
    {
     "data": {
      "text/plain": [
       "{'text': ' Ultimate Elixir mixes notes of vanilla orchid and osmanthus top notes with cedarwood and amber middle notes , then adds in vanilla and tonka bean base notes . Kelly Bryant of StyleList wrote that the base notes of Heat Ultimate Elixir \" drive the point home that this is a bouquet meant for one sexy siren \" . Selling the scent \\'s elixir , Macy \\'s described the fragrance as an \" opulent and intoxicating twist on the original scent . \" Keeping with the scent \\'s \" sexy theme \" , the new scarlet jus is contained in the original bottle , updated with a black atomizer , which has been described as \" boudoir @-@ ready \" by Katherine Kluznik Rentmeester of People magazine . \\n'}"
      ]
     },
     "execution_count": 314,
     "metadata": {},
     "output_type": "execute_result"
    }
   ],
   "source": [
    "subset[4994]"
   ]
  },
  {
   "cell_type": "code",
   "execution_count": 86,
   "id": "3bb2ae70-267d-465c-a7e5-ad85849a7649",
   "metadata": {},
   "outputs": [
    {
     "name": "stdout",
     "output_type": "stream",
     "text": [
      "https://neuronpedia.org/gpt2-small/2-res-jb/9515?embed=true&embedexplanation=true&embedplots=true&embedtest=true&height=300\n"
     ]
    },
    {
     "data": {
      "text/html": [
       "\n",
       "        <iframe\n",
       "            width=\"800\"\n",
       "            height=\"600\"\n",
       "            src=\"https://neuronpedia.org/gpt2-small/2-res-jb/9515?embed=true&embedexplanation=true&embedplots=true&embedtest=true&height=300\"\n",
       "            frameborder=\"0\"\n",
       "            allowfullscreen\n",
       "            \n",
       "        ></iframe>\n",
       "        "
      ],
      "text/plain": [
       "<IPython.lib.display.IFrame at 0x7f853a13b6d0>"
      ]
     },
     "metadata": {},
     "output_type": "display_data"
    }
   ],
   "source": [
    "display_dashboard(layer=2, latent_idx=m1)"
   ]
  },
  {
   "cell_type": "code",
   "execution_count": 87,
   "id": "9fffe1ba-7160-48c1-8e99-b602b96a9aab",
   "metadata": {},
   "outputs": [
    {
     "name": "stdout",
     "output_type": "stream",
     "text": [
      "https://neuronpedia.org/gpt2-small/11-res-jb/17596?embed=true&embedexplanation=true&embedplots=true&embedtest=true&height=300\n"
     ]
    },
    {
     "data": {
      "text/html": [
       "\n",
       "        <iframe\n",
       "            width=\"800\"\n",
       "            height=\"600\"\n",
       "            src=\"https://neuronpedia.org/gpt2-small/11-res-jb/17596?embed=true&embedexplanation=true&embedplots=true&embedtest=true&height=300\"\n",
       "            frameborder=\"0\"\n",
       "            allowfullscreen\n",
       "            \n",
       "        ></iframe>\n",
       "        "
      ],
      "text/plain": [
       "<IPython.lib.display.IFrame at 0x7f853a13a9b0>"
      ]
     },
     "metadata": {},
     "output_type": "display_data"
    }
   ],
   "source": [
    "display_dashboard(layer=11, latent_idx=m2)"
   ]
  },
  {
   "cell_type": "code",
   "execution_count": 273,
   "id": "4df858a8-5d5d-4feb-bb56-f1ff3d381ee7",
   "metadata": {
    "scrolled": true,
    "tags": []
   },
   "outputs": [
    {
     "data": {
      "text/plain": [
       "['gpt2-small-res-jb',\n",
       " 'gpt2-small-res-jb-feature-splitting',\n",
       " 'gpt2-small-res_sce-ajt',\n",
       " 'gpt2-small-res_scefr-ajt',\n",
       " 'gpt2-small-res_scl-ajt',\n",
       " 'gpt2-small-res_sle-ajt',\n",
       " 'gpt2-small-res_slefr-ajt',\n",
       " 'gpt2-small-res_sll-ajt',\n",
       " 'gpt2-small-resid-mid-v5-128k',\n",
       " 'gpt2-small-resid-mid-v5-32k',\n",
       " 'gpt2-small-resid-post-v5-128k',\n",
       " 'gpt2-small-resid-post-v5-32k']"
      ]
     },
     "execution_count": 273,
     "metadata": {},
     "output_type": "execute_result"
    }
   ],
   "source": [
    "[k for k in get_pretrained_saes_directory().keys() if 'gpt2-small-res' in k]"
   ]
  },
  {
   "cell_type": "markdown",
   "id": "66f9ca7e-c3d3-4d85-ba00-a330866dff89",
   "metadata": {
    "tags": []
   },
   "source": [
    "## Ablation experiments"
   ]
  },
  {
   "cell_type": "code",
   "execution_count": 123,
   "id": "9a85f709-10db-46ad-9583-f4003ea61aa4",
   "metadata": {},
   "outputs": [],
   "source": [
    "from functools import partial"
   ]
  },
  {
   "cell_type": "code",
   "execution_count": 199,
   "id": "eb76fe3e-4332-4def-9f7c-f013d572742a",
   "metadata": {},
   "outputs": [],
   "source": [
    "def ablate_sae_latent(\n",
    "    sae_acts,\n",
    "    hook,\n",
    "    latent_idx\n",
    "):\n",
    "    \"\"\"\n",
    "    Ablate a particular latent at a particular sequence position. If either argument is None, we ablate at all latents\n",
    "    / sequence positions.\n",
    "    \"\"\"\n",
    "    sae_acts[:,:, latent_idx] = 0\n",
    "    \n",
    "def multiply_sae_latent(\n",
    "    sae_acts,\n",
    "    hook,\n",
    "    latent_idx,\n",
    "    factor = 2\n",
    "):\n",
    "    \"\"\"\n",
    "    Ablate a particular latent at a particular sequence position. If either argument is None, we ablate at all latents\n",
    "    / sequence positions.\n",
    "    \"\"\"\n",
    "    sae_acts[:,:, latent_idx] *= factor\n",
    "    \n",
    "def run(prompt, model, sae1, sae2, latent1, latent2, precompute = False):\n",
    "    model.reset_hooks()\n",
    "    model.reset_saes()\n",
    "    if precompute:\n",
    "        _, cache = model.run_with_cache(prompt, names_filter = [sae2.cfg.hook_name],\n",
    "                                               stop_at_layer = sae2.cfg.hook_layer + 1,start_at_layer = sae1.cfg.hook_layer,\n",
    "                                               prepend_bos = False)\n",
    "    else:\n",
    "        _, cache = model.run_with_cache(prompt, names_filter = [sae2.cfg.hook_name],\n",
    "                                               stop_at_layer = sae2.cfg.hook_layer + 1,\n",
    "                                               prepend_bos = False)\n",
    "    return sae2.encode(cache[sae2.cfg.hook_name])[:,:,latent2].mean(axis = 1)\n",
    "    \n",
    "def run_with_reconstruction(prompt, model, sae1, sae2, latent1, latent2, precompute=False):\n",
    "    model.reset_hooks()\n",
    "    model.reset_saes()\n",
    "    with model.saes(saes=[sae1]):\n",
    "        if precompute:\n",
    "            _, cache = model.run_with_cache(prompt,\n",
    "                                            names_filter=[sae2.cfg.hook_name],\n",
    "                                            stop_at_layer=sae2.cfg.hook_layer + 1,\n",
    "                                            start_at_layer=sae1.cfg.hook_layer,\n",
    "                                            prepend_bos=False)\n",
    "        else:\n",
    "            _, cache = model.run_with_cache(prompt,\n",
    "                                            names_filter=[sae2.cfg.hook_name],\n",
    "                                            stop_at_layer=sae2.cfg.hook_layer + 1,\n",
    "                                            prepend_bos=False)\n",
    "        return sae2.encode(cache[sae2.cfg.hook_name])[:, :, latent2].mean(axis=1)\n",
    "\n",
    "def run_with_steering(prompt, model, sae1, sae2, latent1, latent2, factor = 2, precompute=False):\n",
    "    model.reset_hooks()\n",
    "    model.reset_saes()\n",
    "    with model.saes(saes=[sae1]):\n",
    "        with model.hooks(fwd_hooks=[(f'{sae1.cfg.hook_name}.hook_sae_acts_post', partial(multiply_sae_latent, latent_idx=latent1, factor = factor))]):\n",
    "            if precompute:\n",
    "                _, cache = model.run_with_cache(prompt,\n",
    "                                                names_filter=[sae2.cfg.hook_name],\n",
    "                                                stop_at_layer=sae2.cfg.hook_layer + 1,\n",
    "                                                start_at_layer=sae1.cfg.hook_layer,\n",
    "                                                prepend_bos=False)\n",
    "            else:\n",
    "                _, cache = model.run_with_cache(prompt,\n",
    "                                                names_filter=[sae2.cfg.hook_name],\n",
    "                                                stop_at_layer=sae2.cfg.hook_layer + 1,\n",
    "                                                prepend_bos=False)\n",
    "            return sae2.encode(cache[sae2.cfg.hook_name])[:, :, latent2].mean(axis=1)\n",
    "\n",
    "    \n",
    "def run_with_ablation(prompt, model, sae1, sae2, latent1, latent2, precompute = False):\n",
    "    model.reset_hooks()\n",
    "    model.reset_saes()\n",
    "    with model.saes(saes = [sae1]):\n",
    "        with model.hooks(fwd_hooks = [(f'{sae1.cfg.hook_name}.hook_sae_acts_post', partial(ablate_sae_latent, latent_idx = latent1))]):\n",
    "            if precompute:\n",
    "                _, cache = model.run_with_cache(prompt, names_filter = [sae2.cfg.hook_name],\n",
    "                                                   stop_at_layer = sae2.cfg.hook_layer + 1,start_at_layer = sae1.cfg.hook_layer,\n",
    "                                                   prepend_bos = False)\n",
    "            else:\n",
    "                _, cache = model.run_with_cache(prompt, names_filter = [sae2.cfg.hook_name],\n",
    "                                                   stop_at_layer = sae2.cfg.hook_layer + 1,\n",
    "                                                   prepend_bos = False)\n",
    "            return sae2.encode(cache[sae2.cfg.hook_name])[:,:,latent2].mean(axis = 1)\n",
    "                                           "
   ]
  },
  {
   "cell_type": "code",
   "execution_count": 203,
   "id": "00f922fc-6f5e-437c-a8a9-70fa89909012",
   "metadata": {},
   "outputs": [
    {
     "data": {
      "text/plain": [
       "tensor([[0., 0., 0.]], grad_fn=<SelectBackward0>)"
      ]
     },
     "execution_count": 203,
     "metadata": {},
     "output_type": "execute_result"
    }
   ],
   "source": [
    "run('how are you', model, sae1, sae2, l[0], l[1])"
   ]
  },
  {
   "cell_type": "code",
   "execution_count": 141,
   "id": "0de7cbac-8d94-4ad6-9c92-4b6af792dc25",
   "metadata": {},
   "outputs": [
    {
     "ename": "AssertionError",
     "evalue": "",
     "output_type": "error",
     "traceback": [
      "\u001b[0;31m---------------------------------------------------------------------------\u001b[0m",
      "\u001b[0;31mAssertionError\u001b[0m                            Traceback (most recent call last)",
      "\u001b[0;32m/tmp/ipykernel_1480316/2255013611.py\u001b[0m in \u001b[0;36m<module>\u001b[0;34m\u001b[0m\n\u001b[0;32m----> 1\u001b[0;31m \u001b[0mrun_with_ablation\u001b[0m\u001b[0;34m(\u001b[0m\u001b[0;34m\"how are you\"\u001b[0m\u001b[0;34m,\u001b[0m \u001b[0mmodel\u001b[0m\u001b[0;34m,\u001b[0m \u001b[0msae1\u001b[0m\u001b[0;34m,\u001b[0m \u001b[0msae2\u001b[0m\u001b[0;34m,\u001b[0m \u001b[0;36m0\u001b[0m\u001b[0;34m,\u001b[0m \u001b[0;36m1\u001b[0m\u001b[0;34m)\u001b[0m\u001b[0;34m.\u001b[0m\u001b[0mshape\u001b[0m\u001b[0;34m\u001b[0m\u001b[0;34m\u001b[0m\u001b[0m\n\u001b[0m",
      "\u001b[0;32m/tmp/ipykernel_1480316/1337735324.py\u001b[0m in \u001b[0;36mrun_with_ablation\u001b[0;34m(prompt, model, sae1, sae2, latent1, latent2)\u001b[0m\n\u001b[1;32m     54\u001b[0m     \u001b[0;32mwith\u001b[0m \u001b[0mmodel\u001b[0m\u001b[0;34m.\u001b[0m\u001b[0msaes\u001b[0m\u001b[0;34m(\u001b[0m\u001b[0msaes\u001b[0m \u001b[0;34m=\u001b[0m \u001b[0;34m[\u001b[0m\u001b[0msae1\u001b[0m\u001b[0;34m]\u001b[0m\u001b[0;34m)\u001b[0m\u001b[0;34m:\u001b[0m\u001b[0;34m\u001b[0m\u001b[0;34m\u001b[0m\u001b[0m\n\u001b[1;32m     55\u001b[0m         \u001b[0;32mwith\u001b[0m \u001b[0mmodel\u001b[0m\u001b[0;34m.\u001b[0m\u001b[0mhooks\u001b[0m\u001b[0;34m(\u001b[0m\u001b[0mfwd_hooks\u001b[0m \u001b[0;34m=\u001b[0m \u001b[0;34m[\u001b[0m\u001b[0;34m(\u001b[0m\u001b[0;34mf'{sae1.cfg.hook_name}.hook_sae_acts_post'\u001b[0m\u001b[0;34m,\u001b[0m \u001b[0mpartial\u001b[0m\u001b[0;34m(\u001b[0m\u001b[0mablate_sae_latent\u001b[0m\u001b[0;34m,\u001b[0m \u001b[0mlatent_idx\u001b[0m \u001b[0;34m=\u001b[0m \u001b[0mlatent1\u001b[0m\u001b[0;34m)\u001b[0m\u001b[0;34m)\u001b[0m\u001b[0;34m]\u001b[0m\u001b[0;34m)\u001b[0m\u001b[0;34m:\u001b[0m\u001b[0;34m\u001b[0m\u001b[0;34m\u001b[0m\u001b[0m\n\u001b[0;32m---> 56\u001b[0;31m             _, cache = model.run_with_cache(prompt, names_filter = [sae2.cfg.hook_name],\n\u001b[0m\u001b[1;32m     57\u001b[0m                                                \u001b[0mstop_at_layer\u001b[0m \u001b[0;34m=\u001b[0m \u001b[0msae2\u001b[0m\u001b[0;34m.\u001b[0m\u001b[0mcfg\u001b[0m\u001b[0;34m.\u001b[0m\u001b[0mhook_layer\u001b[0m \u001b[0;34m+\u001b[0m \u001b[0;36m1\u001b[0m\u001b[0;34m,\u001b[0m\u001b[0mstart_at_layer\u001b[0m \u001b[0;34m=\u001b[0m \u001b[0msae1\u001b[0m\u001b[0;34m.\u001b[0m\u001b[0mcfg\u001b[0m\u001b[0;34m.\u001b[0m\u001b[0mhook_layer\u001b[0m\u001b[0;34m,\u001b[0m\u001b[0;34m\u001b[0m\u001b[0;34m\u001b[0m\u001b[0m\n\u001b[1;32m     58\u001b[0m                                                prepend_bos = False)\n",
      "\u001b[0;32m~/everything/sae_experiments/TransformerLens/transformer_lens/HookedTransformer.py\u001b[0m in \u001b[0;36mrun_with_cache\u001b[0;34m(self, return_cache_object, remove_batch_dim, *model_args, **kwargs)\u001b[0m\n\u001b[1;32m    700\u001b[0m         \u001b[0mactivations\u001b[0m \u001b[0;32mas\u001b[0m \u001b[0;32min\u001b[0m \u001b[0mHookedRootModule\u001b[0m\u001b[0;34m.\u001b[0m\u001b[0;34m\u001b[0m\u001b[0;34m\u001b[0m\u001b[0m\n\u001b[1;32m    701\u001b[0m         \"\"\"\n\u001b[0;32m--> 702\u001b[0;31m         out, cache_dict = super().run_with_cache(\n\u001b[0m\u001b[1;32m    703\u001b[0m             \u001b[0;34m*\u001b[0m\u001b[0mmodel_args\u001b[0m\u001b[0;34m,\u001b[0m \u001b[0mremove_batch_dim\u001b[0m\u001b[0;34m=\u001b[0m\u001b[0mremove_batch_dim\u001b[0m\u001b[0;34m,\u001b[0m \u001b[0;34m**\u001b[0m\u001b[0mkwargs\u001b[0m\u001b[0;34m\u001b[0m\u001b[0;34m\u001b[0m\u001b[0m\n\u001b[1;32m    704\u001b[0m         )\n",
      "\u001b[0;32m~/everything/sae_experiments/TransformerLens/transformer_lens/hook_points.py\u001b[0m in \u001b[0;36mrun_with_cache\u001b[0;34m(self, names_filter, device, remove_batch_dim, incl_bwd, reset_hooks_end, clear_contexts, pos_slice, *model_args, **model_kwargs)\u001b[0m\n\u001b[1;32m    558\u001b[0m             \u001b[0mclear_contexts\u001b[0m\u001b[0;34m=\u001b[0m\u001b[0mclear_contexts\u001b[0m\u001b[0;34m,\u001b[0m\u001b[0;34m\u001b[0m\u001b[0;34m\u001b[0m\u001b[0m\n\u001b[1;32m    559\u001b[0m         ):\n\u001b[0;32m--> 560\u001b[0;31m             \u001b[0mmodel_out\u001b[0m \u001b[0;34m=\u001b[0m \u001b[0mself\u001b[0m\u001b[0;34m(\u001b[0m\u001b[0;34m*\u001b[0m\u001b[0mmodel_args\u001b[0m\u001b[0;34m,\u001b[0m \u001b[0;34m**\u001b[0m\u001b[0mmodel_kwargs\u001b[0m\u001b[0;34m)\u001b[0m\u001b[0;34m\u001b[0m\u001b[0;34m\u001b[0m\u001b[0m\n\u001b[0m\u001b[1;32m    561\u001b[0m             \u001b[0;32mif\u001b[0m \u001b[0mincl_bwd\u001b[0m\u001b[0;34m:\u001b[0m\u001b[0;34m\u001b[0m\u001b[0;34m\u001b[0m\u001b[0m\n\u001b[1;32m    562\u001b[0m                 \u001b[0mmodel_out\u001b[0m\u001b[0;34m.\u001b[0m\u001b[0mbackward\u001b[0m\u001b[0;34m(\u001b[0m\u001b[0;34m)\u001b[0m\u001b[0;34m\u001b[0m\u001b[0;34m\u001b[0m\u001b[0m\n",
      "\u001b[0;32m~/.local/lib/python3.10/site-packages/torch/nn/modules/module.py\u001b[0m in \u001b[0;36m_wrapped_call_impl\u001b[0;34m(self, *args, **kwargs)\u001b[0m\n\u001b[1;32m   1749\u001b[0m             \u001b[0;32mreturn\u001b[0m \u001b[0mself\u001b[0m\u001b[0;34m.\u001b[0m\u001b[0m_compiled_call_impl\u001b[0m\u001b[0;34m(\u001b[0m\u001b[0;34m*\u001b[0m\u001b[0margs\u001b[0m\u001b[0;34m,\u001b[0m \u001b[0;34m**\u001b[0m\u001b[0mkwargs\u001b[0m\u001b[0;34m)\u001b[0m  \u001b[0;31m# type: ignore[misc]\u001b[0m\u001b[0;34m\u001b[0m\u001b[0;34m\u001b[0m\u001b[0m\n\u001b[1;32m   1750\u001b[0m         \u001b[0;32melse\u001b[0m\u001b[0;34m:\u001b[0m\u001b[0;34m\u001b[0m\u001b[0;34m\u001b[0m\u001b[0m\n\u001b[0;32m-> 1751\u001b[0;31m             \u001b[0;32mreturn\u001b[0m \u001b[0mself\u001b[0m\u001b[0;34m.\u001b[0m\u001b[0m_call_impl\u001b[0m\u001b[0;34m(\u001b[0m\u001b[0;34m*\u001b[0m\u001b[0margs\u001b[0m\u001b[0;34m,\u001b[0m \u001b[0;34m**\u001b[0m\u001b[0mkwargs\u001b[0m\u001b[0;34m)\u001b[0m\u001b[0;34m\u001b[0m\u001b[0;34m\u001b[0m\u001b[0m\n\u001b[0m\u001b[1;32m   1752\u001b[0m \u001b[0;34m\u001b[0m\u001b[0m\n\u001b[1;32m   1753\u001b[0m     \u001b[0;31m# torchrec tests the code consistency with the following code\u001b[0m\u001b[0;34m\u001b[0m\u001b[0;34m\u001b[0m\u001b[0m\n",
      "\u001b[0;32m~/.local/lib/python3.10/site-packages/torch/nn/modules/module.py\u001b[0m in \u001b[0;36m_call_impl\u001b[0;34m(self, *args, **kwargs)\u001b[0m\n\u001b[1;32m   1760\u001b[0m                 \u001b[0;32mor\u001b[0m \u001b[0m_global_backward_pre_hooks\u001b[0m \u001b[0;32mor\u001b[0m \u001b[0m_global_backward_hooks\u001b[0m\u001b[0;34m\u001b[0m\u001b[0;34m\u001b[0m\u001b[0m\n\u001b[1;32m   1761\u001b[0m                 or _global_forward_hooks or _global_forward_pre_hooks):\n\u001b[0;32m-> 1762\u001b[0;31m             \u001b[0;32mreturn\u001b[0m \u001b[0mforward_call\u001b[0m\u001b[0;34m(\u001b[0m\u001b[0;34m*\u001b[0m\u001b[0margs\u001b[0m\u001b[0;34m,\u001b[0m \u001b[0;34m**\u001b[0m\u001b[0mkwargs\u001b[0m\u001b[0;34m)\u001b[0m\u001b[0;34m\u001b[0m\u001b[0;34m\u001b[0m\u001b[0m\n\u001b[0m\u001b[1;32m   1763\u001b[0m \u001b[0;34m\u001b[0m\u001b[0m\n\u001b[1;32m   1764\u001b[0m         \u001b[0mresult\u001b[0m \u001b[0;34m=\u001b[0m \u001b[0;32mNone\u001b[0m\u001b[0;34m\u001b[0m\u001b[0;34m\u001b[0m\u001b[0m\n",
      "\u001b[0;32m~/everything/sae_experiments/TransformerLens/transformer_lens/HookedTransformer.py\u001b[0m in \u001b[0;36mforward\u001b[0;34m(self, input, return_type, loss_per_token, prepend_bos, padding_side, start_at_layer, tokens, shortformer_pos_embed, attention_mask, stop_at_layer, past_kv_cache)\u001b[0m\n\u001b[1;32m    597\u001b[0m                 )\n\u001b[1;32m    598\u001b[0m             \u001b[0;32melse\u001b[0m\u001b[0;34m:\u001b[0m\u001b[0;34m\u001b[0m\u001b[0;34m\u001b[0m\u001b[0m\n\u001b[0;32m--> 599\u001b[0;31m                 \u001b[0;32massert\u001b[0m \u001b[0mtype\u001b[0m\u001b[0;34m(\u001b[0m\u001b[0minput\u001b[0m\u001b[0;34m)\u001b[0m \u001b[0;34m==\u001b[0m \u001b[0mtorch\u001b[0m\u001b[0;34m.\u001b[0m\u001b[0mTensor\u001b[0m\u001b[0;34m\u001b[0m\u001b[0;34m\u001b[0m\u001b[0m\n\u001b[0m\u001b[1;32m    600\u001b[0m                 \u001b[0mresidual\u001b[0m \u001b[0;34m=\u001b[0m \u001b[0minput\u001b[0m\u001b[0;34m\u001b[0m\u001b[0;34m\u001b[0m\u001b[0m\n\u001b[1;32m    601\u001b[0m \u001b[0;34m\u001b[0m\u001b[0m\n",
      "\u001b[0;31mAssertionError\u001b[0m: "
     ]
    }
   ],
   "source": [
    "run_with_ablation(\"how are you\", model, sae1, sae2, 0, 1).shape"
   ]
  },
  {
   "cell_type": "code",
   "execution_count": 161,
   "id": "0f039706-a970-4fd3-bc97-5e0da1566abd",
   "metadata": {},
   "outputs": [
    {
     "data": {
      "text/plain": [
       "['blocks.7.hook_resid_pre.hook_sae_acts_post',\n",
       " functools.partial(<function ablate_sae_latent at 0x7fe0314bea70>, latent_idx=1841)]"
      ]
     },
     "execution_count": 161,
     "metadata": {},
     "output_type": "execute_result"
    }
   ],
   "source": [
    "[f'{sae1.cfg.hook_name}.hook_sae_acts_post', partial(ablate_sae_latent, latent_idx = l[0])]"
   ]
  },
  {
   "cell_type": "code",
   "execution_count": 31,
   "id": "e7ec4f22-a1b5-4a6b-84d4-dc05e4143ce4",
   "metadata": {},
   "outputs": [
    {
     "name": "stderr",
     "output_type": "stream",
     "text": [
      "2025-06-25 15:03:01.231278: E external/local_xla/xla/stream_executor/cuda/cuda_fft.cc:467] Unable to register cuFFT factory: Attempting to register factory for plugin cuFFT when one has already been registered\n",
      "WARNING: All log messages before absl::InitializeLog() is called are written to STDERR\n",
      "E0000 00:00:1750878181.253563 1575730 cuda_dnn.cc:8579] Unable to register cuDNN factory: Attempting to register factory for plugin cuDNN when one has already been registered\n",
      "E0000 00:00:1750878181.260283 1575730 cuda_blas.cc:1407] Unable to register cuBLAS factory: Attempting to register factory for plugin cuBLAS when one has already been registered\n",
      "W0000 00:00:1750878181.286449 1575730 computation_placer.cc:177] computation placer already registered. Please check linkage and avoid linking the same target more than once.\n",
      "W0000 00:00:1750878181.286485 1575730 computation_placer.cc:177] computation placer already registered. Please check linkage and avoid linking the same target more than once.\n",
      "W0000 00:00:1750878181.286490 1575730 computation_placer.cc:177] computation placer already registered. Please check linkage and avoid linking the same target more than once.\n",
      "W0000 00:00:1750878181.286494 1575730 computation_placer.cc:177] computation placer already registered. Please check linkage and avoid linking the same target more than once.\n",
      "2025-06-25 15:03:01.295768: I tensorflow/core/platform/cpu_feature_guard.cc:210] This TensorFlow binary is optimized to use available CPU instructions in performance-critical operations.\n",
      "To enable the following instructions: AVX2 AVX512F FMA, in other operations, rebuild TensorFlow with the appropriate compiler flags.\n"
     ]
    },
    {
     "name": "stdout",
     "output_type": "stream",
     "text": [
      "Loaded pretrained model gpt2-small into HookedTransformer\n"
     ]
    },
    {
     "name": "stderr",
     "output_type": "stream",
     "text": [
      "/home/users/sv226/.local/lib/python3.10/site-packages/sae_lens/sae.py:151: UserWarning: \n",
      "This SAE has non-empty model_from_pretrained_kwargs. \n",
      "For optimal performance, load the model like so:\n",
      "model = HookedSAETransformer.from_pretrained_no_processing(..., **cfg.model_from_pretrained_kwargs)\n",
      "  warnings.warn(\n"
     ]
    }
   ],
   "source": [
    "model, sae1, sae2 = feature_corrs.load_model_and_saes('cpu',\"gpt2-small-res-jb\", 2, 11)\n",
    "df = pd.read_pickle('correlated_features_2_11_wikitext_5000_0.pkl')"
   ]
  },
  {
   "cell_type": "code",
   "execution_count": 209,
   "id": "15a1ecd7-1d35-4fff-8941-461eb1394cd7",
   "metadata": {},
   "outputs": [],
   "source": [
    "l = df.iloc[np.random.randint(df.shape[0])].tolist()"
   ]
  },
  {
   "cell_type": "code",
   "execution_count": 114,
   "id": "9cb618ab-fba1-4124-bb1b-342f95d19be5",
   "metadata": {},
   "outputs": [],
   "source": [
    "dataset = load_dataset('wikitext', 'wikitext-103-raw-v1', split = 'train')\n",
    "subset_size = 50000\n",
    "batch_size = 8\n",
    "max_length = 20\n",
    "subset = dataset.shuffle(seed=0).select(range(subset_size))\n"
   ]
  },
  {
   "cell_type": "code",
   "execution_count": 212,
   "id": "b24bf918-b121-40ec-8f46-bdf156829365",
   "metadata": {},
   "outputs": [
    {
     "data": {
      "text/plain": [
       "[12114,\n",
       " 2912,\n",
       " 0.9677756428718567,\n",
       " 0.2142857164144516,\n",
       " 0.4285714328289032,\n",
       " (4029, 1714, 3341),\n",
       " (4029, 1773, 1714)]"
      ]
     },
     "execution_count": 212,
     "metadata": {},
     "output_type": "execute_result"
    }
   ],
   "source": [
    "l"
   ]
  },
  {
   "cell_type": "code",
   "execution_count": 214,
   "id": "ee1fa080-4d5f-4cc7-9c26-ed4a659bc440",
   "metadata": {},
   "outputs": [
    {
     "data": {
      "text/plain": [
       "' In 1964 , after having been introduced to cannabis by Bob Dylan in New York , Epstein was observed by McCartney standing in front of a mirror , pointing at himself and repeatedly saying \" Jew ! \" , while laughing loudly , which McCartney found hilarious and \" very liberating \" . Epstein later became heavily involved in the 1960s drug scene . During the four months when the Sgt. Pepper album was being recorded , Epstein spent his time on holiday , or at the Priory Clinic in Putney , where he tried unsuccessfully to curb his drug use . He left the Priory to attend the Sgt. Pepper launch party at his house on 24 Chapel Street , but returned to the Priory immediately after . \\n'"
      ]
     },
     "execution_count": 214,
     "metadata": {},
     "output_type": "execute_result"
    }
   ],
   "source": [
    "subset[l[-2][0]]['text']"
   ]
  },
  {
   "cell_type": "code",
   "execution_count": 263,
   "id": "a58dc27e-2a82-406c-ac3a-98c8b48ac975",
   "metadata": {},
   "outputs": [
    {
     "data": {
      "text/plain": [
       "'blocks.2.hook_resid_pre'"
      ]
     },
     "execution_count": 263,
     "metadata": {},
     "output_type": "execute_result"
    }
   ],
   "source": [
    "sae1.cfg.hook_name"
   ]
  },
  {
   "cell_type": "code",
   "execution_count": 281,
   "id": "65c7cfff-47fb-4ec4-b4a6-96be18181e03",
   "metadata": {
    "scrolled": true,
    "tags": []
   },
   "outputs": [],
   "source": [
    "ablation_diff = []\n",
    "reconstruction_diff = []\n",
    "multiply_diff = []\n",
    "#ndf = df.sort_values(by = '\n",
    "for i in range(0,500):\n",
    "    l = df.iloc[i].tolist()\n",
    "    _, cache = model.run_with_cache(subset[l[-1][0]]['text'], names_filter = [sae1.cfg.hook_name], stop_at_layer = sae1.cfg.hook_layer + 1, prepend_bos = True)\n",
    "    first_hook = cache[sae1.cfg.hook_name]\n",
    "    og = run(first_hook, model, sae1, sae2, l[0], l[1]).sum().detach()\n",
    "    ablation = run_with_ablation(first_hook, model, sae1, sae2, l[0], l[1]).sum().detach()\n",
    "    recon = run_with_reconstruction(first_hook, model, sae1, sae2, l[0], l[1]).sum().detach()\n",
    "    multiply = run_with_steering(first_hook, model, sae1, sae2, l[0], l[1]).sum().detach()\n",
    "    ablation_diff.append((ablation - og)/og)\n",
    "    reconstruction_diff.append((recon - og)/og)\n",
    "    multiply_diff.append((multiply - og)/og)"
   ]
  },
  {
   "cell_type": "code",
   "execution_count": 283,
   "id": "0eaa390e-161d-4bb6-8565-cf0d4e566447",
   "metadata": {},
   "outputs": [
    {
     "data": {
      "text/plain": [
       "Text(0, 0.5, 'Ablation difference')"
      ]
     },
     "execution_count": 283,
     "metadata": {},
     "output_type": "execute_result"
    },
    {
     "data": {
      "image/png": "[encoded data removed]",
      "text/plain": [
       "<Figure size 640x480 with 1 Axes>"
      ]
     },
     "metadata": {},
     "output_type": "display_data"
    }
   ],
   "source": [
    "plt.scatter(reconstruction_diff, ablation_diff)\n",
    "plt.plot([-1, 3.1], [-1, 3.1])\n",
    "plt.xlabel(\"Reconstruction difference\")\n",
    "plt.ylabel(\"Ablation difference\")"
   ]
  },
  {
   "cell_type": "code",
   "execution_count": 290,
   "id": "457b84c3-99bf-44a5-95fc-e1740e7208e6",
   "metadata": {},
   "outputs": [
    {
     "data": {
      "text/plain": [
       "Text(0, 0.5, 'Ablation difference')"
      ]
     },
     "execution_count": 290,
     "metadata": {},
     "output_type": "execute_result"
    },
    {
     "data": {
      "image/png": "[encoded data removed]",
      "text/plain": [
       "<Figure size 640x480 with 1 Axes>"
      ]
     },
     "metadata": {},
     "output_type": "display_data"
    }
   ],
   "source": [
    "plt.scatter(multiply_diff, ablation_diff)\n",
    "plt.plot([-1, 5], [-1,5 ])\n",
    "plt.xlabel(\"Expansion difference\")\n",
    "plt.ylabel(\"Ablation difference\")"
   ]
  },
  {
   "cell_type": "code",
   "execution_count": 294,
   "id": "d98a729a-6048-417a-bea5-48e265f07482",
   "metadata": {},
   "outputs": [
    {
     "data": {
      "text/plain": [
       "array([203, 409, 185,  86, 464, 408, 465,  80, 192, 406,  75,  74, 404,\n",
       "       399, 180,  69,  68, 211, 394,  63,  62,  61, 393, 391, 221, 226,\n",
       "       385, 442, 450, 120, 116, 446, 114, 128, 131, 133, 108, 107, 134,\n",
       "       138, 443, 472, 153, 155, 157,  99, 428, 417, 169, 456, 413, 411,\n",
       "       461, 174, 331,  32, 282, 229, 284, 350, 288, 289, 349, 342, 333,\n",
       "       498, 283, 329, 327,  12, 315, 321,   8,   7, 317,   0,   1, 476,\n",
       "        44, 264, 265,  46, 484, 368,  41, 257, 266, 366, 485, 235, 231,\n",
       "       230,  36, 324, 279, 320, 486, 132, 191, 269, 496, 109, 303, 296,\n",
       "       488, 179, 396, 407,   4,  79, 121,  40, 206, 205, 352,   6, 495,\n",
       "       367, 195, 160,  97, 452, 130, 362,   9, 326, 176, 388, 102, 387,\n",
       "       127, 255, 351, 111,  10, 126,  35,  78,  11,  96,  84, 143, 204,\n",
       "       308, 101,  82, 122, 458, 129, 306, 175,  83, 445, 103,  34, 148,\n",
       "        38,  93, 188,   5, 105, 187, 468, 233, 487,  66, 414, 280, 271,\n",
       "       395, 142, 455,  39, 489,  21,  72, 295, 216, 141, 166, 361, 208,\n",
       "       267, 336, 113,  89, 241, 217, 304, 139, 150, 363, 344,  88, 151,\n",
       "       140, 364, 305, 389, 172, 294, 156, 118, 433, 463, 260,   2,  14,\n",
       "       253, 319, 154, 477, 158,  27, 348, 167,  70, 451,  30,  98, 422,\n",
       "       401, 123,  55,  29,  15, 278, 207,  22, 183, 311, 398, 473, 412,\n",
       "       449,  23, 330, 104, 177, 297, 212,  65, 490, 467,  87, 346, 466,\n",
       "        51,  13, 115, 263,  71,  73, 292, 193, 274,  20, 377,  57, 287,\n",
       "       112, 196, 405, 380, 376, 379, 378, 375,  59, 481, 373, 475,  53,\n",
       "       381, 427, 215,  56,  91, 444, 184, 497, 374, 371,  64, 222, 181,\n",
       "       117, 386, 190, 254, 135, 410, 302, 261, 137, 275, 436, 244, 246,\n",
       "       247, 243, 245, 360, 242,  49, 232, 240, 248, 152, 418,  19, 400,\n",
       "        54, 147,  43, 214,  48, 237, 223, 499, 430, 144,  33, 252,  76,\n",
       "       312, 479, 218, 301,  50, 434, 429, 238, 392, 161, 286, 164, 290,\n",
       "       197, 390, 276, 492, 491, 318,  28, 262, 454,  47,  90,  58, 383,\n",
       "        45, 494, 239, 419,  37, 293, 146,  18, 281, 402,  92, 268, 372,\n",
       "        52, 493,  16,  42,  67, 335, 334, 189, 298, 145, 397, 159, 403,\n",
       "        95, 285, 314, 469, 100, 457, 202, 343, 359, 194, 345, 272,  60,\n",
       "       110, 178,  77, 277, 213, 291, 234, 423, 322, 310, 200, 474, 323,\n",
       "       420, 480, 316, 201, 162, 106, 347, 171, 462, 453, 424, 309, 219,\n",
       "       124, 325, 173, 370, 209, 256,  24, 119, 199, 125, 478,   3, 328,\n",
       "       460, 236, 149, 198, 170, 356, 421, 470, 210, 471, 435,  25,  17,\n",
       "       273, 307, 357, 432, 300,  94, 355,  26, 136, 186, 425, 459, 165,\n",
       "       482, 353,  85, 365, 182, 354, 426, 369, 448, 249, 358, 332, 220,\n",
       "       382, 163, 431, 299,  31, 483, 228, 384, 340, 227, 313, 225, 224,\n",
       "       437, 438, 439, 337, 338, 339, 440, 168, 341, 441, 447, 250, 251,\n",
       "       416, 258, 270, 415,  81, 259])"
      ]
     },
     "execution_count": 294,
     "metadata": {},
     "output_type": "execute_result"
    }
   ],
   "source": [
    "np.argsort(ablation_diff)"
   ]
  },
  {
   "cell_type": "code",
   "execution_count": 306,
   "id": "bba21862-3b00-4518-b15b-c3cac107e07d",
   "metadata": {},
   "outputs": [
    {
     "data": {
      "text/plain": [
       "(array([ 31, 163, 299, 382, 431, 483]),)"
      ]
     },
     "execution_count": 306,
     "metadata": {},
     "output_type": "execute_result"
    }
   ],
   "source": [
    "np.where(np.array(ablation_diff) > 3)"
   ]
  },
  {
   "cell_type": "code",
   "execution_count": 308,
   "id": "34646775-ff66-4434-b764-6e751c879036",
   "metadata": {},
   "outputs": [
    {
     "data": {
      "text/plain": [
       "tensor(3.1953)"
      ]
     },
     "execution_count": 308,
     "metadata": {},
     "output_type": "execute_result"
    }
   ],
   "source": [
    "ablation_diff[163]"
   ]
  },
  {
   "cell_type": "code",
   "execution_count": 309,
   "id": "9ae870e3-6196-4c3a-921e-9e7fcee17fec",
   "metadata": {},
   "outputs": [],
   "source": [
    "l = df.iloc[163].tolist()"
   ]
  },
  {
   "cell_type": "code",
   "execution_count": 310,
   "id": "2f2f5a48-ef86-4378-b6cb-47d43df292f9",
   "metadata": {},
   "outputs": [
    {
     "data": {
      "text/plain": [
       "[527,\n",
       " 8045,\n",
       " 0.9616023302078247,\n",
       " 1.0,\n",
       " 0.0833333358168602,\n",
       " (4994, 3603, 3591),\n",
       " (4994, 1, 0)]"
      ]
     },
     "execution_count": 310,
     "metadata": {},
     "output_type": "execute_result"
    }
   ],
   "source": [
    "l"
   ]
  },
  {
   "cell_type": "code",
   "execution_count": 269,
   "id": "78365ea3-42e5-428f-b426-9fbffcb705b9",
   "metadata": {},
   "outputs": [
    {
     "data": {
      "text/plain": [
       "<matplotlib.legend.Legend at 0x7fdff9bf08e0>"
      ]
     },
     "execution_count": 269,
     "metadata": {},
     "output_type": "execute_result"
    },
    {
     "data": {
      "image/png": "[encoded data removed]",
      "text/plain": [
       "<Figure size 640x480 with 1 Axes>"
      ]
     },
     "metadata": {},
     "output_type": "display_data"
    }
   ],
   "source": [
    "plt.hist(ablation_diff, alpha = 0.7, label = 'Ablation')\n",
    "plt.hist(reconstruction_diff, alpha = 0.7, label = 'Reconstruction')\n",
    "plt.legend()"
   ]
  },
  {
   "cell_type": "markdown",
   "id": "e3e04d94-3353-4e84-a1f8-f19ab563f72e",
   "metadata": {
    "tags": []
   },
   "source": [
    "## plot relative feature activations"
   ]
  },
  {
   "cell_type": "code",
   "execution_count": 200,
   "id": "67eae696-c990-4019-9de2-ab23cf5a61cf",
   "metadata": {},
   "outputs": [],
   "source": [
    "import feature_corrs"
   ]
  },
  {
   "cell_type": "code",
   "execution_count": 201,
   "id": "86a2e5ff-09b8-4c0a-bed0-69a6a605f56b",
   "metadata": {},
   "outputs": [],
   "source": [
    "dataloader = feature_corrs.process_dataset(dataset_name=\"wikitext\",\n",
    "        dataset_config=\"wikitext-103-raw-v1\",subset_size = 20)"
   ]
  },
  {
   "cell_type": "code",
   "execution_count": 203,
   "id": "c6e3a896-b393-4971-8c24-aea5c844113a",
   "metadata": {},
   "outputs": [
    {
     "ename": "AttributeError",
     "evalue": "module 'feature_corrs' has no attribute 'plot_latent_activations'",
     "output_type": "error",
     "traceback": [
      "\u001b[0;31m---------------------------------------------------------------------------\u001b[0m",
      "\u001b[0;31mAttributeError\u001b[0m                            Traceback (most recent call last)",
      "\u001b[0;32m/tmp/ipykernel_1480316/3371876949.py\u001b[0m in \u001b[0;36m<module>\u001b[0;34m\u001b[0m\n\u001b[0;32m----> 1\u001b[0;31m \u001b[0mfeature_corrs\u001b[0m\u001b[0;34m.\u001b[0m\u001b[0mplot_latent_activations\u001b[0m\u001b[0;34m(\u001b[0m\u001b[0mmodel\u001b[0m\u001b[0;34m,\u001b[0m \u001b[0msae1\u001b[0m\u001b[0;34m,\u001b[0m \u001b[0msae2\u001b[0m\u001b[0;34m,\u001b[0m \u001b[0ml\u001b[0m\u001b[0;34m[\u001b[0m\u001b[0;36m0\u001b[0m\u001b[0;34m]\u001b[0m\u001b[0;34m,\u001b[0m \u001b[0ml\u001b[0m\u001b[0;34m[\u001b[0m\u001b[0;36m1\u001b[0m\u001b[0;34m]\u001b[0m\u001b[0;34m)\u001b[0m\u001b[0;34m\u001b[0m\u001b[0;34m\u001b[0m\u001b[0m\n\u001b[0m",
      "\u001b[0;31mAttributeError\u001b[0m: module 'feature_corrs' has no attribute 'plot_latent_activations'"
     ]
    }
   ],
   "source": [
    "feature_corrs.plot_latent_activations(model, sae1, sae2, l[0], l[1])"
   ]
  },
  {
   "cell_type": "markdown",
   "id": "3e7b7732-6d6d-4eec-9e17-ab209787029b",
   "metadata": {
    "tags": []
   },
   "source": [
    "## sequence position analysis"
   ]
  },
  {
   "cell_type": "code",
   "execution_count": 10,
   "id": "eb9a728c-6607-4280-8276-10e618cee95e",
   "metadata": {},
   "outputs": [
    {
     "name": "stderr",
     "output_type": "stream",
     "text": [
      "2025-06-17 13:25:00.466491: E external/local_xla/xla/stream_executor/cuda/cuda_fft.cc:467] Unable to register cuFFT factory: Attempting to register factory for plugin cuFFT when one has already been registered\n",
      "WARNING: All log messages before absl::InitializeLog() is called are written to STDERR\n",
      "E0000 00:00:1750181100.591493 1471540 cuda_dnn.cc:8579] Unable to register cuDNN factory: Attempting to register factory for plugin cuDNN when one has already been registered\n",
      "E0000 00:00:1750181100.628016 1471540 cuda_blas.cc:1407] Unable to register cuBLAS factory: Attempting to register factory for plugin cuBLAS when one has already been registered\n",
      "W0000 00:00:1750181100.938249 1471540 computation_placer.cc:177] computation placer already registered. Please check linkage and avoid linking the same target more than once.\n",
      "W0000 00:00:1750181100.938286 1471540 computation_placer.cc:177] computation placer already registered. Please check linkage and avoid linking the same target more than once.\n",
      "W0000 00:00:1750181100.938290 1471540 computation_placer.cc:177] computation placer already registered. Please check linkage and avoid linking the same target more than once.\n",
      "W0000 00:00:1750181100.938293 1471540 computation_placer.cc:177] computation placer already registered. Please check linkage and avoid linking the same target more than once.\n",
      "2025-06-17 13:25:00.975393: I tensorflow/core/platform/cpu_feature_guard.cc:210] This TensorFlow binary is optimized to use available CPU instructions in performance-critical operations.\n",
      "To enable the following instructions: AVX2 AVX512F FMA, in other operations, rebuild TensorFlow with the appropriate compiler flags.\n"
     ]
    },
    {
     "name": "stdout",
     "output_type": "stream",
     "text": [
      "Loaded pretrained model gpt2-small into HookedTransformer\n"
     ]
    },
    {
     "name": "stderr",
     "output_type": "stream",
     "text": [
      "/home/users/sv226/.local/lib/python3.10/site-packages/sae_lens/sae.py:151: UserWarning: \n",
      "This SAE has non-empty model_from_pretrained_kwargs. \n",
      "For optimal performance, load the model like so:\n",
      "model = HookedSAETransformer.from_pretrained_no_processing(..., **cfg.model_from_pretrained_kwargs)\n",
      "  warnings.warn(\n"
     ]
    }
   ],
   "source": [
    "model, sae1, sae2 = feature_corrs.load_model_and_saes('cpu',\"gpt2-small-res-jb\", 2, 11)\n",
    "df = pd.read_pickle('correlated_features_2_11_wikitext_5000_0.pkl')"
   ]
  },
  {
   "cell_type": "code",
   "execution_count": 11,
   "id": "78f10dea-ba2f-43eb-884d-facce5005bd3",
   "metadata": {},
   "outputs": [],
   "source": [
    "dataset = load_dataset('wikitext', 'wikitext-103-raw-v1', split = 'train')\n",
    "subset_size = 5000\n",
    "batch_size = 8\n",
    "max_length = 20\n",
    "subset = dataset.shuffle(seed=0).select(range(subset_size))\n"
   ]
  },
  {
   "cell_type": "code",
   "execution_count": 34,
   "id": "e384dd88-ec21-4eca-9f80-618ba7a593ff",
   "metadata": {},
   "outputs": [],
   "source": [
    "def get_all_caches(prompt, model, sae1, sae2):\n",
    "    return model.run_with_cache(\n",
    "                    prompt,\n",
    "                    names_filter=[sae1.cfg.hook_name, sae2.cfg.hook_name],\n",
    "                    stop_at_layer=max(sae1.cfg.hook_layer, sae2.cfg.hook_layer) + 1,\n",
    "                    prepend_bos=False,\n",
    "                )[1]\n",
    "\n",
    "def get_activations_diff(cache, model, sae1, sae2, latent_idx1, latent_idx2):\n",
    "                \n",
    "    # Get activations for both latents\n",
    "    act1 = single_latent_encode(layerwise_activations_cache[sae1.cfg.hook_name], latent_idx1, sae1)\n",
    "    act2 = single_latent_encode(layerwise_activations_cache[sae2.cfg.hook_name], latent_idx2, sae2)\n",
    "    \n",
    "    print(act1.shape)\n",
    "    print(act2.shape)\n",
    "    \n",
    "    act1_max_seq = t.argmax(act1, axis = 1)\n",
    "    act2_max_seq = t.argmax(act2, axis = 1)\n",
    "    mask = (t.sum(act1, axis = 1) > 0) & (t.sum(act2, axis= 1) > 0)\n",
    "    max_diff = (act2_max_seq - act1_max_seq)[mask]\n",
    "    return t.where(mask, act2_max_seq - act1_max_seq, 0.1) # 0.1 indicates that one or the other feature did not appear"
   ]
  },
  {
   "cell_type": "code",
   "execution_count": 33,
   "id": "9412378e-b770-4519-a5d0-4d3d0f93dba6",
   "metadata": {},
   "outputs": [],
   "source": [
    "def single_latent_encode(vec, i, sae1):\n",
    "    return t.relu((vec - sae1.b_dec[i]) @ sae1.W_enc[:,i] + sae1.b_enc[i])"
   ]
  },
  {
   "cell_type": "code",
   "execution_count": null,
   "id": "350920f0-ad0e-4d5a-b927-76e6968d5656",
   "metadata": {},
   "outputs": [],
   "source": [
    "caches = get_all_caches(subset[i:i+100]['text'], model, sae1, sae2)"
   ]
  },
  {
   "cell_type": "code",
   "execution_count": 29,
   "id": "23cc2104-d180-4b82-9b8f-6c40331373f6",
   "metadata": {},
   "outputs": [
    {
     "name": "stdout",
     "output_type": "stream",
     "text": [
      " On 26 June 1950 , a Douglas DC @-@ 4 Skymaster aircraft departed from Perth , Western Australia for an eight @-@ hour flight to Adelaide , South Australia . It crashed 18 minutes after take @-@ off , 32 nautical miles ( 59 km ) from Perth Airport . All but one of the 29 occupants were killed in the accident and the sole survivor died six days later . It was the worst civil aviation accident in Australia . \n",
      "\n",
      "torch.Size([10, 247])\n",
      "torch.Size([10, 247])\n"
     ]
    }
   ],
   "source": [
    "i = 5\n",
    "print(subset[i]['text'])\n",
    "diff = get_activations_diff(subset[i:i+10]['text'], model, sae1, sae2, 0, 0)"
   ]
  },
  {
   "cell_type": "code",
   "execution_count": 30,
   "id": "5458b11f-04b9-490f-929e-fcf6125a476e",
   "metadata": {},
   "outputs": [
    {
     "data": {
      "text/plain": [
       "tensor([0.1000, 0.1000, 0.1000, 0.1000, 0.1000, 0.1000, 0.1000, 0.1000, 0.1000,\n",
       "        0.1000])"
      ]
     },
     "execution_count": 30,
     "metadata": {},
     "output_type": "execute_result"
    }
   ],
   "source": [
    "diff"
   ]
  },
  {
   "cell_type": "code",
   "execution_count": 92,
   "id": "c989c5a4-5b37-4054-bff4-d998eacf0005",
   "metadata": {},
   "outputs": [],
   "source": [
    "mask = (diff != 0.1)\n",
    "avg_diff = (diff * mask).sum(dim=0) / (mask.sum(dim=0).float() + 0.01)"
   ]
  },
  {
   "cell_type": "code",
   "execution_count": 102,
   "id": "10c1aef8-a22e-49b3-8801-4b9bae3d3516",
   "metadata": {},
   "outputs": [
    {
     "data": {
      "text/plain": [
       "(array([ 24.,  37.,  43.,  62., 139., 273., 225., 117.,  37.,  41.]),\n",
       " array([-242.57426453, -193.77818298, -144.98210144,  -96.18602753,\n",
       "         -47.3899498 ,    1.40612793,   50.20220566,   98.99828339,\n",
       "         147.7943573 ,  196.59043884,  245.38652039]),\n",
       " <BarContainer object of 10 artists>)"
      ]
     },
     "execution_count": 102,
     "metadata": {},
     "output_type": "execute_result"
    },
    {
     "data": {
      "image/png": "[encoded data removed]",
      "text/plain": [
       "<Figure size 640x480 with 1 Axes>"
      ]
     },
     "metadata": {},
     "output_type": "display_data"
    }
   ],
   "source": [
    "plt.hist(avg_diff[mask.sum(axis = 0) != 0])"
   ]
  },
  {
   "cell_type": "code",
   "execution_count": null,
   "id": "eec553db-8129-4f9f-9f6e-0eaa1d6bb039",
   "metadata": {},
   "outputs": [],
   "source": [
    "t.nonzero((diff * mask).sum(dim=0))"
   ]
  },
  {
   "cell_type": "markdown",
   "id": "3d7e060f-df01-4c69-977d-592e883b7924",
   "metadata": {
    "tags": []
   },
   "source": [
    "## new correlations"
   ]
  },
  {
   "cell_type": "code",
   "execution_count": 16,
   "id": "0a017f41-982a-4c5c-aaa8-4ad2619f19b6",
   "metadata": {},
   "outputs": [],
   "source": [
    "df = pd.read_pickle(\"correlated_features_2_11_wikitext_50000_0.pkl\")"
   ]
  },
  {
   "cell_type": "code",
   "execution_count": 101,
   "id": "2e24105d-7e4a-477e-8d07-18bde85115fe",
   "metadata": {},
   "outputs": [
    {
     "data": {
      "text/html": [
       "<div>\n",
       "<style scoped>\n",
       "    .dataframe tbody tr th:only-of-type {\n",
       "        vertical-align: middle;\n",
       "    }\n",
       "\n",
       "    .dataframe tbody tr th {\n",
       "        vertical-align: top;\n",
       "    }\n",
       "\n",
       "    .dataframe thead th {\n",
       "        text-align: right;\n",
       "    }\n",
       "</style>\n",
       "<table border=\"1\" class=\"dataframe\">\n",
       "  <thead>\n",
       "    <tr style=\"text-align: right;\">\n",
       "      <th></th>\n",
       "      <th>i</th>\n",
       "      <th>j</th>\n",
       "      <th>corr</th>\n",
       "      <th>p_i_given_j</th>\n",
       "      <th>p_j_given_i</th>\n",
       "      <th>topk_i</th>\n",
       "      <th>topk_j</th>\n",
       "    </tr>\n",
       "  </thead>\n",
       "  <tbody>\n",
       "  </tbody>\n",
       "</table>\n",
       "</div>"
      ],
      "text/plain": [
       "Empty DataFrame\n",
       "Columns: [i, j, corr, p_i_given_j, p_j_given_i, topk_i, topk_j]\n",
       "Index: []"
      ]
     },
     "execution_count": 101,
     "metadata": {},
     "output_type": "execute_result"
    }
   ],
   "source": [
    "df[(df['j'] == 17596)]"
   ]
  },
  {
   "cell_type": "code",
   "execution_count": 17,
   "id": "fc541ae2-5d01-4086-bd91-ce05f670d599",
   "metadata": {},
   "outputs": [],
   "source": [
    "df_high_corr = df[(df['corr'] > 0)]"
   ]
  },
  {
   "cell_type": "code",
   "execution_count": 27,
   "id": "dd1b8277-ad9e-457b-8540-0e6a1fb00a45",
   "metadata": {},
   "outputs": [
    {
     "data": {
      "text/html": [
       "<div>\n",
       "<style scoped>\n",
       "    .dataframe tbody tr th:only-of-type {\n",
       "        vertical-align: middle;\n",
       "    }\n",
       "\n",
       "    .dataframe tbody tr th {\n",
       "        vertical-align: top;\n",
       "    }\n",
       "\n",
       "    .dataframe thead th {\n",
       "        text-align: right;\n",
       "    }\n",
       "</style>\n",
       "<table border=\"1\" class=\"dataframe\">\n",
       "  <thead>\n",
       "    <tr style=\"text-align: right;\">\n",
       "      <th></th>\n",
       "      <th>i</th>\n",
       "      <th>j</th>\n",
       "      <th>corr</th>\n",
       "      <th>p_i_given_j</th>\n",
       "      <th>p_j_given_i</th>\n",
       "      <th>topk_i</th>\n",
       "      <th>topk_j</th>\n",
       "    </tr>\n",
       "  </thead>\n",
       "  <tbody>\n",
       "    <tr>\n",
       "      <th>242</th>\n",
       "      <td>3449</td>\n",
       "      <td>12687</td>\n",
       "      <td>0.900040</td>\n",
       "      <td>0.383721</td>\n",
       "      <td>2.606061</td>\n",
       "      <td>(44951, 43350, 14407)</td>\n",
       "      <td>(14186, 5993, 31364)</td>\n",
       "    </tr>\n",
       "    <tr>\n",
       "      <th>884</th>\n",
       "      <td>12484</td>\n",
       "      <td>18885</td>\n",
       "      <td>0.900180</td>\n",
       "      <td>0.326733</td>\n",
       "      <td>3.060606</td>\n",
       "      <td>(45946, 2367, 14761)</td>\n",
       "      <td>(2367, 36883, 45946)</td>\n",
       "    </tr>\n",
       "    <tr>\n",
       "      <th>91</th>\n",
       "      <td>1791</td>\n",
       "      <td>5532</td>\n",
       "      <td>0.900326</td>\n",
       "      <td>26.237288</td>\n",
       "      <td>0.038114</td>\n",
       "      <td>(15732, 12736, 13398)</td>\n",
       "      <td>(12433, 12736, 47566)</td>\n",
       "    </tr>\n",
       "    <tr>\n",
       "      <th>1615</th>\n",
       "      <td>22271</td>\n",
       "      <td>5421</td>\n",
       "      <td>0.900361</td>\n",
       "      <td>3.400000</td>\n",
       "      <td>0.294118</td>\n",
       "      <td>(49074, 39931, 19077)</td>\n",
       "      <td>(49074, 19077, 5778)</td>\n",
       "    </tr>\n",
       "    <tr>\n",
       "      <th>1095</th>\n",
       "      <td>15029</td>\n",
       "      <td>7773</td>\n",
       "      <td>0.900426</td>\n",
       "      <td>0.244726</td>\n",
       "      <td>4.086207</td>\n",
       "      <td>(48406, 47939, 3405)</td>\n",
       "      <td>(48406, 5577, 3405)</td>\n",
       "    </tr>\n",
       "    <tr>\n",
       "      <th>...</th>\n",
       "      <td>...</td>\n",
       "      <td>...</td>\n",
       "      <td>...</td>\n",
       "      <td>...</td>\n",
       "      <td>...</td>\n",
       "      <td>...</td>\n",
       "      <td>...</td>\n",
       "    </tr>\n",
       "    <tr>\n",
       "      <th>1038</th>\n",
       "      <td>14995</td>\n",
       "      <td>12338</td>\n",
       "      <td>0.988613</td>\n",
       "      <td>0.200000</td>\n",
       "      <td>5.000000</td>\n",
       "      <td>(33136, 1498, 26428)</td>\n",
       "      <td>(33136, 14679, 11605)</td>\n",
       "    </tr>\n",
       "    <tr>\n",
       "      <th>371</th>\n",
       "      <td>5962</td>\n",
       "      <td>16774</td>\n",
       "      <td>0.988714</td>\n",
       "      <td>1.084337</td>\n",
       "      <td>0.922222</td>\n",
       "      <td>(28951, 42325, 14947)</td>\n",
       "      <td>(14947, 38835, 19215)</td>\n",
       "    </tr>\n",
       "    <tr>\n",
       "      <th>510</th>\n",
       "      <td>7655</td>\n",
       "      <td>18096</td>\n",
       "      <td>0.988953</td>\n",
       "      <td>0.390625</td>\n",
       "      <td>2.560000</td>\n",
       "      <td>(34909, 13273, 42029)</td>\n",
       "      <td>(23675, 13273, 34909)</td>\n",
       "    </tr>\n",
       "    <tr>\n",
       "      <th>1413</th>\n",
       "      <td>19890</td>\n",
       "      <td>17603</td>\n",
       "      <td>0.988979</td>\n",
       "      <td>0.166667</td>\n",
       "      <td>6.000000</td>\n",
       "      <td>(22445, 22446, 22444)</td>\n",
       "      <td>(22445, 15659, 14533)</td>\n",
       "    </tr>\n",
       "    <tr>\n",
       "      <th>729</th>\n",
       "      <td>10606</td>\n",
       "      <td>21276</td>\n",
       "      <td>0.989913</td>\n",
       "      <td>1.536585</td>\n",
       "      <td>0.650794</td>\n",
       "      <td>(40174, 19100, 11556)</td>\n",
       "      <td>(40174, 19100, 10448)</td>\n",
       "    </tr>\n",
       "  </tbody>\n",
       "</table>\n",
       "<p>1501 rows × 7 columns</p>\n",
       "</div>"
      ],
      "text/plain": [
       "          i      j      corr  p_i_given_j  p_j_given_i                 topk_i  \\\n",
       "242    3449  12687  0.900040     0.383721     2.606061  (44951, 43350, 14407)   \n",
       "884   12484  18885  0.900180     0.326733     3.060606   (45946, 2367, 14761)   \n",
       "91     1791   5532  0.900326    26.237288     0.038114  (15732, 12736, 13398)   \n",
       "1615  22271   5421  0.900361     3.400000     0.294118  (49074, 39931, 19077)   \n",
       "1095  15029   7773  0.900426     0.244726     4.086207   (48406, 47939, 3405)   \n",
       "...     ...    ...       ...          ...          ...                    ...   \n",
       "1038  14995  12338  0.988613     0.200000     5.000000   (33136, 1498, 26428)   \n",
       "371    5962  16774  0.988714     1.084337     0.922222  (28951, 42325, 14947)   \n",
       "510    7655  18096  0.988953     0.390625     2.560000  (34909, 13273, 42029)   \n",
       "1413  19890  17603  0.988979     0.166667     6.000000  (22445, 22446, 22444)   \n",
       "729   10606  21276  0.989913     1.536585     0.650794  (40174, 19100, 11556)   \n",
       "\n",
       "                     topk_j  \n",
       "242    (14186, 5993, 31364)  \n",
       "884    (2367, 36883, 45946)  \n",
       "91    (12433, 12736, 47566)  \n",
       "1615   (49074, 19077, 5778)  \n",
       "1095    (48406, 5577, 3405)  \n",
       "...                     ...  \n",
       "1038  (33136, 14679, 11605)  \n",
       "371   (14947, 38835, 19215)  \n",
       "510   (23675, 13273, 34909)  \n",
       "1413  (22445, 15659, 14533)  \n",
       "729   (40174, 19100, 10448)  \n",
       "\n",
       "[1501 rows x 7 columns]"
      ]
     },
     "execution_count": 27,
     "metadata": {},
     "output_type": "execute_result"
    }
   ],
   "source": [
    "df_high_corr[(df_high_corr['corr'] < 0.99)].sort_values(by = 'corr')"
   ]
  },
  {
   "cell_type": "code",
   "execution_count": 167,
   "id": "f9147356-8b05-4d41-a4a7-17fdf88bd0bb",
   "metadata": {},
   "outputs": [
    {
     "name": "stdout",
     "output_type": "stream",
     "text": [
      "Loaded pretrained model gpt2-small into HookedTransformer\n"
     ]
    },
    {
     "name": "stderr",
     "output_type": "stream",
     "text": [
      "/home/users/sv226/.local/lib/python3.10/site-packages/sae_lens/sae.py:151: UserWarning: \n",
      "This SAE has non-empty model_from_pretrained_kwargs. \n",
      "For optimal performance, load the model like so:\n",
      "model = HookedSAETransformer.from_pretrained_no_processing(..., **cfg.model_from_pretrained_kwargs)\n",
      "  warnings.warn(\n"
     ]
    }
   ],
   "source": [
    "model, sae1, sae2 = feature_corrs.load_model_and_saes('cpu',\"gpt2-small-res-jb\", 2, 11)"
   ]
  },
  {
   "cell_type": "code",
   "execution_count": 172,
   "id": "56bd7dfa-0eeb-4a03-99fd-e7b49d8d4762",
   "metadata": {},
   "outputs": [
    {
     "data": {
      "text/plain": [
       "' An update to Android 4 @.@ 4 @.@ 2 \" KitKat \" was released in South Korea in November 2013 , and for international models in March 2014 . LG touted a \" noticeable speed boost \" over Jelly Bean , along with battery life improvements , user interface tweaks , and other improvements brought by KitKat . A further update added a new security feature known as \" Knock Code \" ( as introduced by the LG G Pro 2 ) , which allows users to unlock their device by tapping quadrants of the screen in a sequence . \\n'"
      ]
     },
     "execution_count": 172,
     "metadata": {},
     "output_type": "execute_result"
    }
   ],
   "source": [
    "subset[3001]['text']"
   ]
  },
  {
   "cell_type": "code",
   "execution_count": 137,
   "id": "43663f35-3ecf-495c-90e8-9eabb5a93698",
   "metadata": {},
   "outputs": [],
   "source": [
    "c = 1778\n",
    "i = df.iloc[c]['i']\n",
    "j = df.iloc[c]['j']\n",
    "top = subset[set(df.iloc[c]['topk_i']).intersection(set(df.iloc[c]['topk_j'])).pop()]['text']"
   ]
  },
  {
   "cell_type": "code",
   "execution_count": 169,
   "id": "c2e55c82-8bc9-4bcc-99b7-604c9d4ef2d2",
   "metadata": {},
   "outputs": [
    {
     "name": "stdout",
     "output_type": "stream",
     "text": [
      "24332, 18013\n",
      "Ablation: [-0.7657963 -1.       ]\n",
      "Steering: [ 0.10560826 -0.30281886]\n",
      "-----\n",
      "2103, 7145\n",
      "Ablation: [-0.5886012 -0.5282514 -0.5686277]\n",
      "Steering: [0.2767895  0.49146944 0.30850828]\n",
      "-----\n",
      "23522, 7145\n",
      "Ablation: [-0.5471645  -0.39700022 -0.5737705 ]\n",
      "Steering: [0.11575661 0.3322925  0.15558903]\n",
      "-----\n",
      "13673, 11487\n",
      "Ablation: [-0.99421954 -1.         -1.        ]\n",
      "Steering: [0.41155386 0.1287909  0.27189085]\n",
      "-----\n",
      "21243, 20215\n",
      "Ablation: [-0.98818886]\n",
      "Steering: [-0.84351695]\n",
      "-----\n",
      "14468, 8100\n",
      "Ablation: [nan nan]\n",
      "Steering: [nan nan]\n",
      "-----\n",
      "4941, 5692\n",
      "Ablation: [-1.]\n",
      "Steering: [0.7917872]\n",
      "-----\n",
      "23648, 18468\n",
      "Ablation: [-1.]\n",
      "Steering: [-0.01907953]\n",
      "-----\n"
     ]
    }
   ],
   "source": [
    "for c in df.sort_values(by = 'corr', ascending = False).iloc[20:30].index:\n",
    "    i = df.iloc[c]['i']\n",
    "    j = df.iloc[c]['j']\n",
    "    set_int = set(df.iloc[c]['topk_i']).intersection(set(df.iloc[c]['topk_j']))\n",
    "    if len(set_int) == 0:\n",
    "        continue\n",
    "    top = subset[set_int]['text']\n",
    "    #print(top)\n",
    "    reg = run(top, model, sae1, sae2, i, j)\n",
    "    print(f\"{i}, {j}\")\n",
    "    print(f\"Ablation: {((run_with_ablation(top, model, sae1, sae2, i, j, precompute = False) - reg)/reg).detach().numpy()}\")\n",
    "    print(f\"Steering: {((run_with_steering(top, model, sae1, sae2, i, j, precompute = False) - reg)/reg).detach().numpy()}\")\n",
    "    print(\"-----\")"
   ]
  },
  {
   "cell_type": "code",
   "execution_count": 198,
   "id": "b9323c2f-bb8c-4aa6-ab68-d655a59407a3",
   "metadata": {},
   "outputs": [
    {
     "data": {
      "text/plain": [
       "tensor([10.8882], grad_fn=<MeanBackward1>)"
      ]
     },
     "execution_count": 198,
     "metadata": {},
     "output_type": "execute_result"
    }
   ],
   "source": [
    "run(\"Android is Google's Operating System\", model, sae1, sae2, 13673, 11487, precompute = False)"
   ]
  },
  {
   "cell_type": "code",
   "execution_count": 209,
   "id": "1c275118-0a1c-4ec3-868d-2c35116bcc7e",
   "metadata": {},
   "outputs": [
    {
     "data": {
      "text/plain": [
       "tensor([0.], grad_fn=<MeanBackward1>)"
      ]
     },
     "execution_count": 209,
     "metadata": {},
     "output_type": "execute_result"
    }
   ],
   "source": [
    "run_with_steering(\"NBC Universal\", model, sae1, sae2, 4941, 5692)"
   ]
  },
  {
   "cell_type": "code",
   "execution_count": 28,
   "id": "573193e4-da08-4317-a2aa-d671a1c7a76a",
   "metadata": {},
   "outputs": [
    {
     "name": "stdout",
     "output_type": "stream",
     "text": [
      "https://neuronpedia.org/gpt2-small/2-res-jb/10606?embed=true&embedexplanation=true&embedplots=true&embedtest=true&height=300\n"
     ]
    },
    {
     "data": {
      "text/html": [
       "\n",
       "        <iframe\n",
       "            width=\"800\"\n",
       "            height=\"600\"\n",
       "            src=\"https://neuronpedia.org/gpt2-small/2-res-jb/10606?embed=true&embedexplanation=true&embedplots=true&embedtest=true&height=300\"\n",
       "            frameborder=\"0\"\n",
       "            allowfullscreen\n",
       "            \n",
       "        ></iframe>\n",
       "        "
      ],
      "text/plain": [
       "<IPython.lib.display.IFrame at 0x7f858b2a1300>"
      ]
     },
     "metadata": {},
     "output_type": "display_data"
    }
   ],
   "source": [
    "display_dashboard(layer = 2, latent_idx = 10606)"
   ]
  },
  {
   "cell_type": "code",
   "execution_count": 29,
   "id": "23ba3ca4-ba3c-4c50-9d15-491cc510447f",
   "metadata": {},
   "outputs": [
    {
     "name": "stdout",
     "output_type": "stream",
     "text": [
      "https://neuronpedia.org/gpt2-small/11-res-jb/21276?embed=true&embedexplanation=true&embedplots=true&embedtest=true&height=300\n"
     ]
    },
    {
     "data": {
      "text/html": [
       "\n",
       "        <iframe\n",
       "            width=\"800\"\n",
       "            height=\"600\"\n",
       "            src=\"https://neuronpedia.org/gpt2-small/11-res-jb/21276?embed=true&embedexplanation=true&embedplots=true&embedtest=true&height=300\"\n",
       "            frameborder=\"0\"\n",
       "            allowfullscreen\n",
       "            \n",
       "        ></iframe>\n",
       "        "
      ],
      "text/plain": [
       "<IPython.lib.display.IFrame at 0x7f858b432f20>"
      ]
     },
     "metadata": {},
     "output_type": "display_data"
    }
   ],
   "source": [
    "display_dashboard(layer = 11, latent_idx = 21276)"
   ]
  },
  {
   "cell_type": "code",
   "execution_count": 51,
   "id": "a36b7cda-aea4-47bb-8ab6-887ba1966d05",
   "metadata": {},
   "outputs": [
    {
     "data": {
      "text/plain": [
       "tensor(0.6864, grad_fn=<DotBackward0>)"
      ]
     },
     "execution_count": 51,
     "metadata": {},
     "output_type": "execute_result"
    }
   ],
   "source": [
    "sae1.W_dec[411] @ sae2.W_dec[2300]"
   ]
  },
  {
   "cell_type": "markdown",
   "id": "d3e0da32-8338-416a-ad5b-56d69cdc4b29",
   "metadata": {
    "tags": []
   },
   "source": [
    "## diff analysis"
   ]
  },
  {
   "cell_type": "code",
   "execution_count": 85,
   "id": "896b9576-7ce2-468f-a606-4ac8198df2e6",
   "metadata": {},
   "outputs": [],
   "source": [
    "corr = pd.read_pickle(\"correlated_features_2_11_wikitext_50000_0.pkl\")"
   ]
  },
  {
   "cell_type": "code",
   "execution_count": 89,
   "id": "f8d4bf10-2c45-4672-a3a1-2159a357e657",
   "metadata": {},
   "outputs": [
    {
     "data": {
      "text/html": [
       "<div>\n",
       "<style scoped>\n",
       "    .dataframe tbody tr th:only-of-type {\n",
       "        vertical-align: middle;\n",
       "    }\n",
       "\n",
       "    .dataframe tbody tr th {\n",
       "        vertical-align: top;\n",
       "    }\n",
       "\n",
       "    .dataframe thead th {\n",
       "        text-align: right;\n",
       "    }\n",
       "</style>\n",
       "<table border=\"1\" class=\"dataframe\">\n",
       "  <thead>\n",
       "    <tr style=\"text-align: right;\">\n",
       "      <th></th>\n",
       "      <th>i</th>\n",
       "      <th>j</th>\n",
       "      <th>corr</th>\n",
       "      <th>p_i_given_j</th>\n",
       "      <th>p_j_given_i</th>\n",
       "      <th>topk_i</th>\n",
       "      <th>topk_j</th>\n",
       "    </tr>\n",
       "  </thead>\n",
       "  <tbody>\n",
       "    <tr>\n",
       "      <th>0</th>\n",
       "      <td>222</td>\n",
       "      <td>503</td>\n",
       "      <td>0.945623</td>\n",
       "      <td>3.321678</td>\n",
       "      <td>0.301053</td>\n",
       "      <td>(18164, 7360, 13077)</td>\n",
       "      <td>(18164, 8453, 27821)</td>\n",
       "    </tr>\n",
       "    <tr>\n",
       "      <th>1</th>\n",
       "      <td>816</td>\n",
       "      <td>607</td>\n",
       "      <td>0.902800</td>\n",
       "      <td>4.333333</td>\n",
       "      <td>0.230769</td>\n",
       "      <td>(36003, 2222, 26593)</td>\n",
       "      <td>(28537, 33835, 12642)</td>\n",
       "    </tr>\n",
       "    <tr>\n",
       "      <th>2</th>\n",
       "      <td>238</td>\n",
       "      <td>1309</td>\n",
       "      <td>0.917048</td>\n",
       "      <td>0.360000</td>\n",
       "      <td>2.777778</td>\n",
       "      <td>(23952, 4527, 32670)</td>\n",
       "      <td>(4527, 23952, 49175)</td>\n",
       "    </tr>\n",
       "    <tr>\n",
       "      <th>3</th>\n",
       "      <td>404</td>\n",
       "      <td>1504</td>\n",
       "      <td>0.987931</td>\n",
       "      <td>0.331034</td>\n",
       "      <td>3.020833</td>\n",
       "      <td>(40950, 16711, 32454)</td>\n",
       "      <td>(49347, 16711, 40932)</td>\n",
       "    </tr>\n",
       "    <tr>\n",
       "      <th>4</th>\n",
       "      <td>489</td>\n",
       "      <td>1598</td>\n",
       "      <td>0.934711</td>\n",
       "      <td>8.906250</td>\n",
       "      <td>0.112281</td>\n",
       "      <td>(46521, 25113, 9003)</td>\n",
       "      <td>(46521, 25113, 30277)</td>\n",
       "    </tr>\n",
       "    <tr>\n",
       "      <th>...</th>\n",
       "      <td>...</td>\n",
       "      <td>...</td>\n",
       "      <td>...</td>\n",
       "      <td>...</td>\n",
       "      <td>...</td>\n",
       "      <td>...</td>\n",
       "      <td>...</td>\n",
       "    </tr>\n",
       "    <tr>\n",
       "      <th>1795</th>\n",
       "      <td>24200</td>\n",
       "      <td>23376</td>\n",
       "      <td>0.951075</td>\n",
       "      <td>0.705263</td>\n",
       "      <td>1.417910</td>\n",
       "      <td>(17266, 2043, 33440)</td>\n",
       "      <td>(2043, 21036, 41470)</td>\n",
       "    </tr>\n",
       "    <tr>\n",
       "      <th>1796</th>\n",
       "      <td>24204</td>\n",
       "      <td>23406</td>\n",
       "      <td>0.982301</td>\n",
       "      <td>1.455696</td>\n",
       "      <td>0.686957</td>\n",
       "      <td>(7575, 22046, 28540)</td>\n",
       "      <td>(29926, 17955, 28273)</td>\n",
       "    </tr>\n",
       "    <tr>\n",
       "      <th>1797</th>\n",
       "      <td>24271</td>\n",
       "      <td>23840</td>\n",
       "      <td>0.900851</td>\n",
       "      <td>0.500000</td>\n",
       "      <td>2.000000</td>\n",
       "      <td>(17144, 44241, 23406)</td>\n",
       "      <td>(17144, 44241, 23406)</td>\n",
       "    </tr>\n",
       "    <tr>\n",
       "      <th>1798</th>\n",
       "      <td>24279</td>\n",
       "      <td>23543</td>\n",
       "      <td>-0.949063</td>\n",
       "      <td>1.727234</td>\n",
       "      <td>0.578960</td>\n",
       "      <td>(7690, 1476, 35683)</td>\n",
       "      <td>(1, 6, 7)</td>\n",
       "    </tr>\n",
       "    <tr>\n",
       "      <th>1799</th>\n",
       "      <td>24038</td>\n",
       "      <td>24214</td>\n",
       "      <td>0.915688</td>\n",
       "      <td>4.688312</td>\n",
       "      <td>0.213296</td>\n",
       "      <td>(5682, 29680, 14689)</td>\n",
       "      <td>(19071, 18018, 9146)</td>\n",
       "    </tr>\n",
       "  </tbody>\n",
       "</table>\n",
       "<p>1800 rows × 7 columns</p>\n",
       "</div>"
      ],
      "text/plain": [
       "          i      j      corr  p_i_given_j  p_j_given_i                 topk_i  \\\n",
       "0       222    503  0.945623     3.321678     0.301053   (18164, 7360, 13077)   \n",
       "1       816    607  0.902800     4.333333     0.230769   (36003, 2222, 26593)   \n",
       "2       238   1309  0.917048     0.360000     2.777778   (23952, 4527, 32670)   \n",
       "3       404   1504  0.987931     0.331034     3.020833  (40950, 16711, 32454)   \n",
       "4       489   1598  0.934711     8.906250     0.112281   (46521, 25113, 9003)   \n",
       "...     ...    ...       ...          ...          ...                    ...   \n",
       "1795  24200  23376  0.951075     0.705263     1.417910   (17266, 2043, 33440)   \n",
       "1796  24204  23406  0.982301     1.455696     0.686957   (7575, 22046, 28540)   \n",
       "1797  24271  23840  0.900851     0.500000     2.000000  (17144, 44241, 23406)   \n",
       "1798  24279  23543 -0.949063     1.727234     0.578960    (7690, 1476, 35683)   \n",
       "1799  24038  24214  0.915688     4.688312     0.213296   (5682, 29680, 14689)   \n",
       "\n",
       "                     topk_j  \n",
       "0      (18164, 8453, 27821)  \n",
       "1     (28537, 33835, 12642)  \n",
       "2      (4527, 23952, 49175)  \n",
       "3     (49347, 16711, 40932)  \n",
       "4     (46521, 25113, 30277)  \n",
       "...                     ...  \n",
       "1795   (2043, 21036, 41470)  \n",
       "1796  (29926, 17955, 28273)  \n",
       "1797  (17144, 44241, 23406)  \n",
       "1798              (1, 6, 7)  \n",
       "1799   (19071, 18018, 9146)  \n",
       "\n",
       "[1800 rows x 7 columns]"
      ]
     },
     "execution_count": 89,
     "metadata": {},
     "output_type": "execute_result"
    }
   ],
   "source": [
    "merge"
   ]
  },
  {
   "cell_type": "code",
   "execution_count": 86,
   "id": "91b9b6cc-2a51-4261-91a3-98a38d9e73de",
   "metadata": {},
   "outputs": [],
   "source": [
    "diff = pd.read_pickle(\"diff_correlated_features_2_11_wikitext_50000_0.pkl\")"
   ]
  },
  {
   "cell_type": "code",
   "execution_count": 87,
   "id": "f9528c46-9606-4ec6-b6c9-0dd25cfb394c",
   "metadata": {},
   "outputs": [
    {
     "data": {
      "text/html": [
       "<div>\n",
       "<style scoped>\n",
       "    .dataframe tbody tr th:only-of-type {\n",
       "        vertical-align: middle;\n",
       "    }\n",
       "\n",
       "    .dataframe tbody tr th {\n",
       "        vertical-align: top;\n",
       "    }\n",
       "\n",
       "    .dataframe thead th {\n",
       "        text-align: right;\n",
       "    }\n",
       "</style>\n",
       "<table border=\"1\" class=\"dataframe\">\n",
       "  <thead>\n",
       "    <tr style=\"text-align: right;\">\n",
       "      <th></th>\n",
       "      <th>mean</th>\n",
       "      <th>std</th>\n",
       "      <th>count</th>\n",
       "      <th>i</th>\n",
       "      <th>j</th>\n",
       "    </tr>\n",
       "  </thead>\n",
       "  <tbody>\n",
       "    <tr>\n",
       "      <th>98</th>\n",
       "      <td>64.577904</td>\n",
       "      <td>20.773323</td>\n",
       "      <td>16508</td>\n",
       "      <td>1004</td>\n",
       "      <td>7963</td>\n",
       "    </tr>\n",
       "    <tr>\n",
       "      <th>84</th>\n",
       "      <td>18.803213</td>\n",
       "      <td>30.182280</td>\n",
       "      <td>249</td>\n",
       "      <td>1599</td>\n",
       "      <td>2527</td>\n",
       "    </tr>\n",
       "    <tr>\n",
       "      <th>73</th>\n",
       "      <td>16.653334</td>\n",
       "      <td>26.501062</td>\n",
       "      <td>75</td>\n",
       "      <td>602</td>\n",
       "      <td>22135</td>\n",
       "    </tr>\n",
       "    <tr>\n",
       "      <th>60</th>\n",
       "      <td>8.096591</td>\n",
       "      <td>21.870924</td>\n",
       "      <td>176</td>\n",
       "      <td>397</td>\n",
       "      <td>19965</td>\n",
       "    </tr>\n",
       "    <tr>\n",
       "      <th>92</th>\n",
       "      <td>7.470900</td>\n",
       "      <td>24.381979</td>\n",
       "      <td>189</td>\n",
       "      <td>1844</td>\n",
       "      <td>5519</td>\n",
       "    </tr>\n",
       "    <tr>\n",
       "      <th>90</th>\n",
       "      <td>7.255556</td>\n",
       "      <td>25.946777</td>\n",
       "      <td>90</td>\n",
       "      <td>1009</td>\n",
       "      <td>5099</td>\n",
       "    </tr>\n",
       "    <tr>\n",
       "      <th>39</th>\n",
       "      <td>6.153846</td>\n",
       "      <td>21.244352</td>\n",
       "      <td>52</td>\n",
       "      <td>842</td>\n",
       "      <td>13683</td>\n",
       "    </tr>\n",
       "    <tr>\n",
       "      <th>91</th>\n",
       "      <td>4.016807</td>\n",
       "      <td>19.879864</td>\n",
       "      <td>119</td>\n",
       "      <td>1791</td>\n",
       "      <td>5532</td>\n",
       "    </tr>\n",
       "    <tr>\n",
       "      <th>14</th>\n",
       "      <td>3.288066</td>\n",
       "      <td>16.630816</td>\n",
       "      <td>32253</td>\n",
       "      <td>737</td>\n",
       "      <td>7748</td>\n",
       "    </tr>\n",
       "    <tr>\n",
       "      <th>4</th>\n",
       "      <td>2.731707</td>\n",
       "      <td>14.159418</td>\n",
       "      <td>41</td>\n",
       "      <td>489</td>\n",
       "      <td>1598</td>\n",
       "    </tr>\n",
       "    <tr>\n",
       "      <th>80</th>\n",
       "      <td>2.680328</td>\n",
       "      <td>12.553671</td>\n",
       "      <td>122</td>\n",
       "      <td>1584</td>\n",
       "      <td>1866</td>\n",
       "    </tr>\n",
       "    <tr>\n",
       "      <th>56</th>\n",
       "      <td>2.616162</td>\n",
       "      <td>13.450773</td>\n",
       "      <td>99</td>\n",
       "      <td>138</td>\n",
       "      <td>18498</td>\n",
       "    </tr>\n",
       "    <tr>\n",
       "      <th>47</th>\n",
       "      <td>2.321429</td>\n",
       "      <td>19.325531</td>\n",
       "      <td>280</td>\n",
       "      <td>683</td>\n",
       "      <td>15428</td>\n",
       "    </tr>\n",
       "    <tr>\n",
       "      <th>78</th>\n",
       "      <td>2.189189</td>\n",
       "      <td>13.856090</td>\n",
       "      <td>37</td>\n",
       "      <td>528</td>\n",
       "      <td>23948</td>\n",
       "    </tr>\n",
       "    <tr>\n",
       "      <th>11</th>\n",
       "      <td>2.188119</td>\n",
       "      <td>17.058842</td>\n",
       "      <td>101</td>\n",
       "      <td>152</td>\n",
       "      <td>6174</td>\n",
       "    </tr>\n",
       "    <tr>\n",
       "      <th>5</th>\n",
       "      <td>2.034483</td>\n",
       "      <td>15.213606</td>\n",
       "      <td>145</td>\n",
       "      <td>411</td>\n",
       "      <td>2300</td>\n",
       "    </tr>\n",
       "    <tr>\n",
       "      <th>27</th>\n",
       "      <td>1.716216</td>\n",
       "      <td>11.369136</td>\n",
       "      <td>74</td>\n",
       "      <td>795</td>\n",
       "      <td>10408</td>\n",
       "    </tr>\n",
       "    <tr>\n",
       "      <th>0</th>\n",
       "      <td>1.466667</td>\n",
       "      <td>10.599132</td>\n",
       "      <td>585</td>\n",
       "      <td>222</td>\n",
       "      <td>503</td>\n",
       "    </tr>\n",
       "    <tr>\n",
       "      <th>65</th>\n",
       "      <td>1.417391</td>\n",
       "      <td>14.754213</td>\n",
       "      <td>115</td>\n",
       "      <td>348</td>\n",
       "      <td>20183</td>\n",
       "    </tr>\n",
       "    <tr>\n",
       "      <th>75</th>\n",
       "      <td>1.408333</td>\n",
       "      <td>14.231721</td>\n",
       "      <td>120</td>\n",
       "      <td>851</td>\n",
       "      <td>22166</td>\n",
       "    </tr>\n",
       "  </tbody>\n",
       "</table>\n",
       "</div>"
      ],
      "text/plain": [
       "         mean        std  count     i      j\n",
       "98  64.577904  20.773323  16508  1004   7963\n",
       "84  18.803213  30.182280    249  1599   2527\n",
       "73  16.653334  26.501062     75   602  22135\n",
       "60   8.096591  21.870924    176   397  19965\n",
       "92   7.470900  24.381979    189  1844   5519\n",
       "90   7.255556  25.946777     90  1009   5099\n",
       "39   6.153846  21.244352     52   842  13683\n",
       "91   4.016807  19.879864    119  1791   5532\n",
       "14   3.288066  16.630816  32253   737   7748\n",
       "4    2.731707  14.159418     41   489   1598\n",
       "80   2.680328  12.553671    122  1584   1866\n",
       "56   2.616162  13.450773     99   138  18498\n",
       "47   2.321429  19.325531    280   683  15428\n",
       "78   2.189189  13.856090     37   528  23948\n",
       "11   2.188119  17.058842    101   152   6174\n",
       "5    2.034483  15.213606    145   411   2300\n",
       "27   1.716216  11.369136     74   795  10408\n",
       "0    1.466667  10.599132    585   222    503\n",
       "65   1.417391  14.754213    115   348  20183\n",
       "75   1.408333  14.231721    120   851  22166"
      ]
     },
     "execution_count": 87,
     "metadata": {},
     "output_type": "execute_result"
    }
   ],
   "source": [
    "diff.sort_values(by = 'mean', ascending = False).head(20)"
   ]
  },
  {
   "cell_type": "code",
   "execution_count": 90,
   "id": "ec9795c1-e02d-4356-b4cc-5f563bb168ad",
   "metadata": {},
   "outputs": [],
   "source": [
    "merge = diff.merge(corr, on = ['i','j'])"
   ]
  },
  {
   "cell_type": "code",
   "execution_count": 92,
   "id": "6e8b8f45-6191-409a-b5e5-524e87fddb49",
   "metadata": {},
   "outputs": [
    {
     "data": {
      "text/html": [
       "<div>\n",
       "<style scoped>\n",
       "    .dataframe tbody tr th:only-of-type {\n",
       "        vertical-align: middle;\n",
       "    }\n",
       "\n",
       "    .dataframe tbody tr th {\n",
       "        vertical-align: top;\n",
       "    }\n",
       "\n",
       "    .dataframe thead th {\n",
       "        text-align: right;\n",
       "    }\n",
       "</style>\n",
       "<table border=\"1\" class=\"dataframe\">\n",
       "  <thead>\n",
       "    <tr style=\"text-align: right;\">\n",
       "      <th></th>\n",
       "      <th>mean</th>\n",
       "      <th>std</th>\n",
       "      <th>count</th>\n",
       "      <th>i</th>\n",
       "      <th>j</th>\n",
       "      <th>corr</th>\n",
       "      <th>p_i_given_j</th>\n",
       "      <th>p_j_given_i</th>\n",
       "      <th>topk_i</th>\n",
       "      <th>topk_j</th>\n",
       "    </tr>\n",
       "  </thead>\n",
       "  <tbody>\n",
       "    <tr>\n",
       "      <th>98</th>\n",
       "      <td>64.577904</td>\n",
       "      <td>20.773323</td>\n",
       "      <td>16508</td>\n",
       "      <td>1004</td>\n",
       "      <td>7963</td>\n",
       "      <td>-0.908605</td>\n",
       "      <td>1.834610</td>\n",
       "      <td>0.545075</td>\n",
       "      <td>(12463, 4076, 21187)</td>\n",
       "      <td>(1, 6, 7)</td>\n",
       "    </tr>\n",
       "    <tr>\n",
       "      <th>84</th>\n",
       "      <td>18.803213</td>\n",
       "      <td>30.182280</td>\n",
       "      <td>249</td>\n",
       "      <td>1599</td>\n",
       "      <td>2527</td>\n",
       "      <td>0.916674</td>\n",
       "      <td>49.571430</td>\n",
       "      <td>0.020173</td>\n",
       "      <td>(48556, 13947, 487)</td>\n",
       "      <td>(1719, 37168, 48556)</td>\n",
       "    </tr>\n",
       "    <tr>\n",
       "      <th>73</th>\n",
       "      <td>16.653334</td>\n",
       "      <td>26.501062</td>\n",
       "      <td>75</td>\n",
       "      <td>602</td>\n",
       "      <td>22135</td>\n",
       "      <td>0.932773</td>\n",
       "      <td>3.591837</td>\n",
       "      <td>0.278409</td>\n",
       "      <td>(11917, 2423, 32304)</td>\n",
       "      <td>(2423, 32304, 11917)</td>\n",
       "    </tr>\n",
       "    <tr>\n",
       "      <th>60</th>\n",
       "      <td>8.096591</td>\n",
       "      <td>21.870924</td>\n",
       "      <td>176</td>\n",
       "      <td>397</td>\n",
       "      <td>19965</td>\n",
       "      <td>0.928589</td>\n",
       "      <td>0.899628</td>\n",
       "      <td>1.111570</td>\n",
       "      <td>(31961, 5705, 48796)</td>\n",
       "      <td>(31961, 44927, 5705)</td>\n",
       "    </tr>\n",
       "    <tr>\n",
       "      <th>92</th>\n",
       "      <td>7.470900</td>\n",
       "      <td>24.381979</td>\n",
       "      <td>189</td>\n",
       "      <td>1844</td>\n",
       "      <td>5519</td>\n",
       "      <td>0.940174</td>\n",
       "      <td>3.193333</td>\n",
       "      <td>0.313152</td>\n",
       "      <td>(14839, 48259, 4879)</td>\n",
       "      <td>(46038, 13311, 4559)</td>\n",
       "    </tr>\n",
       "    <tr>\n",
       "      <th>...</th>\n",
       "      <td>...</td>\n",
       "      <td>...</td>\n",
       "      <td>...</td>\n",
       "      <td>...</td>\n",
       "      <td>...</td>\n",
       "      <td>...</td>\n",
       "      <td>...</td>\n",
       "      <td>...</td>\n",
       "      <td>...</td>\n",
       "      <td>...</td>\n",
       "    </tr>\n",
       "    <tr>\n",
       "      <th>55</th>\n",
       "      <td>-2.784615</td>\n",
       "      <td>15.704796</td>\n",
       "      <td>195</td>\n",
       "      <td>124</td>\n",
       "      <td>18966</td>\n",
       "      <td>0.923663</td>\n",
       "      <td>0.250000</td>\n",
       "      <td>4.000000</td>\n",
       "      <td>(45751, 26942, 40484)</td>\n",
       "      <td>(39697, 20261, 45751)</td>\n",
       "    </tr>\n",
       "    <tr>\n",
       "      <th>16</th>\n",
       "      <td>-2.819444</td>\n",
       "      <td>21.840538</td>\n",
       "      <td>72</td>\n",
       "      <td>432</td>\n",
       "      <td>8061</td>\n",
       "      <td>0.921694</td>\n",
       "      <td>0.483333</td>\n",
       "      <td>2.068965</td>\n",
       "      <td>(48879, 38086, 30235)</td>\n",
       "      <td>(38086, 30235, 48879)</td>\n",
       "    </tr>\n",
       "    <tr>\n",
       "      <th>66</th>\n",
       "      <td>-3.605430</td>\n",
       "      <td>20.223291</td>\n",
       "      <td>1105</td>\n",
       "      <td>377</td>\n",
       "      <td>20901</td>\n",
       "      <td>0.960688</td>\n",
       "      <td>0.426873</td>\n",
       "      <td>2.342618</td>\n",
       "      <td>(29179, 31573, 16197)</td>\n",
       "      <td>(29179, 31573, 20499)</td>\n",
       "    </tr>\n",
       "    <tr>\n",
       "      <th>62</th>\n",
       "      <td>-3.611369</td>\n",
       "      <td>7.124838</td>\n",
       "      <td>9922</td>\n",
       "      <td>878</td>\n",
       "      <td>19180</td>\n",
       "      <td>0.919704</td>\n",
       "      <td>1.151684</td>\n",
       "      <td>0.868294</td>\n",
       "      <td>(25924, 5793, 91)</td>\n",
       "      <td>(37591, 28655, 28576)</td>\n",
       "    </tr>\n",
       "    <tr>\n",
       "      <th>70</th>\n",
       "      <td>-4.589744</td>\n",
       "      <td>18.604818</td>\n",
       "      <td>39</td>\n",
       "      <td>717</td>\n",
       "      <td>21202</td>\n",
       "      <td>0.956709</td>\n",
       "      <td>2.027778</td>\n",
       "      <td>0.493151</td>\n",
       "      <td>(46516, 39985, 41103)</td>\n",
       "      <td>(38389, 41103, 49231)</td>\n",
       "    </tr>\n",
       "  </tbody>\n",
       "</table>\n",
       "<p>100 rows × 10 columns</p>\n",
       "</div>"
      ],
      "text/plain": [
       "         mean        std  count     i      j      corr  p_i_given_j  \\\n",
       "98  64.577904  20.773323  16508  1004   7963 -0.908605     1.834610   \n",
       "84  18.803213  30.182280    249  1599   2527  0.916674    49.571430   \n",
       "73  16.653334  26.501062     75   602  22135  0.932773     3.591837   \n",
       "60   8.096591  21.870924    176   397  19965  0.928589     0.899628   \n",
       "92   7.470900  24.381979    189  1844   5519  0.940174     3.193333   \n",
       "..        ...        ...    ...   ...    ...       ...          ...   \n",
       "55  -2.784615  15.704796    195   124  18966  0.923663     0.250000   \n",
       "16  -2.819444  21.840538     72   432   8061  0.921694     0.483333   \n",
       "66  -3.605430  20.223291   1105   377  20901  0.960688     0.426873   \n",
       "62  -3.611369   7.124838   9922   878  19180  0.919704     1.151684   \n",
       "70  -4.589744  18.604818     39   717  21202  0.956709     2.027778   \n",
       "\n",
       "    p_j_given_i                 topk_i                 topk_j  \n",
       "98     0.545075   (12463, 4076, 21187)              (1, 6, 7)  \n",
       "84     0.020173    (48556, 13947, 487)   (1719, 37168, 48556)  \n",
       "73     0.278409   (11917, 2423, 32304)   (2423, 32304, 11917)  \n",
       "60     1.111570   (31961, 5705, 48796)   (31961, 44927, 5705)  \n",
       "92     0.313152   (14839, 48259, 4879)   (46038, 13311, 4559)  \n",
       "..          ...                    ...                    ...  \n",
       "55     4.000000  (45751, 26942, 40484)  (39697, 20261, 45751)  \n",
       "16     2.068965  (48879, 38086, 30235)  (38086, 30235, 48879)  \n",
       "66     2.342618  (29179, 31573, 16197)  (29179, 31573, 20499)  \n",
       "62     0.868294      (25924, 5793, 91)  (37591, 28655, 28576)  \n",
       "70     0.493151  (46516, 39985, 41103)  (38389, 41103, 49231)  \n",
       "\n",
       "[100 rows x 10 columns]"
      ]
     },
     "execution_count": 92,
     "metadata": {},
     "output_type": "execute_result"
    }
   ],
   "source": [
    "merge.sort_values(by = 'mean', ascending = False)"
   ]
  },
  {
   "cell_type": "code",
   "execution_count": 66,
   "id": "542eb77e-b697-429f-9743-5839693ab06b",
   "metadata": {},
   "outputs": [
    {
     "data": {
      "text/plain": [
       "4.120108"
      ]
     },
     "execution_count": 66,
     "metadata": {},
     "output_type": "execute_result"
    }
   ],
   "source": [
    "diff['mean'].mean()"
   ]
  },
  {
   "cell_type": "code",
   "execution_count": 102,
   "id": "9cb552c9-7c6f-4b11-9954-93821f8cf8c4",
   "metadata": {},
   "outputs": [
    {
     "data": {
      "text/plain": [
       "' The eyes of slow lorises are forward @-@ facing , which gives stereo vision . Their eyes are large and possess a reflective layer , called the tapetum lucidum , that improves low @-@ light vision . It is possible that this layer blurs the images they see , as the reflected light may interfere with the incoming light . Slow lorises have monochromatic vision , meaning they see in shades of only one color . They lack the opsin gene that would allow them to detect short wavelength light , which includes the colors blue and green . \\n'"
      ]
     },
     "execution_count": 102,
     "metadata": {},
     "output_type": "execute_result"
    }
   ],
   "source": [
    "subset[48556]['text']\n"
   ]
  },
  {
   "cell_type": "code",
   "execution_count": 100,
   "id": "61a22170-4188-454a-9a8f-b7a289ce2d9c",
   "metadata": {},
   "outputs": [
    {
     "data": {
      "text/plain": [
       "Dataset({\n",
       "    features: ['text'],\n",
       "    num_rows: 5000\n",
       "})"
      ]
     },
     "execution_count": 100,
     "metadata": {},
     "output_type": "execute_result"
    }
   ],
   "source": [
    "subset"
   ]
  },
  {
   "cell_type": "code",
   "execution_count": null,
   "id": "961c9bdb-7c66-4ad2-a517-4dae5622270b",
   "metadata": {},
   "outputs": [],
   "source": []
  }
 ],
 "metadata": {
  "kernelspec": {
   "display_name": "Python 3 (ipykernel)",
   "language": "python",
   "name": "python3"
  },
  "language_info": {
   "codemirror_mode": {
    "name": "ipython",
    "version": 3
   },
   "file_extension": ".py",
   "mimetype": "text/x-python",
   "name": "python",
   "nbconvert_exporter": "python",
   "pygments_lexer": "ipython3",
   "version": "3.10.12"
  }
 },
 "nbformat": 4,
 "nbformat_minor": 5
}
